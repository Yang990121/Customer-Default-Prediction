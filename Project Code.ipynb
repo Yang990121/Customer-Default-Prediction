{
 "cells": [
  {
   "cell_type": "markdown",
   "metadata": {},
   "source": [
    "# Group Members:\n",
    "- Yang JiAn: A0233196A\n",
    "- Yuen Jia Jie: A0233224U\n",
    "- Huang Renzhou: A0239579H\n",
    "- Diao Zhuoxuan: A0239446W"
   ]
  },
  {
   "cell_type": "markdown",
   "metadata": {},
   "source": [
    "# Introduction"
   ]
  },
  {
   "cell_type": "markdown",
   "metadata": {},
   "source": [
    "This project attempts to predict credit card default payment and non-default payment next month using various prediction models.\n",
    "This project is taking perspective from the credit risk management entity, whose goal is to set higher bars to default customers to reduce risk of making loss and seek more clients with good credits. Hence, it is crucial to make correct classification and prediction on default and non-default payments."
   ]
  },
  {
   "cell_type": "markdown",
   "metadata": {},
   "source": [
    "## Import Packages"
   ]
  },
  {
   "cell_type": "code",
   "execution_count": 184,
   "metadata": {},
   "outputs": [],
   "source": [
    "import pandas as pd\n",
    "import numpy as np\n",
    "import seaborn as sns\n",
    "import matplotlib.pyplot as plt\n",
    "from sklearn.svm import SVC\n",
    "from sklearn.model_selection import train_test_split\n",
    "from sklearn.model_selection import KFold\n",
    "from sklearn.metrics import roc_auc_score\n",
    "from sklearn.ensemble import RandomForestClassifier\n",
    "from sklearn.tree import DecisionTreeClassifier, DecisionTreeRegressor\n",
    "from sklearn.neighbors import KNeighborsClassifier\n",
    "from sklearn import metrics\n",
    "from sklearn.metrics import plot_confusion_matrix\n",
    "from sklearn.metrics import confusion_matrix, ConfusionMatrixDisplay, RocCurveDisplay\n",
    "from sklearn.linear_model import LogisticRegression\n",
    "from sklearn.model_selection import GridSearchCV\n",
    "from sklearn import tree\n",
    "from sklearn.preprocessing import MinMaxScaler\n",
    "from sklearn.model_selection import RepeatedStratifiedKFold\n",
    "from scipy.stats import ks_2samp\n",
    "import mlxtend\n",
    "from mlxtend.evaluate import bias_variance_decomp\n",
    "from sklearn.neural_network import MLPClassifier\n",
    "from sklearn.manifold import TSNE\n",
    "from sklearn.preprocessing import StandardScaler\n",
    "from sklearn.decomposition import PCA\n",
    "from mpl_toolkits.mplot3d import Axes3D\n",
    "# import tensorflow as tf\n",
    "import warnings\n",
    "warnings.filterwarnings(\"ignore\")\n"
   ]
  },
  {
   "cell_type": "markdown",
   "metadata": {},
   "source": [
    "## Read the files"
   ]
  },
  {
   "cell_type": "markdown",
   "metadata": {},
   "source": [
    "``` \n",
    "data <- read.table(\"card.csv\",sep=\",\",skip=2,header=FALSE)\n",
    "header <- scan(\"card.csv\",sep=\",\",nlines=2,what=character())\n",
    "header <- header[26:50]\n",
    "\n",
    "set.seed(1234)\n",
    "n = length(data$V1)\n",
    "index <- 1:nrow(data)\n",
    "testindex <- sample(index, trunc(n)/4)\n",
    "test.data <- data[testindex,]\n",
    "train.data <- data[-testindex,]\n",
    "\n",
    "colnames(test.data) <- header\n",
    "colnames(train.data) <- header\n",
    "write.csv(test.data, \"test_data.csv\")\n",
    "write.csv(train.data, \"train_data.csv\")\n",
    "```\n",
    "\n",
    "The set seed function provided in question given in R, but we are using Python for our project. Thus we exported the train and test set from R and imported it to Python. In this way, it maintains consistency of the training and testing set."
   ]
  },
  {
   "cell_type": "code",
   "execution_count": 185,
   "metadata": {},
   "outputs": [
    {
     "name": "stdout",
     "output_type": "stream",
     "text": [
      "There are 30000 rows and 25 columns\n"
     ]
    }
   ],
   "source": [
    "df = pd.read_csv('card.csv', header = 1)\n",
    "train_df = pd.read_csv('train_data.csv')\n",
    "test_df = pd.read_csv('test_data.csv')\n",
    "\n",
    "nRow, nCol = df.shape\n",
    "print(f'There are {nRow} rows and {nCol} columns')"
   ]
  },
  {
   "cell_type": "markdown",
   "metadata": {},
   "source": [
    "First look at some of the data to get a rough sensing of what data types and range of data we are working with."
   ]
  },
  {
   "cell_type": "code",
   "execution_count": 186,
   "metadata": {},
   "outputs": [
    {
     "name": "stdout",
     "output_type": "stream",
     "text": [
      "   ID  LIMIT_BAL  SEX  EDUCATION  MARRIAGE  AGE  PAY_0  PAY_2  PAY_3  PAY_4  \\\n",
      "0   1      20000    2          2         1   24      2      2     -1     -1   \n",
      "1   2     120000    2          2         2   26     -1      2      0      0   \n",
      "2   3      90000    2          2         2   34      0      0      0      0   \n",
      "3   4      50000    2          2         1   37      0      0      0      0   \n",
      "4   5      50000    1          2         1   57     -1      0     -1      0   \n",
      "\n",
      "   ...  BILL_AMT4  BILL_AMT5  BILL_AMT6  PAY_AMT1  PAY_AMT2  PAY_AMT3  \\\n",
      "0  ...          0          0          0         0       689         0   \n",
      "1  ...       3272       3455       3261         0      1000      1000   \n",
      "2  ...      14331      14948      15549      1518      1500      1000   \n",
      "3  ...      28314      28959      29547      2000      2019      1200   \n",
      "4  ...      20940      19146      19131      2000     36681     10000   \n",
      "\n",
      "   PAY_AMT4  PAY_AMT5  PAY_AMT6  default payment next month  \n",
      "0         0         0         0                           1  \n",
      "1      1000         0      2000                           1  \n",
      "2      1000      1000      5000                           0  \n",
      "3      1100      1069      1000                           0  \n",
      "4      9000       689       679                           0  \n",
      "\n",
      "[5 rows x 25 columns]\n"
     ]
    }
   ],
   "source": [
    "print(df.head())"
   ]
  },
  {
   "cell_type": "markdown",
   "metadata": {},
   "source": [
    "# Exploratory Data Analysis\n",
    "In this section, we perform an initial investigation of data to discover patterns, and spot anomalies, inconsistencies and missing values with the aid of summary statistics and graphical visualisations."
   ]
  },
  {
   "cell_type": "code",
   "execution_count": 187,
   "metadata": {},
   "outputs": [
    {
     "data": {
      "text/html": [
       "<div>\n",
       "<style scoped>\n",
       "    .dataframe tbody tr th:only-of-type {\n",
       "        vertical-align: middle;\n",
       "    }\n",
       "\n",
       "    .dataframe tbody tr th {\n",
       "        vertical-align: top;\n",
       "    }\n",
       "\n",
       "    .dataframe thead th {\n",
       "        text-align: right;\n",
       "    }\n",
       "</style>\n",
       "<table border=\"1\" class=\"dataframe\">\n",
       "  <thead>\n",
       "    <tr style=\"text-align: right;\">\n",
       "      <th></th>\n",
       "      <th>count</th>\n",
       "      <th>mean</th>\n",
       "      <th>std</th>\n",
       "      <th>min</th>\n",
       "      <th>25%</th>\n",
       "      <th>50%</th>\n",
       "      <th>75%</th>\n",
       "      <th>max</th>\n",
       "    </tr>\n",
       "  </thead>\n",
       "  <tbody>\n",
       "    <tr>\n",
       "      <th>ID</th>\n",
       "      <td>30000.0</td>\n",
       "      <td>15000.500000</td>\n",
       "      <td>8660.398374</td>\n",
       "      <td>1.0</td>\n",
       "      <td>7500.75</td>\n",
       "      <td>15000.5</td>\n",
       "      <td>22500.25</td>\n",
       "      <td>30000.0</td>\n",
       "    </tr>\n",
       "    <tr>\n",
       "      <th>LIMIT_BAL</th>\n",
       "      <td>30000.0</td>\n",
       "      <td>167484.322667</td>\n",
       "      <td>129747.661567</td>\n",
       "      <td>10000.0</td>\n",
       "      <td>50000.00</td>\n",
       "      <td>140000.0</td>\n",
       "      <td>240000.00</td>\n",
       "      <td>1000000.0</td>\n",
       "    </tr>\n",
       "    <tr>\n",
       "      <th>SEX</th>\n",
       "      <td>30000.0</td>\n",
       "      <td>1.603733</td>\n",
       "      <td>0.489129</td>\n",
       "      <td>1.0</td>\n",
       "      <td>1.00</td>\n",
       "      <td>2.0</td>\n",
       "      <td>2.00</td>\n",
       "      <td>2.0</td>\n",
       "    </tr>\n",
       "    <tr>\n",
       "      <th>EDUCATION</th>\n",
       "      <td>30000.0</td>\n",
       "      <td>1.853133</td>\n",
       "      <td>0.790349</td>\n",
       "      <td>0.0</td>\n",
       "      <td>1.00</td>\n",
       "      <td>2.0</td>\n",
       "      <td>2.00</td>\n",
       "      <td>6.0</td>\n",
       "    </tr>\n",
       "    <tr>\n",
       "      <th>MARRIAGE</th>\n",
       "      <td>30000.0</td>\n",
       "      <td>1.551867</td>\n",
       "      <td>0.521970</td>\n",
       "      <td>0.0</td>\n",
       "      <td>1.00</td>\n",
       "      <td>2.0</td>\n",
       "      <td>2.00</td>\n",
       "      <td>3.0</td>\n",
       "    </tr>\n",
       "    <tr>\n",
       "      <th>AGE</th>\n",
       "      <td>30000.0</td>\n",
       "      <td>35.485500</td>\n",
       "      <td>9.217904</td>\n",
       "      <td>21.0</td>\n",
       "      <td>28.00</td>\n",
       "      <td>34.0</td>\n",
       "      <td>41.00</td>\n",
       "      <td>79.0</td>\n",
       "    </tr>\n",
       "    <tr>\n",
       "      <th>PAY_0</th>\n",
       "      <td>30000.0</td>\n",
       "      <td>-0.016700</td>\n",
       "      <td>1.123802</td>\n",
       "      <td>-2.0</td>\n",
       "      <td>-1.00</td>\n",
       "      <td>0.0</td>\n",
       "      <td>0.00</td>\n",
       "      <td>8.0</td>\n",
       "    </tr>\n",
       "    <tr>\n",
       "      <th>PAY_2</th>\n",
       "      <td>30000.0</td>\n",
       "      <td>-0.133767</td>\n",
       "      <td>1.197186</td>\n",
       "      <td>-2.0</td>\n",
       "      <td>-1.00</td>\n",
       "      <td>0.0</td>\n",
       "      <td>0.00</td>\n",
       "      <td>8.0</td>\n",
       "    </tr>\n",
       "    <tr>\n",
       "      <th>PAY_3</th>\n",
       "      <td>30000.0</td>\n",
       "      <td>-0.166200</td>\n",
       "      <td>1.196868</td>\n",
       "      <td>-2.0</td>\n",
       "      <td>-1.00</td>\n",
       "      <td>0.0</td>\n",
       "      <td>0.00</td>\n",
       "      <td>8.0</td>\n",
       "    </tr>\n",
       "    <tr>\n",
       "      <th>PAY_4</th>\n",
       "      <td>30000.0</td>\n",
       "      <td>-0.220667</td>\n",
       "      <td>1.169139</td>\n",
       "      <td>-2.0</td>\n",
       "      <td>-1.00</td>\n",
       "      <td>0.0</td>\n",
       "      <td>0.00</td>\n",
       "      <td>8.0</td>\n",
       "    </tr>\n",
       "    <tr>\n",
       "      <th>PAY_5</th>\n",
       "      <td>30000.0</td>\n",
       "      <td>-0.266200</td>\n",
       "      <td>1.133187</td>\n",
       "      <td>-2.0</td>\n",
       "      <td>-1.00</td>\n",
       "      <td>0.0</td>\n",
       "      <td>0.00</td>\n",
       "      <td>8.0</td>\n",
       "    </tr>\n",
       "    <tr>\n",
       "      <th>PAY_6</th>\n",
       "      <td>30000.0</td>\n",
       "      <td>-0.291100</td>\n",
       "      <td>1.149988</td>\n",
       "      <td>-2.0</td>\n",
       "      <td>-1.00</td>\n",
       "      <td>0.0</td>\n",
       "      <td>0.00</td>\n",
       "      <td>8.0</td>\n",
       "    </tr>\n",
       "    <tr>\n",
       "      <th>BILL_AMT1</th>\n",
       "      <td>30000.0</td>\n",
       "      <td>51223.330900</td>\n",
       "      <td>73635.860576</td>\n",
       "      <td>-165580.0</td>\n",
       "      <td>3558.75</td>\n",
       "      <td>22381.5</td>\n",
       "      <td>67091.00</td>\n",
       "      <td>964511.0</td>\n",
       "    </tr>\n",
       "    <tr>\n",
       "      <th>BILL_AMT2</th>\n",
       "      <td>30000.0</td>\n",
       "      <td>49179.075167</td>\n",
       "      <td>71173.768783</td>\n",
       "      <td>-69777.0</td>\n",
       "      <td>2984.75</td>\n",
       "      <td>21200.0</td>\n",
       "      <td>64006.25</td>\n",
       "      <td>983931.0</td>\n",
       "    </tr>\n",
       "    <tr>\n",
       "      <th>BILL_AMT3</th>\n",
       "      <td>30000.0</td>\n",
       "      <td>47013.154800</td>\n",
       "      <td>69349.387427</td>\n",
       "      <td>-157264.0</td>\n",
       "      <td>2666.25</td>\n",
       "      <td>20088.5</td>\n",
       "      <td>60164.75</td>\n",
       "      <td>1664089.0</td>\n",
       "    </tr>\n",
       "    <tr>\n",
       "      <th>BILL_AMT4</th>\n",
       "      <td>30000.0</td>\n",
       "      <td>43262.948967</td>\n",
       "      <td>64332.856134</td>\n",
       "      <td>-170000.0</td>\n",
       "      <td>2326.75</td>\n",
       "      <td>19052.0</td>\n",
       "      <td>54506.00</td>\n",
       "      <td>891586.0</td>\n",
       "    </tr>\n",
       "    <tr>\n",
       "      <th>BILL_AMT5</th>\n",
       "      <td>30000.0</td>\n",
       "      <td>40311.400967</td>\n",
       "      <td>60797.155770</td>\n",
       "      <td>-81334.0</td>\n",
       "      <td>1763.00</td>\n",
       "      <td>18104.5</td>\n",
       "      <td>50190.50</td>\n",
       "      <td>927171.0</td>\n",
       "    </tr>\n",
       "    <tr>\n",
       "      <th>BILL_AMT6</th>\n",
       "      <td>30000.0</td>\n",
       "      <td>38871.760400</td>\n",
       "      <td>59554.107537</td>\n",
       "      <td>-339603.0</td>\n",
       "      <td>1256.00</td>\n",
       "      <td>17071.0</td>\n",
       "      <td>49198.25</td>\n",
       "      <td>961664.0</td>\n",
       "    </tr>\n",
       "    <tr>\n",
       "      <th>PAY_AMT1</th>\n",
       "      <td>30000.0</td>\n",
       "      <td>5663.580500</td>\n",
       "      <td>16563.280354</td>\n",
       "      <td>0.0</td>\n",
       "      <td>1000.00</td>\n",
       "      <td>2100.0</td>\n",
       "      <td>5006.00</td>\n",
       "      <td>873552.0</td>\n",
       "    </tr>\n",
       "    <tr>\n",
       "      <th>PAY_AMT2</th>\n",
       "      <td>30000.0</td>\n",
       "      <td>5921.163500</td>\n",
       "      <td>23040.870402</td>\n",
       "      <td>0.0</td>\n",
       "      <td>833.00</td>\n",
       "      <td>2009.0</td>\n",
       "      <td>5000.00</td>\n",
       "      <td>1684259.0</td>\n",
       "    </tr>\n",
       "    <tr>\n",
       "      <th>PAY_AMT3</th>\n",
       "      <td>30000.0</td>\n",
       "      <td>5225.681500</td>\n",
       "      <td>17606.961470</td>\n",
       "      <td>0.0</td>\n",
       "      <td>390.00</td>\n",
       "      <td>1800.0</td>\n",
       "      <td>4505.00</td>\n",
       "      <td>896040.0</td>\n",
       "    </tr>\n",
       "    <tr>\n",
       "      <th>PAY_AMT4</th>\n",
       "      <td>30000.0</td>\n",
       "      <td>4826.076867</td>\n",
       "      <td>15666.159744</td>\n",
       "      <td>0.0</td>\n",
       "      <td>296.00</td>\n",
       "      <td>1500.0</td>\n",
       "      <td>4013.25</td>\n",
       "      <td>621000.0</td>\n",
       "    </tr>\n",
       "    <tr>\n",
       "      <th>PAY_AMT5</th>\n",
       "      <td>30000.0</td>\n",
       "      <td>4799.387633</td>\n",
       "      <td>15278.305679</td>\n",
       "      <td>0.0</td>\n",
       "      <td>252.50</td>\n",
       "      <td>1500.0</td>\n",
       "      <td>4031.50</td>\n",
       "      <td>426529.0</td>\n",
       "    </tr>\n",
       "    <tr>\n",
       "      <th>PAY_AMT6</th>\n",
       "      <td>30000.0</td>\n",
       "      <td>5215.502567</td>\n",
       "      <td>17777.465775</td>\n",
       "      <td>0.0</td>\n",
       "      <td>117.75</td>\n",
       "      <td>1500.0</td>\n",
       "      <td>4000.00</td>\n",
       "      <td>528666.0</td>\n",
       "    </tr>\n",
       "    <tr>\n",
       "      <th>default payment next month</th>\n",
       "      <td>30000.0</td>\n",
       "      <td>0.221200</td>\n",
       "      <td>0.415062</td>\n",
       "      <td>0.0</td>\n",
       "      <td>0.00</td>\n",
       "      <td>0.0</td>\n",
       "      <td>0.00</td>\n",
       "      <td>1.0</td>\n",
       "    </tr>\n",
       "  </tbody>\n",
       "</table>\n",
       "</div>"
      ],
      "text/plain": [
       "                              count           mean            std       min  \\\n",
       "ID                          30000.0   15000.500000    8660.398374       1.0   \n",
       "LIMIT_BAL                   30000.0  167484.322667  129747.661567   10000.0   \n",
       "SEX                         30000.0       1.603733       0.489129       1.0   \n",
       "EDUCATION                   30000.0       1.853133       0.790349       0.0   \n",
       "MARRIAGE                    30000.0       1.551867       0.521970       0.0   \n",
       "AGE                         30000.0      35.485500       9.217904      21.0   \n",
       "PAY_0                       30000.0      -0.016700       1.123802      -2.0   \n",
       "PAY_2                       30000.0      -0.133767       1.197186      -2.0   \n",
       "PAY_3                       30000.0      -0.166200       1.196868      -2.0   \n",
       "PAY_4                       30000.0      -0.220667       1.169139      -2.0   \n",
       "PAY_5                       30000.0      -0.266200       1.133187      -2.0   \n",
       "PAY_6                       30000.0      -0.291100       1.149988      -2.0   \n",
       "BILL_AMT1                   30000.0   51223.330900   73635.860576 -165580.0   \n",
       "BILL_AMT2                   30000.0   49179.075167   71173.768783  -69777.0   \n",
       "BILL_AMT3                   30000.0   47013.154800   69349.387427 -157264.0   \n",
       "BILL_AMT4                   30000.0   43262.948967   64332.856134 -170000.0   \n",
       "BILL_AMT5                   30000.0   40311.400967   60797.155770  -81334.0   \n",
       "BILL_AMT6                   30000.0   38871.760400   59554.107537 -339603.0   \n",
       "PAY_AMT1                    30000.0    5663.580500   16563.280354       0.0   \n",
       "PAY_AMT2                    30000.0    5921.163500   23040.870402       0.0   \n",
       "PAY_AMT3                    30000.0    5225.681500   17606.961470       0.0   \n",
       "PAY_AMT4                    30000.0    4826.076867   15666.159744       0.0   \n",
       "PAY_AMT5                    30000.0    4799.387633   15278.305679       0.0   \n",
       "PAY_AMT6                    30000.0    5215.502567   17777.465775       0.0   \n",
       "default payment next month  30000.0       0.221200       0.415062       0.0   \n",
       "\n",
       "                                 25%       50%        75%        max  \n",
       "ID                           7500.75   15000.5   22500.25    30000.0  \n",
       "LIMIT_BAL                   50000.00  140000.0  240000.00  1000000.0  \n",
       "SEX                             1.00       2.0       2.00        2.0  \n",
       "EDUCATION                       1.00       2.0       2.00        6.0  \n",
       "MARRIAGE                        1.00       2.0       2.00        3.0  \n",
       "AGE                            28.00      34.0      41.00       79.0  \n",
       "PAY_0                          -1.00       0.0       0.00        8.0  \n",
       "PAY_2                          -1.00       0.0       0.00        8.0  \n",
       "PAY_3                          -1.00       0.0       0.00        8.0  \n",
       "PAY_4                          -1.00       0.0       0.00        8.0  \n",
       "PAY_5                          -1.00       0.0       0.00        8.0  \n",
       "PAY_6                          -1.00       0.0       0.00        8.0  \n",
       "BILL_AMT1                    3558.75   22381.5   67091.00   964511.0  \n",
       "BILL_AMT2                    2984.75   21200.0   64006.25   983931.0  \n",
       "BILL_AMT3                    2666.25   20088.5   60164.75  1664089.0  \n",
       "BILL_AMT4                    2326.75   19052.0   54506.00   891586.0  \n",
       "BILL_AMT5                    1763.00   18104.5   50190.50   927171.0  \n",
       "BILL_AMT6                    1256.00   17071.0   49198.25   961664.0  \n",
       "PAY_AMT1                     1000.00    2100.0    5006.00   873552.0  \n",
       "PAY_AMT2                      833.00    2009.0    5000.00  1684259.0  \n",
       "PAY_AMT3                      390.00    1800.0    4505.00   896040.0  \n",
       "PAY_AMT4                      296.00    1500.0    4013.25   621000.0  \n",
       "PAY_AMT5                      252.50    1500.0    4031.50   426529.0  \n",
       "PAY_AMT6                      117.75    1500.0    4000.00   528666.0  \n",
       "default payment next month      0.00       0.0       0.00        1.0  "
      ]
     },
     "execution_count": 187,
     "metadata": {},
     "output_type": "execute_result"
    }
   ],
   "source": [
    "df.describe().T"
   ]
  },
  {
   "cell_type": "markdown",
   "metadata": {},
   "source": [
    "## Checking for null values"
   ]
  },
  {
   "cell_type": "code",
   "execution_count": 188,
   "metadata": {},
   "outputs": [
    {
     "data": {
      "text/plain": [
       "ID                            0\n",
       "LIMIT_BAL                     0\n",
       "SEX                           0\n",
       "EDUCATION                     0\n",
       "MARRIAGE                      0\n",
       "AGE                           0\n",
       "PAY_0                         0\n",
       "PAY_2                         0\n",
       "PAY_3                         0\n",
       "PAY_4                         0\n",
       "PAY_5                         0\n",
       "PAY_6                         0\n",
       "BILL_AMT1                     0\n",
       "BILL_AMT2                     0\n",
       "BILL_AMT3                     0\n",
       "BILL_AMT4                     0\n",
       "BILL_AMT5                     0\n",
       "BILL_AMT6                     0\n",
       "PAY_AMT1                      0\n",
       "PAY_AMT2                      0\n",
       "PAY_AMT3                      0\n",
       "PAY_AMT4                      0\n",
       "PAY_AMT5                      0\n",
       "PAY_AMT6                      0\n",
       "default payment next month    0\n",
       "dtype: int64"
      ]
     },
     "execution_count": 188,
     "metadata": {},
     "output_type": "execute_result"
    }
   ],
   "source": [
    "# checking for missing values\n",
    "df.isnull().sum()"
   ]
  },
  {
   "cell_type": "markdown",
   "metadata": {},
   "source": [
    "- We see that all 25 columns have 30,000 rows of data. The data is clean and does not have any missing values."
   ]
  },
  {
   "cell_type": "markdown",
   "metadata": {},
   "source": [
    "## Renaming header names for consistency\n",
    "- We see that the repayment status is indicated in columns PAY_0, PAY_2, ... with no PAY_1 column. We rename PAY_0 to PAY_1 to make it consistent with BILL_AMT and PAY_AMT\n",
    "- Column name 'default.payment.next.month' is too long and the use of so many '.' may interefre with some methods. We rename it to 'DEFAULT' for convenience.\n"
   ]
  },
  {
   "cell_type": "code",
   "execution_count": 189,
   "metadata": {},
   "outputs": [],
   "source": [
    "df.rename(columns = {'default payment next month':'DEFAULT', 'PAY_0':'PAY_1'}, inplace = True)\n",
    "train_df.rename(columns = {'default payment next month':'DEFAULT', 'PAY_0':'PAY_1'}, inplace = True)\n",
    "test_df.rename(columns = {'default payment next month':'DEFAULT', 'PAY_0':'PAY_1'}, inplace = True)"
   ]
  },
  {
   "cell_type": "markdown",
   "metadata": {},
   "source": [
    "## Checking for unique values of the categorical variables"
   ]
  },
  {
   "cell_type": "code",
   "execution_count": 190,
   "metadata": {},
   "outputs": [
    {
     "name": "stdout",
     "output_type": "stream",
     "text": [
      "SEX [1, 2]\n",
      "EDUCATION [0, 1, 2, 3, 4, 5, 6]\n",
      "MARRIAGE [0, 1, 2, 3]\n",
      "\n",
      "PAY_1 [-2, -1, 0, 1, 2, 3, 4, 5, 6, 7, 8]\n",
      "PAY_2 [-2, -1, 0, 1, 2, 3, 4, 5, 6, 7, 8]\n",
      "PAY_3 [-2, -1, 0, 1, 2, 3, 4, 5, 6, 7, 8]\n",
      "PAY_4 [-2, -1, 0, 1, 2, 3, 4, 5, 6, 7, 8]\n",
      "PAY_5 [-2, -1, 0, 2, 3, 4, 5, 6, 7, 8]\n",
      "PAY_6 [-2, -1, 0, 2, 3, 4, 5, 6, 7, 8]\n",
      "\n",
      "PAY_AMT1 [-2, -1, 0, 2, 3, 4, 5, 6, 7, 8]\n",
      "PAY_AMT2 [-2, -1, 0, 2, 3, 4, 5, 6, 7, 8]\n",
      "PAY_AMT3 [-2, -1, 0, 2, 3, 4, 5, 6, 7, 8]\n",
      "PAY_AMT4 [-2, -1, 0, 2, 3, 4, 5, 6, 7, 8]\n",
      "PAY_AMT5 [-2, -1, 0, 2, 3, 4, 5, 6, 7, 8]\n",
      "PAY_AMT6 [-2, -1, 0, 2, 3, 4, 5, 6, 7, 8]\n",
      "\n",
      "BILL_AMT1 [-2, -1, 0, 2, 3, 4, 5, 6, 7, 8]\n",
      "BILL_AMT2 [-2, -1, 0, 2, 3, 4, 5, 6, 7, 8]\n",
      "BILL_AMT3 [-2, -1, 0, 2, 3, 4, 5, 6, 7, 8]\n",
      "BILL_AMT4 [-2, -1, 0, 2, 3, 4, 5, 6, 7, 8]\n",
      "BILL_AMT5 [-2, -1, 0, 2, 3, 4, 5, 6, 7, 8]\n",
      "BILL_AMT6 [-2, -1, 0, 2, 3, 4, 5, 6, 7, 8]\n",
      "\n",
      "DEFAULT [0, 1]\n"
     ]
    }
   ],
   "source": [
    "print('SEX ' + str(sorted(df['SEX'].unique())))\n",
    "print('EDUCATION ' + str(sorted(df['EDUCATION'].unique())))\n",
    "print('MARRIAGE ' + str(sorted(df['MARRIAGE'].unique())))\n",
    "print()\n",
    "print('PAY_1 ' + str(sorted(df['PAY_1'].unique())))\n",
    "print('PAY_2 ' + str(sorted(df['PAY_2'].unique())))\n",
    "print('PAY_3 ' + str(sorted(df['PAY_3'].unique())))\n",
    "print('PAY_4 ' + str(sorted(df['PAY_4'].unique())))\n",
    "print('PAY_5 ' + str(sorted(df['PAY_5'].unique())))\n",
    "print('PAY_6 ' + str(sorted(df['PAY_6'].unique())))\n",
    "print()\n",
    "print('PAY_AMT1 ' + str(sorted(df['PAY_6'].unique())))\n",
    "print('PAY_AMT2 ' + str(sorted(df['PAY_6'].unique())))\n",
    "print('PAY_AMT3 ' + str(sorted(df['PAY_6'].unique())))\n",
    "print('PAY_AMT4 ' + str(sorted(df['PAY_6'].unique())))\n",
    "print('PAY_AMT5 ' + str(sorted(df['PAY_6'].unique())))\n",
    "print('PAY_AMT6 ' + str(sorted(df['PAY_6'].unique())))\n",
    "print()\n",
    "print('BILL_AMT1 ' + str(sorted(df['PAY_6'].unique())))\n",
    "print('BILL_AMT2 ' + str(sorted(df['PAY_6'].unique())))\n",
    "print('BILL_AMT3 ' + str(sorted(df['PAY_6'].unique())))\n",
    "print('BILL_AMT4 ' + str(sorted(df['PAY_6'].unique())))\n",
    "print('BILL_AMT5 ' + str(sorted(df['PAY_6'].unique())))\n",
    "print('BILL_AMT6 ' + str(sorted(df['PAY_6'].unique())))\n",
    "print()\n",
    "print('DEFAULT ' + str(sorted(df['DEFAULT'].unique())))"
   ]
  },
  {
   "cell_type": "markdown",
   "metadata": {},
   "source": [
    "- The value in EDUCATION is not defined completely. We will replace the values 0, 5 and 6 with 4 (others) to make it consistent. \n",
    "- Similarly, 0 is not defined in MARRIED. Thus, we will replace the value 0 with 3 (others).\n",
    "- Another finding is that PAY_5 and PAY_6 does not have the factor '1'. Upon investigation, we have come to a conclusion that it is okay because it may just be coincidental that nobody delayed payment for exactly one month in those times.\n",
    "- Furthermore, for the repayment status, 0, -1 and -2 should be subsumed into just one variable which means for duly payment."
   ]
  },
  {
   "cell_type": "markdown",
   "metadata": {},
   "source": [
    "## Handling inconsistencies of variables"
   ]
  },
  {
   "cell_type": "code",
   "execution_count": 191,
   "metadata": {},
   "outputs": [
    {
     "name": "stdout",
     "output_type": "stream",
     "text": [
      "EDUCATION [1, 2, 3, 4]\n"
     ]
    }
   ],
   "source": [
    "fill = (df.EDUCATION == 0) | (df.EDUCATION == 5) | (df.EDUCATION == 6)\n",
    "df.loc[fill, 'EDUCATION'] = 4\n",
    "fill1 = (train_df.EDUCATION == 0) | (train_df.EDUCATION == 5) | (train_df.EDUCATION == 6)\n",
    "train_df.loc[fill1, 'EDUCATION'] = 4\n",
    "fill2 = (test_df.EDUCATION == 0) | (test_df.EDUCATION == 5) | (test_df.EDUCATION == 6)\n",
    "test_df.loc[fill2, 'EDUCATION'] = 4\n",
    "\n",
    "print('EDUCATION ' + str(sorted(df['EDUCATION'].unique())))"
   ]
  },
  {
   "cell_type": "code",
   "execution_count": 192,
   "metadata": {},
   "outputs": [
    {
     "name": "stdout",
     "output_type": "stream",
     "text": [
      "MARRIAGE [1, 2, 3]\n"
     ]
    }
   ],
   "source": [
    "fill = (df.MARRIAGE == 0) \n",
    "df.loc[fill, 'MARRIAGE'] = 3\n",
    "fill1 = (train_df.MARRIAGE == 0) \n",
    "train_df.loc[fill1, 'MARRIAGE'] = 3\n",
    "fill2 = (test_df.MARRIAGE == 0) \n",
    "test_df.loc[fill2, 'MARRIAGE'] = 3\n",
    "\n",
    "print('MARRIAGE ' + str(sorted(df['MARRIAGE'].unique())))\n",
    "\n"
   ]
  },
  {
   "cell_type": "code",
   "execution_count": 193,
   "metadata": {},
   "outputs": [
    {
     "name": "stdout",
     "output_type": "stream",
     "text": [
      "PAY_1 [0, 1, 2, 3, 4, 5, 6, 7, 8]\n",
      "PAY_2 [0, 1, 2, 3, 4, 5, 6, 7, 8]\n",
      "PAY_3 [0, 1, 2, 3, 4, 5, 6, 7, 8]\n",
      "PAY_4 [0, 1, 2, 3, 4, 5, 6, 7, 8]\n",
      "PAY_5 [0, 2, 3, 4, 5, 6, 7, 8]\n",
      "PAY_6 [0, 2, 3, 4, 5, 6, 7, 8]\n"
     ]
    }
   ],
   "source": [
    "fill = (df.PAY_1 == -1) | (df.PAY_1 == -2) \n",
    "df.loc[fill, 'PAY_1'] = 0\n",
    "fill1 = (train_df.PAY_1 == -1) | (train_df.PAY_1 == -2)\n",
    "train_df.loc[fill1, 'PAY_1'] = 0\n",
    "fill2 = (test_df.PAY_1 == -1) | (test_df.PAY_1 == -2)\n",
    "test_df.loc[fill2, 'PAY_1'] = 0\n",
    "\n",
    "fill = (df.PAY_2 == -1) | (df.PAY_2 == -2)\n",
    "df.loc[fill, 'PAY_2'] = 0\n",
    "fill1 = (train_df.PAY_2 == -1) | (train_df.PAY_2 == -2)\n",
    "train_df.loc[fill1, 'PAY_2'] = 0\n",
    "fill2 = (test_df.PAY_2 == -1) | (test_df.PAY_2 == -2)\n",
    "test_df.loc[fill2, 'PAY_2'] = 0\n",
    "\n",
    "fill = (df.PAY_3 == -1) | (df.PAY_3 == -2)\n",
    "df.loc[fill, 'PAY_3'] = 0\n",
    "fill1 = (train_df.PAY_3 == -1) | (train_df.PAY_3 == -2)\n",
    "train_df.loc[fill1, 'PAY_3'] = 0\n",
    "fill2 = (test_df.PAY_3 == -1) | (test_df.PAY_3 == -2)\n",
    "test_df.loc[fill2, 'PAY_3'] = 0\n",
    "\n",
    "fill = (df.PAY_4 == -1) | (df.PAY_4 == -2)\n",
    "df.loc[fill, 'PAY_4'] = 0\n",
    "fill1 = (train_df.PAY_4 == -1) | (train_df.PAY_4 == -2)\n",
    "train_df.loc[fill1, 'PAY_4'] = 0\n",
    "fill2 = (test_df.PAY_4 == -1) | (test_df.PAY_4 == -2)\n",
    "test_df.loc[fill2, 'PAY_4'] = 0\n",
    "\n",
    "fill = (df.PAY_5 == -1) | (df.PAY_5 == -2)\n",
    "df.loc[fill, 'PAY_5'] = 0\n",
    "fill1 = (train_df.PAY_5 == -1) | (train_df.PAY_5 == -2)\n",
    "train_df.loc[fill1, 'PAY_5'] = 0\n",
    "fill2 = (test_df.PAY_5 == -1) | (test_df.PAY_5 == -2)\n",
    "test_df.loc[fill2, 'PAY_5'] = 0\n",
    "\n",
    "fill = (df.PAY_6 == -1) | (df.PAY_6 == -2)\n",
    "df.loc[fill, 'PAY_6'] = 0\n",
    "fill1 = (train_df.PAY_6 == -1) | (train_df.PAY_6 == -2)\n",
    "train_df.loc[fill1, 'PAY_6'] = 0\n",
    "fill2 = (test_df.PAY_6 == -1) | (test_df.PAY_6 == -2)\n",
    "test_df.loc[fill2, 'PAY_6'] = 0\n",
    "\n",
    "\n",
    "print('PAY_1 ' + str(sorted(df['PAY_1'].unique())))\n",
    "print('PAY_2 ' + str(sorted(df['PAY_2'].unique())))\n",
    "print('PAY_3 ' + str(sorted(df['PAY_3'].unique())))\n",
    "print('PAY_4 ' + str(sorted(df['PAY_4'].unique())))\n",
    "print('PAY_5 ' + str(sorted(df['PAY_5'].unique())))\n",
    "print('PAY_6 ' + str(sorted(df['PAY_6'].unique())))\n"
   ]
  },
  {
   "cell_type": "code",
   "execution_count": 194,
   "metadata": {},
   "outputs": [
    {
     "name": "stdout",
     "output_type": "stream",
     "text": [
      "<class 'pandas.core.frame.DataFrame'>\n",
      "RangeIndex: 30000 entries, 0 to 29999\n",
      "Data columns (total 25 columns):\n",
      " #   Column     Non-Null Count  Dtype\n",
      "---  ------     --------------  -----\n",
      " 0   ID         30000 non-null  int64\n",
      " 1   LIMIT_BAL  30000 non-null  int64\n",
      " 2   SEX        30000 non-null  int64\n",
      " 3   EDUCATION  30000 non-null  int64\n",
      " 4   MARRIAGE   30000 non-null  int64\n",
      " 5   AGE        30000 non-null  int64\n",
      " 6   PAY_1      30000 non-null  int64\n",
      " 7   PAY_2      30000 non-null  int64\n",
      " 8   PAY_3      30000 non-null  int64\n",
      " 9   PAY_4      30000 non-null  int64\n",
      " 10  PAY_5      30000 non-null  int64\n",
      " 11  PAY_6      30000 non-null  int64\n",
      " 12  BILL_AMT1  30000 non-null  int64\n",
      " 13  BILL_AMT2  30000 non-null  int64\n",
      " 14  BILL_AMT3  30000 non-null  int64\n",
      " 15  BILL_AMT4  30000 non-null  int64\n",
      " 16  BILL_AMT5  30000 non-null  int64\n",
      " 17  BILL_AMT6  30000 non-null  int64\n",
      " 18  PAY_AMT1   30000 non-null  int64\n",
      " 19  PAY_AMT2   30000 non-null  int64\n",
      " 20  PAY_AMT3   30000 non-null  int64\n",
      " 21  PAY_AMT4   30000 non-null  int64\n",
      " 22  PAY_AMT5   30000 non-null  int64\n",
      " 23  PAY_AMT6   30000 non-null  int64\n",
      " 24  DEFAULT    30000 non-null  int64\n",
      "dtypes: int64(25)\n",
      "memory usage: 5.7 MB\n"
     ]
    }
   ],
   "source": [
    "df.info()"
   ]
  },
  {
   "cell_type": "markdown",
   "metadata": {},
   "source": [
    "## Check proportion of default and non-default for given df, train and test set is same"
   ]
  },
  {
   "cell_type": "markdown",
   "metadata": {},
   "source": [
    "We check that our training and test set has splitted the 2 outcomes in the target variable evenly. After calculation, we see that the proportion of default payments is around 0.22 for the main data set, training set and test set."
   ]
  },
  {
   "cell_type": "code",
   "execution_count": 195,
   "metadata": {},
   "outputs": [
    {
     "name": "stdout",
     "output_type": "stream",
     "text": [
      "Percentage of defaulters in original dataset:  22.12 %\n",
      "Percentage of defaulters in training dataset:  22.08 %\n",
      "Percentage of df in testing dataset:  22.24 %\n"
     ]
    }
   ],
   "source": [
    "print('Percentage of defaulters in original dataset: ', round(df['DEFAULT'].value_counts()[1]/len(df) * 100,2), '%')\n",
    "print('Percentage of defaulters in training dataset: ', round(train_df['DEFAULT'].value_counts()[1]/len(train_df) * 100,2), '%')\n",
    "print('Percentage of df in testing dataset: ', round(test_df['DEFAULT'].value_counts()[1]/len(test_df) * 100,2), '%')"
   ]
  },
  {
   "cell_type": "code",
   "execution_count": 196,
   "metadata": {},
   "outputs": [
    {
     "data": {
      "image/png": "[encoded data removed]",
      "text/plain": [
       "<Figure size 1080x360 with 3 Axes>"
      ]
     },
     "metadata": {
      "needs_background": "light"
     },
     "output_type": "display_data"
    }
   ],
   "source": [
    "# Plot 3 graphs to show the distribution of defaulters in the original dataset, training dataset and testing dataset\n",
    "# Plot the 3 graph side by side\n",
    "fig, (ax1, ax2, ax3) = plt.subplots(1, 3, figsize=(15,5))\n",
    "sns.countplot(x='DEFAULT', data=df, ax=ax1)\n",
    "sns.countplot(x='DEFAULT', data=train_df, ax=ax2)\n",
    "sns.countplot(x='DEFAULT', data=test_df, ax=ax3)\n",
    "for p in ax1.patches:\n",
    "    ax1.annotate(format(p.get_height(), '.0f'), (p.get_x() + p.get_width() / 2., p.get_height()), ha = 'center', va = 'center', xytext = (0, 7), textcoords = 'offset points')\n",
    "for p in ax2.patches:\n",
    "    ax2.annotate(format(p.get_height(), '.0f'), (p.get_x() + p.get_width() / 2., p.get_height()), ha = 'center', va = 'center', xytext = (0, 7), textcoords = 'offset points')\n",
    "for p in ax3.patches:\n",
    "    ax3.annotate(format(p.get_height(), '.0f'), (p.get_x() + p.get_width() / 2., p.get_height()), ha = 'center', va = 'center', xytext = (0, 7), textcoords = 'offset points')\n",
    "ax1.set_title('Default Payment Next Month for the main data set')\n",
    "ax2.set_title('Default Payment Next Month for Train Data')\n",
    "ax3.set_title('Default Payment Next Month for Test Data')\n",
    "plt.show()\n"
   ]
  },
  {
   "cell_type": "markdown",
   "metadata": {},
   "source": [
    "## Plotting of graphs to see the trend of the variables, find outliers and anomalies"
   ]
  },
  {
   "cell_type": "code",
   "execution_count": 197,
   "metadata": {},
   "outputs": [
    {
     "data": {
      "image/png": "[encoded data removed]",
      "text/plain": [
       "<Figure size 432x288 with 1 Axes>"
      ]
     },
     "metadata": {
      "needs_background": "light"
     },
     "output_type": "display_data"
    }
   ],
   "source": [
    "# Plot the probability of defaulters in the original dataset\n",
    "def_prob = (df.DEFAULT.value_counts(normalize=True)*100)\n",
    "# round to 2 decimal places\n",
    "def_prob = def_prob.round(2)\n",
    "def_prob.plot(kind='bar')\n",
    "plt.xticks(fontsize=12, rotation=0)\n",
    "plt.yticks(fontsize=12)\n",
    "plt.title('Probability of Defaulters in the main data set')\n",
    "for x,y in zip([0,1],def_prob):\n",
    "    # Center the text\n",
    "    plt.text(x, y, str(y)+'%', ha='center', va='bottom', fontsize=12)\n",
    "plt.xlabel('Default')\n",
    "plt.ylabel('Probability')\n",
    "plt.show()"
   ]
  },
  {
   "cell_type": "markdown",
   "metadata": {},
   "source": [
    "By observation, we can conclude that the compositions of the number of default payments and non-default payments in main, train and test data are roughly the same. Percentage of default payments is around 77.9%, while the percentage of non-fault payments is around 22.1% for all three sets."
   ]
  },
  {
   "cell_type": "code",
   "execution_count": 198,
   "metadata": {},
   "outputs": [
    {
     "data": {
      "text/plain": [
       "(array([0, 1, 2]), [Text(0, 0, '2'), Text(1, 0, '1'), Text(2, 0, '3')])"
      ]
     },
     "execution_count": 198,
     "metadata": {},
     "output_type": "execute_result"
    },
    {
     "data": {
      "image/png": "[encoded data removed]",
      "text/plain": [
       "<Figure size 432x288 with 1 Axes>"
      ]
     },
     "metadata": {
      "needs_background": "light"
     },
     "output_type": "display_data"
    }
   ],
   "source": [
    "df.MARRIAGE.value_counts().plot(kind = 'bar')\n",
    "plt.xticks(fontsize=12, rotation=0)"
   ]
  },
  {
   "cell_type": "code",
   "execution_count": 199,
   "metadata": {},
   "outputs": [
    {
     "data": {
      "text/plain": [
       "<AxesSubplot:>"
      ]
     },
     "execution_count": 199,
     "metadata": {},
     "output_type": "execute_result"
    },
    {
     "data": {
      "image/png": "[encoded data removed]",
      "text/plain": [
       "<Figure size 432x288 with 1 Axes>"
      ]
     },
     "metadata": {
      "needs_background": "light"
     },
     "output_type": "display_data"
    }
   ],
   "source": [
    "df.EDUCATION.value_counts().plot(kind = \"barh\")\n"
   ]
  },
  {
   "cell_type": "code",
   "execution_count": 200,
   "metadata": {},
   "outputs": [],
   "source": [
    "def draw_histograms(df, variables, n_rows, n_cols, n_bins):\n",
    "    fig=plt.figure()\n",
    "    for i, var_name in enumerate(variables):\n",
    "        ax=fig.add_subplot(n_rows,n_cols,i+1)\n",
    "        df[var_name].hist(bins=n_bins,ax=ax)\n",
    "        ax.set_title(var_name)\n",
    "    fig.tight_layout()  # Improves appearance a bit.\n",
    "    plt.show()"
   ]
  },
  {
   "cell_type": "code",
   "execution_count": 201,
   "metadata": {},
   "outputs": [
    {
     "data": {
      "image/png": "[encoded data removed]",
      "text/plain": [
       "<Figure size 432x288 with 6 Axes>"
      ]
     },
     "metadata": {
      "needs_background": "light"
     },
     "output_type": "display_data"
    }
   ],
   "source": [
    "bills = df[['BILL_AMT1','BILL_AMT2', 'BILL_AMT3', 'BILL_AMT4', 'BILL_AMT5', 'BILL_AMT6']]\n",
    "draw_histograms(bills, bills.columns, 2, 3, 20)"
   ]
  },
  {
   "cell_type": "code",
   "execution_count": 202,
   "metadata": {},
   "outputs": [
    {
     "data": {
      "image/png": "[encoded data removed]",
      "text/plain": [
       "<Figure size 432x288 with 6 Axes>"
      ]
     },
     "metadata": {
      "needs_background": "light"
     },
     "output_type": "display_data"
    }
   ],
   "source": [
    "pay = df[['PAY_AMT1','PAY_AMT2', 'PAY_AMT3', 'PAY_AMT4', 'PAY_AMT5', 'PAY_AMT6']]\n",
    "draw_histograms(pay, pay.columns, 2, 3, 20)\n"
   ]
  },
  {
   "cell_type": "code",
   "execution_count": 203,
   "metadata": {},
   "outputs": [
    {
     "data": {
      "image/png": "[encoded data removed]",
      "text/plain": [
       "<Figure size 432x288 with 6 Axes>"
      ]
     },
     "metadata": {
      "needs_background": "light"
     },
     "output_type": "display_data"
    }
   ],
   "source": [
    "late = df[['PAY_1','PAY_2', 'PAY_3', 'PAY_4', 'PAY_5', 'PAY_6']]\n",
    "draw_histograms(late, late.columns, 2, 3, 10)\n"
   ]
  },
  {
   "cell_type": "code",
   "execution_count": 204,
   "metadata": {},
   "outputs": [
    {
     "data": {
      "text/plain": [
       "<AxesSubplot:xlabel='LIMIT_BAL', ylabel='Density'>"
      ]
     },
     "execution_count": 204,
     "metadata": {},
     "output_type": "execute_result"
    },
    {
     "data": {
      "image/png": "[encoded data removed]",
      "text/plain": [
       "<Figure size 720x432 with 1 Axes>"
      ]
     },
     "metadata": {
      "needs_background": "light"
     },
     "output_type": "display_data"
    }
   ],
   "source": [
    "# plot limit balance\n",
    "plt.figure(figsize=(10,6))\n",
    "sns.distplot(df['LIMIT_BAL'], color='r', bins=100, hist_kws={'alpha': 0.4})\n"
   ]
  },
  {
   "cell_type": "code",
   "execution_count": 205,
   "metadata": {},
   "outputs": [
    {
     "data": {
      "text/plain": [
       "<AxesSubplot:xlabel='DEFAULT', ylabel='LIMIT_BAL'>"
      ]
     },
     "execution_count": 205,
     "metadata": {},
     "output_type": "execute_result"
    },
    {
     "data": {
      "image/png": "[encoded data removed]",
      "text/plain": [
       "<Figure size 720x432 with 1 Axes>"
      ]
     },
     "metadata": {
      "needs_background": "light"
     },
     "output_type": "display_data"
    }
   ],
   "source": [
    "# plot boxplot for limit balance by default \n",
    "plt.figure(figsize=(10,6))\n",
    "sns.boxplot(x='DEFAULT', y='LIMIT_BAL', data=df)"
   ]
  },
  {
   "cell_type": "markdown",
   "metadata": {},
   "source": [
    "- From the boxplot, we can see that the limit balance of those who will default is slightly lower than those who will not default. As a result, we gain an understanding that limit balance may play a part in predicting of default payments."
   ]
  },
  {
   "cell_type": "code",
   "execution_count": 206,
   "metadata": {},
   "outputs": [
    {
     "data": {
      "text/plain": [
       "(array([0, 1]), [Text(0, 0, '1'), Text(1, 0, '2')])"
      ]
     },
     "execution_count": 206,
     "metadata": {},
     "output_type": "execute_result"
    },
    {
     "data": {
      "image/png": "[encoded data removed]",
      "text/plain": [
       "<Figure size 432x288 with 1 Axes>"
      ]
     },
     "metadata": {
      "needs_background": "light"
     },
     "output_type": "display_data"
    }
   ],
   "source": [
    "gender = df.groupby(['SEX', 'DEFAULT']).size().unstack(1)\n",
    "gender.plot(kind='bar', stacked = True)\n",
    "plt.xticks(fontsize=12, rotation=0)\n"
   ]
  },
  {
   "cell_type": "code",
   "execution_count": 207,
   "metadata": {},
   "outputs": [
    {
     "data": {
      "text/plain": [
       "SEX  DEFAULT\n",
       "1    0          75.832773\n",
       "     1          24.167227\n",
       "2    0          79.223719\n",
       "     1          20.776281\n",
       "dtype: float64"
      ]
     },
     "execution_count": 207,
     "metadata": {},
     "output_type": "execute_result"
    }
   ],
   "source": [
    "# get percentage of defaulters\n",
    "df.groupby(['SEX', 'DEFAULT']).size().groupby(level=0).apply(lambda x: 100 * x / float(x.sum()))\n"
   ]
  },
  {
   "cell_type": "markdown",
   "metadata": {},
   "source": [
    "- We can see that there is a marginally higher percentage of males who default than females who default. Thus, the input variable \"SEX\" may be an useful input attribute."
   ]
  },
  {
   "cell_type": "code",
   "execution_count": 208,
   "metadata": {},
   "outputs": [
    {
     "data": {
      "text/plain": [
       "(array([0, 1, 2, 3]),\n",
       " [Text(0, 0, '1'), Text(1, 0, '2'), Text(2, 0, '3'), Text(3, 0, '4')])"
      ]
     },
     "execution_count": 208,
     "metadata": {},
     "output_type": "execute_result"
    },
    {
     "data": {
      "image/png": "[encoded data removed]",
      "text/plain": [
       "<Figure size 432x288 with 1 Axes>"
      ]
     },
     "metadata": {
      "needs_background": "light"
     },
     "output_type": "display_data"
    }
   ],
   "source": [
    "education = df.groupby(['EDUCATION', 'DEFAULT']).size().unstack(1)\n",
    "education.plot(kind='bar', stacked = True)\n",
    "plt.xticks(fontsize=12, rotation=0)"
   ]
  },
  {
   "cell_type": "code",
   "execution_count": 209,
   "metadata": {},
   "outputs": [
    {
     "data": {
      "text/plain": [
       "EDUCATION  DEFAULT\n",
       "1          0          80.765234\n",
       "           1          19.234766\n",
       "2          0          76.265146\n",
       "           1          23.734854\n",
       "3          0          74.842384\n",
       "           1          25.157616\n",
       "4          0          92.948718\n",
       "           1           7.051282\n",
       "dtype: float64"
      ]
     },
     "execution_count": 209,
     "metadata": {},
     "output_type": "execute_result"
    }
   ],
   "source": [
    "# get percentage of defaulters\n",
    "df.groupby(['EDUCATION', 'DEFAULT']).size().groupby(level=0).apply(lambda x: 100 * x / float(x.sum()))"
   ]
  },
  {
   "cell_type": "markdown",
   "metadata": {},
   "source": [
    "- We can see that there is a higher percentage of people in high school defaulting as compared to university and graduate school. The 'EDUCATION' attribute could be an useful input attribute for our model."
   ]
  },
  {
   "cell_type": "code",
   "execution_count": 210,
   "metadata": {},
   "outputs": [
    {
     "data": {
      "text/plain": [
       "(array([0, 1, 2]), [Text(0, 0, '1'), Text(1, 0, '2'), Text(2, 0, '3')])"
      ]
     },
     "execution_count": 210,
     "metadata": {},
     "output_type": "execute_result"
    },
    {
     "data": {
      "image/png": "[encoded data removed]",
      "text/plain": [
       "<Figure size 432x288 with 1 Axes>"
      ]
     },
     "metadata": {
      "needs_background": "light"
     },
     "output_type": "display_data"
    }
   ],
   "source": [
    "marriage = df.groupby(['MARRIAGE', 'DEFAULT']).size().unstack(1)\n",
    "marriage.plot(kind='bar', stacked = True)\n",
    "plt.xticks(fontsize=12, rotation=0)"
   ]
  },
  {
   "cell_type": "code",
   "execution_count": 211,
   "metadata": {},
   "outputs": [
    {
     "data": {
      "text/plain": [
       "MARRIAGE  DEFAULT\n",
       "1         0          76.528296\n",
       "          1          23.471704\n",
       "2         0          79.071661\n",
       "          1          20.928339\n",
       "3         0          76.392573\n",
       "          1          23.607427\n",
       "dtype: float64"
      ]
     },
     "execution_count": 211,
     "metadata": {},
     "output_type": "execute_result"
    }
   ],
   "source": [
    "# get percentage of defaulters\n",
    "df.groupby(['MARRIAGE', 'DEFAULT']).size().groupby(level=0).apply(lambda x: 100 * x / float(x.sum()))"
   ]
  },
  {
   "cell_type": "markdown",
   "metadata": {},
   "source": [
    "- We can see that there is a higher percenatge of defaulters in the married and others category, compared to the single category. Thus, the marriage variable can be amn useful input attribute. "
   ]
  },
  {
   "cell_type": "markdown",
   "metadata": {},
   "source": [
    "## Handling Age variable (Data Encoding)"
   ]
  },
  {
   "cell_type": "code",
   "execution_count": 212,
   "metadata": {},
   "outputs": [
    {
     "data": {
      "text/plain": [
       "<AxesSubplot:xlabel='DEFAULT', ylabel='AGE'>"
      ]
     },
     "execution_count": 212,
     "metadata": {},
     "output_type": "execute_result"
    },
    {
     "data": {
      "image/png": "[encoded data removed]",
      "text/plain": [
       "<Figure size 720x432 with 1 Axes>"
      ]
     },
     "metadata": {
      "needs_background": "light"
     },
     "output_type": "display_data"
    }
   ],
   "source": [
    "# plot boxplot for age by default\n",
    "plt.figure(figsize=(10,6))  \n",
    "sns.boxplot(x='DEFAULT', y='AGE', data=df)"
   ]
  },
  {
   "cell_type": "markdown",
   "metadata": {},
   "source": [
    "- As we can see, if we were to just leave the age variable as it is, the age input attribute will be as good as useless since the distribution of age for default and non-default is about the same.\n",
    "- Hence, we will attempt to use Data Encoding on Age variable to see if Age can be useful.\n",
    "- Minimum age is 21, maximum age is 79.\n",
    "- Based on statistics in Singapore, we have decided to split the age groups as [21, 30], [31, 40], [41, 54], [55, 80]. 21-30 years old are young graduates who just joined the workforce and may need money to fund expenses. 31-40 are working adults who are more mature and have a more stable income. 41-54 are individuals who worked for very long and should hold a stable income. Aged 55 and above are either retired individuals or those who need a lot of money to fund their lifestyle after retiring."
   ]
  },
  {
   "cell_type": "code",
   "execution_count": 213,
   "metadata": {},
   "outputs": [],
   "source": [
    "# adding a new column to the dataframe to categorize age\n",
    "bins = [20, 30, 40, 54, 80]\n",
    "bins_names = [1, 2, 3, 4]\n",
    "df['AGE_BIN'] = pd.cut(df['AGE'], bins, labels=bins_names)\n",
    "\n",
    "# do for train and test also\n",
    "train_df['AGE_BIN'] = pd.cut(train_df['AGE'], bins, labels=bins_names)\n",
    "test_df['AGE_BIN'] = pd.cut(test_df['AGE'], bins, labels=bins_names)\n"
   ]
  },
  {
   "cell_type": "code",
   "execution_count": 214,
   "metadata": {},
   "outputs": [
    {
     "data": {
      "text/plain": [
       "1    11013\n",
       "2    10713\n",
       "3     7221\n",
       "4     1053\n",
       "Name: AGE_BIN, dtype: int64"
      ]
     },
     "execution_count": 214,
     "metadata": {},
     "output_type": "execute_result"
    }
   ],
   "source": [
    "# proportion of age\n",
    "df.AGE_BIN.value_counts()"
   ]
  },
  {
   "cell_type": "code",
   "execution_count": 215,
   "metadata": {},
   "outputs": [
    {
     "data": {
      "text/plain": [
       "(array([0, 1, 2, 3]),\n",
       " [Text(0, 0, '1'), Text(1, 0, '2'), Text(2, 0, '3'), Text(3, 0, '4')])"
      ]
     },
     "execution_count": 215,
     "metadata": {},
     "output_type": "execute_result"
    },
    {
     "data": {
      "image/png": "[encoded data removed]",
      "text/plain": [
       "<Figure size 432x288 with 1 Axes>"
      ]
     },
     "metadata": {
      "needs_background": "light"
     },
     "output_type": "display_data"
    }
   ],
   "source": [
    "# plot stacked barchart for age\n",
    "age = df.groupby(['AGE_BIN', 'DEFAULT']).size().unstack(1)\n",
    "age.plot(kind='bar', stacked = True)\n",
    "plt.xticks(fontsize=12, rotation=0)\n"
   ]
  },
  {
   "cell_type": "code",
   "execution_count": 216,
   "metadata": {},
   "outputs": [
    {
     "data": {
      "text/plain": [
       "AGE_BIN  DEFAULT\n",
       "1        0          77.562880\n",
       "         1          22.437120\n",
       "2        0          79.566881\n",
       "         1          20.433119\n",
       "3        0          76.526797\n",
       "         1          23.473203\n",
       "4        0          73.314340\n",
       "         1          26.685660\n",
       "dtype: float64"
      ]
     },
     "execution_count": 216,
     "metadata": {},
     "output_type": "execute_result"
    }
   ],
   "source": [
    "# get percentage of defaulters\n",
    "df.groupby(['AGE_BIN', 'DEFAULT']).size().groupby(level=0).apply(lambda x: 100 * x / float(x.sum()))"
   ]
  },
  {
   "cell_type": "markdown",
   "metadata": {},
   "source": [
    "- From the statistic, we can see that those above 55 are more likely to default. Thus, age can be an useful input attribute for our model."
   ]
  },
  {
   "cell_type": "markdown",
   "metadata": {},
   "source": [
    "## Compress the columns using PCA and make a 3D plot"
   ]
  },
  {
   "cell_type": "code",
   "execution_count": 217,
   "metadata": {},
   "outputs": [
    {
     "data": {
      "image/png": "[encoded data removed]",
      "text/plain": [
       "<Figure size 576x432 with 1 Axes>"
      ]
     },
     "metadata": {
      "needs_background": "light"
     },
     "output_type": "display_data"
    }
   ],
   "source": [
    "# PCA 3D plot of all the variables\n",
    "\n",
    "pca = PCA(n_components=3)\n",
    "pca.fit(df)\n",
    "X = pca.transform(df)\n",
    "fig = plt.figure(1, figsize=(8, 6))\n",
    "plt.clf()\n",
    "ax = Axes3D(fig, rect=[0, 0, .95, 1], elev=48, azim=134)\n",
    "plt.cla()\n",
    "ax.set_xlabel('X')\n",
    "ax.set_ylabel('Y')\n",
    "ax.set_zlabel('Z')\n",
    "# Put more colors for more clusters\n",
    "ax.scatter(X[:, 0], X[:, 1], X[:, 2], c=df['DEFAULT'], cmap=plt.cm.nipy_spectral,\n",
    "              edgecolor='k')\n",
    "    \n",
    "plt.show()\n"
   ]
  },
  {
   "cell_type": "markdown",
   "metadata": {},
   "source": [
    "## T-SNE plot to see if the target is separable"
   ]
  },
  {
   "cell_type": "code",
   "execution_count": 218,
   "metadata": {},
   "outputs": [
    {
     "name": "stdout",
     "output_type": "stream",
     "text": [
      "[t-SNE] Computing 121 nearest neighbors...\n",
      "[t-SNE] Indexed 30000 samples in 0.009s...\n",
      "[t-SNE] Computed neighbors for 30000 samples in 0.510s...\n",
      "[t-SNE] Computed conditional probabilities for sample 1000 / 30000\n",
      "[t-SNE] Computed conditional probabilities for sample 2000 / 30000\n",
      "[t-SNE] Computed conditional probabilities for sample 3000 / 30000\n",
      "[t-SNE] Computed conditional probabilities for sample 4000 / 30000\n",
      "[t-SNE] Computed conditional probabilities for sample 5000 / 30000\n",
      "[t-SNE] Computed conditional probabilities for sample 6000 / 30000\n",
      "[t-SNE] Computed conditional probabilities for sample 7000 / 30000\n",
      "[t-SNE] Computed conditional probabilities for sample 8000 / 30000\n",
      "[t-SNE] Computed conditional probabilities for sample 9000 / 30000\n",
      "[t-SNE] Computed conditional probabilities for sample 10000 / 30000\n",
      "[t-SNE] Computed conditional probabilities for sample 11000 / 30000\n",
      "[t-SNE] Computed conditional probabilities for sample 12000 / 30000\n",
      "[t-SNE] Computed conditional probabilities for sample 13000 / 30000\n",
      "[t-SNE] Computed conditional probabilities for sample 14000 / 30000\n",
      "[t-SNE] Computed conditional probabilities for sample 15000 / 30000\n",
      "[t-SNE] Computed conditional probabilities for sample 16000 / 30000\n",
      "[t-SNE] Computed conditional probabilities for sample 17000 / 30000\n",
      "[t-SNE] Computed conditional probabilities for sample 18000 / 30000\n",
      "[t-SNE] Computed conditional probabilities for sample 19000 / 30000\n",
      "[t-SNE] Computed conditional probabilities for sample 20000 / 30000\n",
      "[t-SNE] Computed conditional probabilities for sample 21000 / 30000\n",
      "[t-SNE] Computed conditional probabilities for sample 22000 / 30000\n",
      "[t-SNE] Computed conditional probabilities for sample 23000 / 30000\n",
      "[t-SNE] Computed conditional probabilities for sample 24000 / 30000\n",
      "[t-SNE] Computed conditional probabilities for sample 25000 / 30000\n",
      "[t-SNE] Computed conditional probabilities for sample 26000 / 30000\n",
      "[t-SNE] Computed conditional probabilities for sample 27000 / 30000\n",
      "[t-SNE] Computed conditional probabilities for sample 28000 / 30000\n",
      "[t-SNE] Computed conditional probabilities for sample 29000 / 30000\n",
      "[t-SNE] Computed conditional probabilities for sample 30000 / 30000\n",
      "[t-SNE] Mean sigma: 0.028514\n",
      "[t-SNE] KL divergence after 250 iterations with early exaggeration: 71.004646\n",
      "[t-SNE] KL divergence after 300 iterations: 2.755406\n"
     ]
    },
    {
     "data": {
      "text/plain": [
       "<AxesSubplot:>"
      ]
     },
     "execution_count": 218,
     "metadata": {},
     "output_type": "execute_result"
    },
    {
     "data": {
      "image/png": "[encoded data removed]",
      "text/plain": [
       "<Figure size 432x288 with 1 Axes>"
      ]
     },
     "metadata": {
      "needs_background": "light"
     },
     "output_type": "display_data"
    }
   ],
   "source": [
    "# t-sne plot\n",
    "# Standardize the data to have a mean of ~0 and a variance of 1\n",
    "X_std = StandardScaler().fit_transform(df)\n",
    "\n",
    "# PCA\n",
    "pca = PCA(n_components=2)\n",
    "principalComponents = pca.fit_transform(X_std)\n",
    "principalDf = pd.DataFrame(data = principalComponents\n",
    "                , columns = ['principal component 1', 'principal component 2'])\n",
    "\n",
    "# t-SNE\n",
    "tsne = TSNE(n_components=2, verbose=1, perplexity=40, n_iter=300, init='pca', learning_rate='auto')\n",
    "tsne_results = tsne.fit_transform(principalDf)\n",
    "\n",
    "sns.scatterplot (\n",
    "    x=tsne_results[:,0], y=tsne_results[:,1],\n",
    "    hue=df['DEFAULT'],\n",
    "    palette=sns.color_palette(\"hls\", 2),\n",
    "    data=df,\n",
    "    legend=\"full\",\n",
    "    alpha=0.3\n",
    "\n",
    ")"
   ]
  },
  {
   "cell_type": "markdown",
   "metadata": {},
   "source": [
    "T-SNE helps us to reduce the dimensionality and visualise the high-dimensional data set. From the plot, we can see that there is no clear distinct cluster. This shows that the target value in the dataset is not linearly separable. \n",
    "\n",
    "Knowing that the target is not linearly separable, we are able to better pick the model and parameter to best predict our target value. \n"
   ]
  },
  {
   "cell_type": "markdown",
   "metadata": {},
   "source": [
    "# Model before feature selection and before taking into account the imbalance of the data"
   ]
  },
  {
   "cell_type": "markdown",
   "metadata": {},
   "source": [
    "We use MinMaxScaler() to transform the data into values between 0 and 1. This is because input variables in different magnitudes will contribute differently to feature selection and fitting of model and this will lead to bias when numbers of larger magnitude gets “prioritised”. MinMaxScaler() serves to deal with such a potential problem.\n",
    "\n",
    "MinMaxScalar subtracts the minimum value in the feature and divides it by the range. This can preserve the shape of the original distribution without changing the information embedded in the data. \n",
    "\n",
    "This will allow the machine learning algorithm to work better and converge faster as the features are transformed to a relatively similar scale and close to Normal Distribution. \n"
   ]
  },
  {
   "cell_type": "markdown",
   "metadata": {},
   "source": [
    "## MinMaxScaler"
   ]
  },
  {
   "cell_type": "code",
   "execution_count": 272,
   "metadata": {},
   "outputs": [],
   "source": [
    "target = 'DEFAULT'\n",
    "predictors = ['LIMIT_BAL', 'SEX', 'EDUCATION', 'MARRIAGE', 'AGE_BIN', \n",
    "                'PAY_1', 'PAY_2', 'PAY_3', 'PAY_4', 'PAY_5', 'PAY_6', \n",
    "                'BILL_AMT1','BILL_AMT2', 'BILL_AMT3', 'BILL_AMT4', 'BILL_AMT5', 'BILL_AMT6',\n",
    "                'PAY_AMT1', 'PAY_AMT2', 'PAY_AMT3', 'PAY_AMT4', 'PAY_AMT5', 'PAY_AMT6']\n",
    "y = df[target]\n",
    "\n",
    "x_train = train_df[predictors]\n",
    "y_train = train_df[target]\n",
    "x_test = test_df[predictors]\n",
    "y_test = test_df[target] \n",
    "\n",
    "xtrain_scaler = MinMaxScaler().fit_transform(x_train)\n",
    "xtest_scaler = MinMaxScaler().fit_transform(x_test)"
   ]
  },
  {
   "cell_type": "code",
   "execution_count": 220,
   "metadata": {},
   "outputs": [
    {
     "name": "stdout",
     "output_type": "stream",
     "text": [
      "Confusion Matrix: \n",
      " [[5591  241]\n",
      " [1168  500]]\n",
      "              precision    recall  f1-score   support\n",
      "\n",
      "           0       0.83      0.96      0.89      5832\n",
      "           1       0.67      0.30      0.42      1668\n",
      "\n",
      "    accuracy                           0.81      7500\n",
      "   macro avg       0.75      0.63      0.65      7500\n",
      "weighted avg       0.79      0.81      0.78      7500\n",
      "\n",
      "Accuracy: 0.8121333333333334\n",
      "Average Class Accuracy:  0.6292182303539884\n",
      "Recall/Sensitivity/True Positive Rate: 0.2997601918465228\n",
      "Precision: 0.6747638326585695\n",
      "F1 Score: 0.41511000415110005\n"
     ]
    }
   ],
   "source": [
    "\n",
    "# svm\n",
    "# use 'rbf' as kernel\n",
    "svc = SVC(kernel='rbf', C=1)\n",
    "best_model = svc.fit(xtrain_scaler, y_train)                       # Fitting model with xtrain_scaler and y_train\n",
    "svc_pred_mms = best_model.predict(xtest_scaler)    # Predicting the results\n",
    "\n",
    "conf_metr = confusion_matrix(y_test, svc_pred_mms)\n",
    "print(\"Confusion Matrix: \\n {}\".format(conf_metr))\n",
    "print(metrics.classification_report(y_test,svc_pred_mms))\n",
    "print(\"Accuracy:\",metrics.accuracy_score(y_test, svc_pred_mms))\n",
    "print(\"Average Class Accuracy: \", metrics.balanced_accuracy_score(y_test, svc_pred_mms))\n",
    "print(\"Recall/Sensitivity/True Positive Rate:\",metrics.recall_score(y_test, svc_pred_mms))\n",
    "print(\"Precision:\",metrics.precision_score(y_test, svc_pred_mms))\n",
    "print(\"F1 Score:\",metrics.f1_score(y_test, svc_pred_mms))"
   ]
  },
  {
   "cell_type": "code",
   "execution_count": 221,
   "metadata": {},
   "outputs": [
    {
     "name": "stdout",
     "output_type": "stream",
     "text": [
      "Confusion Matrix: \n",
      " [[5522  310]\n",
      " [1114  554]]\n",
      "              precision    recall  f1-score   support\n",
      "\n",
      "           0       0.83      0.95      0.89      5832\n",
      "           1       0.64      0.33      0.44      1668\n",
      "\n",
      "    accuracy                           0.81      7500\n",
      "   macro avg       0.74      0.64      0.66      7500\n",
      "weighted avg       0.79      0.81      0.79      7500\n",
      "\n",
      "Accuracy: 0.8101333333333334\n",
      "Average Class Accuracy:  0.6394896428536183\n",
      "Recall/Sensitivity/True Positive Rate: 0.33213429256594723\n",
      "Precision: 0.6412037037037037\n",
      "F1 Score: 0.43759873617693523\n"
     ]
    }
   ],
   "source": [
    "# neural network\n",
    "model = MLPClassifier(activation='relu', solver='adam', random_state=0, hidden_layer_sizes=(16,12,10), batch_size=200)\n",
    "params={'alpha':[0.2, 0.205, 0.21, 0.215,0.22], 'max_iter':[220, 225, 230]}\n",
    "\n",
    "gsv = GridSearchCV(model, params , cv=5, n_jobs=-1, scoring = 'balanced_accuracy')\n",
    "best_model = gsv.fit(xtrain_scaler, y_train)\n",
    "nn_pred_mms = best_model.best_estimator_.predict(xtest_scaler)\n",
    "\n",
    "conf_metr = confusion_matrix(y_test, nn_pred_mms)\n",
    "print(\"Confusion Matrix: \\n {}\".format(conf_metr))\n",
    "print(metrics.classification_report(y_test,nn_pred_mms))\n",
    "print(\"Accuracy:\",metrics.accuracy_score(y_test, nn_pred_mms))\n",
    "print(\"Average Class Accuracy: \", metrics.balanced_accuracy_score(y_test, nn_pred_mms))\n",
    "print(\"Recall/Sensitivity/True Positive Rate:\",metrics.recall_score(y_test, nn_pred_mms))\n",
    "print(\"Precision:\",metrics.precision_score(y_test, nn_pred_mms))\n",
    "print(\"F1 Score:\",metrics.f1_score(y_test, nn_pred_mms))\n"
   ]
  },
  {
   "cell_type": "code",
   "execution_count": 222,
   "metadata": {},
   "outputs": [
    {
     "name": "stdout",
     "output_type": "stream",
     "text": [
      "Best HyperParameter:  {'n_neighbors': 7}\n",
      "Confusion Matrix: \n",
      " [[5473  359]\n",
      " [1155  513]]\n",
      "              precision    recall  f1-score   support\n",
      "\n",
      "           0       0.83      0.94      0.88      5832\n",
      "           1       0.59      0.31      0.40      1668\n",
      "\n",
      "    accuracy                           0.80      7500\n",
      "   macro avg       0.71      0.62      0.64      7500\n",
      "weighted avg       0.77      0.80      0.77      7500\n",
      "\n",
      "Accuracy: 0.7981333333333334\n",
      "Average Class Accuracy:  0.6229985147684322\n",
      "Recall/Sensitivity/True Positive Rate: 0.30755395683453235\n",
      "Precision: 0.588302752293578\n",
      "F1 Score: 0.4039370078740157\n"
     ]
    }
   ],
   "source": [
    "# KNN\n",
    "model = KNeighborsClassifier()\n",
    "n_neighbors = range(1, 21, 2)\n",
    "\n",
    "grid = dict(n_neighbors=n_neighbors)\n",
    "gsv = GridSearchCV(estimator=model, param_grid=grid, n_jobs=-1, cv=5, scoring='balanced_accuracy',error_score=0)\n",
    "best_model = gsv.fit(xtrain_scaler, y_train)\n",
    "knn_pred = best_model.predict(xtest_scaler)\n",
    "\n",
    "print(\"Best HyperParameter: \",gsv.best_params_)\n",
    "conf_metr = metrics.confusion_matrix(y_test, knn_pred)\n",
    "print(\"Confusion Matrix: \\n {}\".format(conf_metr))\n",
    "print(metrics.classification_report(y_test,knn_pred))\n",
    "print(\"Accuracy:\",metrics.accuracy_score(y_test, knn_pred))\n",
    "print(\"Average Class Accuracy: \", metrics.balanced_accuracy_score(y_test, knn_pred))\n",
    "print(\"Recall/Sensitivity/True Positive Rate:\",metrics.recall_score(y_test, knn_pred))\n",
    "print(\"Precision:\",metrics.precision_score(y_test, knn_pred))\n",
    "print(\"F1 Score:\",metrics.f1_score(y_test, knn_pred))\n"
   ]
  },
  {
   "cell_type": "code",
   "execution_count": 273,
   "metadata": {},
   "outputs": [
    {
     "name": "stdout",
     "output_type": "stream",
     "text": [
      "Fitting 5 folds for each of 5 candidates, totalling 25 fits\n",
      "Confusion Matrix: \n",
      " [[5616  216]\n",
      " [1234  434]]\n",
      "              precision    recall  f1-score   support\n",
      "\n",
      "           0       0.82      0.96      0.89      5832\n",
      "           1       0.67      0.26      0.37      1668\n",
      "\n",
      "    accuracy                           0.81      7500\n",
      "   macro avg       0.74      0.61      0.63      7500\n",
      "weighted avg       0.79      0.81      0.77      7500\n",
      "\n",
      "Accuracy: 0.8066666666666666\n",
      "Average Class Accuracy:  0.6115774047428724\n",
      "Recall/Sensitivity/True Positive Rate: 0.26019184652278177\n",
      "Precision: 0.6676923076923077\n",
      "F1 Score: 0.3744607420189819\n"
     ]
    }
   ],
   "source": [
    "# Logistic Regression\n",
    "c_val = [0.1,0.5,1.0,2.0,3.0]\n",
    "\n",
    "logreg = LogisticRegression(solver = 'liblinear')\n",
    "hyperParam = [{'C':c_val}]\n",
    "\n",
    "gsv = GridSearchCV(logreg,hyperParam,cv=5,verbose=1, scoring = 'balanced_accuracy')\n",
    "best_model = gsv.fit(xtrain_scaler, y_train)                       # Fitting model with xtrain_scaler and y_train\n",
    "logreg_pred_mms = best_model.best_estimator_.predict(xtest_scaler) # Predicting the results\n",
    "\n",
    "\n",
    "conf_metr = confusion_matrix(y_test, logreg_pred_mms)\n",
    "print(\"Confusion Matrix: \\n {}\".format(conf_metr))\n",
    "print(metrics.classification_report(y_test,logreg_pred_mms))\n",
    "print(\"Accuracy:\",metrics.accuracy_score(y_test, logreg_pred_mms))\n",
    "print(\"Average Class Accuracy: \", metrics.balanced_accuracy_score(y_test, logreg_pred_mms))\n",
    "print(\"Recall/Sensitivity/True Positive Rate:\",metrics.recall_score(y_test, logreg_pred_mms))\n",
    "print(\"Precision:\",metrics.precision_score(y_test, logreg_pred_mms))\n",
    "print(\"F1 Score:\",metrics.f1_score(y_test, logreg_pred_mms))\n",
    "\n"
   ]
  },
  {
   "cell_type": "code",
   "execution_count": 224,
   "metadata": {},
   "outputs": [
    {
     "name": "stdout",
     "output_type": "stream",
     "text": [
      "Fitting 5 folds for each of 8 candidates, totalling 40 fits\n"
     ]
    }
   ],
   "source": [
    "# Random Forest\n",
    "estimators = [10,50,80,100,150,200,250,300]\n",
    "\n",
    "rf = RandomForestClassifier(max_depth=3,random_state=5)\n",
    "hyperParam = [{'n_estimators':estimators}]\n",
    "\n",
    "gsv = GridSearchCV(rf,hyperParam,cv=5,verbose=1, scoring = 'balanced_accuracy')\n",
    "best_model = gsv.fit(xtrain_scaler, y_train)                       # Fitting model with xtrain_scaler and y_train\n",
    "rf_pred_mms = best_model.best_estimator_.predict(xtest_scaler)\n",
    "\n"
   ]
  },
  {
   "cell_type": "code",
   "execution_count": 225,
   "metadata": {},
   "outputs": [
    {
     "name": "stdout",
     "output_type": "stream",
     "text": [
      "Confusion Matrix: \n",
      " [[5607  225]\n",
      " [1247  421]]\n",
      "              precision    recall  f1-score   support\n",
      "\n",
      "           0       0.82      0.96      0.88      5832\n",
      "           1       0.65      0.25      0.36      1668\n",
      "\n",
      "    accuracy                           0.80      7500\n",
      "   macro avg       0.73      0.61      0.62      7500\n",
      "weighted avg       0.78      0.80      0.77      7500\n",
      "\n",
      "Accuracy: 0.8037333333333333\n",
      "Average Class Accuracy:  0.6069089173105959\n",
      "Recall/Sensitivity/True Positive Rate: 0.25239808153477217\n",
      "Precision: 0.651702786377709\n",
      "F1 Score: 0.36387208297320656\n"
     ]
    }
   ],
   "source": [
    "conf_metr = confusion_matrix(y_test, rf_pred_mms)\n",
    "print(\"Confusion Matrix: \\n {}\".format(conf_metr))\n",
    "print(metrics.classification_report(y_test,rf_pred_mms))\n",
    "print(\"Accuracy:\",metrics.accuracy_score(y_test, rf_pred_mms))\n",
    "print(\"Average Class Accuracy: \", metrics.balanced_accuracy_score(y_test, rf_pred_mms))\n",
    "print(\"Recall/Sensitivity/True Positive Rate:\",metrics.recall_score(y_test, rf_pred_mms))\n",
    "print(\"Precision:\",metrics.precision_score(y_test, rf_pred_mms))\n",
    "print(\"F1 Score:\",metrics.f1_score(y_test, rf_pred_mms))"
   ]
  },
  {
   "cell_type": "code",
   "execution_count": 226,
   "metadata": {},
   "outputs": [
    {
     "name": "stdout",
     "output_type": "stream",
     "text": [
      "Fitting 5 folds for each of 8 candidates, totalling 40 fits\n",
      "Confusion Matrix: \n",
      " [[5480  352]\n",
      " [1056  612]]\n",
      "              precision    recall  f1-score   support\n",
      "\n",
      "           0       0.84      0.94      0.89      5832\n",
      "           1       0.63      0.37      0.47      1668\n",
      "\n",
      "    accuracy                           0.81      7500\n",
      "   macro avg       0.74      0.65      0.68      7500\n",
      "weighted avg       0.79      0.81      0.79      7500\n",
      "\n",
      "Accuracy: 0.8122666666666667\n",
      "Average Class Accuracy: 0.6532749109354492\n",
      "Recall/Sensitivity/True Positive Rate: 0.3669064748201439\n",
      "Precision: 0.6348547717842323\n",
      "F1 Score: 0.46504559270516715\n"
     ]
    }
   ],
   "source": [
    "from xgboost import XGBClassifier\n",
    "\n",
    "xgb = XGBClassifier()\n",
    "estimators = [10,50,80,100,150,200,250,300]\n",
    "hyperParam = [{'n_estimators':estimators}]\n",
    "gsv = GridSearchCV(xgb,hyperParam,cv=5,verbose=1)\n",
    "best_model = gsv.fit(xtrain_scaler, y_train)                      \n",
    "xgb_pred_mms = best_model.best_estimator_.predict(xtest_scaler)  \n",
    "\n",
    "conf_metr = confusion_matrix(y_test, xgb_pred_mms)\n",
    "print(\"Confusion Matrix: \\n {}\".format(conf_metr))\n",
    "print(metrics.classification_report(y_test,xgb_pred_mms))\n",
    "print(\"Accuracy:\",metrics.accuracy_score(y_test, xgb_pred_mms))\n",
    "print(\"Average Class Accuracy:\",metrics.balanced_accuracy_score(y_test, xgb_pred_mms))\n",
    "print(\"Recall/Sensitivity/True Positive Rate:\",metrics.recall_score(y_test, xgb_pred_mms))\n",
    "print(\"Precision:\",metrics.precision_score(y_test, xgb_pred_mms))\n",
    "print(\"F1 Score:\",metrics.f1_score(y_test, xgb_pred_mms))"
   ]
  },
  {
   "cell_type": "markdown",
   "metadata": {},
   "source": [
    "Before we do feature selection we observe some insights from the models \n",
    "  \n",
    "- The accuracy is generally around 0.803 to 0.813, which is relatively high.\n",
    "- However, accuracy can cover for poor performance of models when the data is imbalanced.\n",
    "- The average class accuracy is relatively low due to the imbalance of the dataset.\n",
    "- The recall is generally between 0.252 to 0.332, in terms of predicting default. This is considered very low.\n",
    "  \n",
    "We will see if there will be improvements after doing Feature Selection.\n"
   ]
  },
  {
   "cell_type": "markdown",
   "metadata": {},
   "source": [
    "# Feature Selection\n",
    "In feature selection, we utilise different methods to select those feature variables that contribute significantly to the target variable, and we forfeit the feature variables that have no relation with target variables.\n",
    "\n",
    "In this section, we use the \n",
    "  \n",
    "- Correlation plots to find the correlation of dependent variables with target variables\n",
    "- Chi-2 Test to determine the independence of categorical variables with default payment\n",
    "- Wrapper method such as Forward Selection, Backward Elimination to find the best combination of dependent variables that generate the best prediction model.\n",
    "- Embedded method such as Lasso Regularisation to eliminate non-useful variable\n",
    "  "
   ]
  },
  {
   "cell_type": "markdown",
   "metadata": {},
   "source": [
    "## Filter Methods\n",
    "### Plot correlation graph to get a general sensing of the variables that are impacting the target variable"
   ]
  },
  {
   "cell_type": "code",
   "execution_count": 227,
   "metadata": {},
   "outputs": [
    {
     "data": {
      "text/plain": [
       "<AxesSubplot:>"
      ]
     },
     "execution_count": 227,
     "metadata": {},
     "output_type": "execute_result"
    },
    {
     "data": {
      "image/png": "[encoded data removed]",
      "text/plain": [
       "<Figure size 432x288 with 2 Axes>"
      ]
     },
     "metadata": {
      "needs_background": "light"
     },
     "output_type": "display_data"
    }
   ],
   "source": [
    "# correlation plot with all the variables\n",
    "corr = df.corr()\n",
    "sns.heatmap(corr)\n"
   ]
  },
  {
   "cell_type": "markdown",
   "metadata": {},
   "source": [
    "From the plot, no useful information was extracted due to excessive information. \n",
    "\n",
    "We continue to analyse the correlation plot by parts.\n"
   ]
  },
  {
   "cell_type": "code",
   "execution_count": 228,
   "metadata": {},
   "outputs": [
    {
     "data": {
      "text/plain": [
       "<AxesSubplot:>"
      ]
     },
     "execution_count": 228,
     "metadata": {},
     "output_type": "execute_result"
    },
    {
     "data": {
      "image/png": "[encoded data removed]",
      "text/plain": [
       "<Figure size 432x288 with 2 Axes>"
      ]
     },
     "metadata": {
      "needs_background": "light"
     },
     "output_type": "display_data"
    }
   ],
   "source": [
    "# correlation matrix limit_bal\n",
    "corr = df[['LIMIT_BAL', 'DEFAULT']].corr()\n",
    "sns.heatmap(corr, annot=True, cmap='coolwarm', linewidths=0.2)"
   ]
  },
  {
   "cell_type": "code",
   "execution_count": 229,
   "metadata": {},
   "outputs": [
    {
     "data": {
      "text/html": [
       "<style type=\"text/css\">\n",
       "#T_12abd_row0_col0, #T_12abd_row1_col1, #T_12abd_row2_col2, #T_12abd_row3_col3, #T_12abd_row4_col4, #T_12abd_row5_col5, #T_12abd_row6_col6 {\n",
       "  background-color: #b40426;\n",
       "  color: #f1f1f1;\n",
       "}\n",
       "#T_12abd_row0_col1 {\n",
       "  background-color: #ead5c9;\n",
       "  color: #000000;\n",
       "}\n",
       "#T_12abd_row0_col2 {\n",
       "  background-color: #a6c4fe;\n",
       "  color: #000000;\n",
       "}\n",
       "#T_12abd_row0_col3 {\n",
       "  background-color: #90b2fe;\n",
       "  color: #000000;\n",
       "}\n",
       "#T_12abd_row0_col4 {\n",
       "  background-color: #82a6fb;\n",
       "  color: #f1f1f1;\n",
       "}\n",
       "#T_12abd_row0_col5 {\n",
       "  background-color: #7093f3;\n",
       "  color: #f1f1f1;\n",
       "}\n",
       "#T_12abd_row0_col6, #T_12abd_row4_col1 {\n",
       "  background-color: #7b9ff9;\n",
       "  color: #f1f1f1;\n",
       "}\n",
       "#T_12abd_row1_col0 {\n",
       "  background-color: #e1dad6;\n",
       "  color: #000000;\n",
       "}\n",
       "#T_12abd_row1_col2 {\n",
       "  background-color: #e4d9d2;\n",
       "  color: #000000;\n",
       "}\n",
       "#T_12abd_row1_col3 {\n",
       "  background-color: #aac7fd;\n",
       "  color: #000000;\n",
       "}\n",
       "#T_12abd_row1_col4 {\n",
       "  background-color: #94b6ff;\n",
       "  color: #000000;\n",
       "}\n",
       "#T_12abd_row1_col5 {\n",
       "  background-color: #81a4fb;\n",
       "  color: #f1f1f1;\n",
       "}\n",
       "#T_12abd_row1_col6 {\n",
       "  background-color: #5d7ce6;\n",
       "  color: #f1f1f1;\n",
       "}\n",
       "#T_12abd_row2_col0 {\n",
       "  background-color: #85a8fc;\n",
       "  color: #f1f1f1;\n",
       "}\n",
       "#T_12abd_row2_col1 {\n",
       "  background-color: #dcdddd;\n",
       "  color: #000000;\n",
       "}\n",
       "#T_12abd_row2_col3 {\n",
       "  background-color: #ebd3c6;\n",
       "  color: #000000;\n",
       "}\n",
       "#T_12abd_row2_col4 {\n",
       "  background-color: #bed2f6;\n",
       "  color: #000000;\n",
       "}\n",
       "#T_12abd_row2_col5 {\n",
       "  background-color: #a9c6fd;\n",
       "  color: #000000;\n",
       "}\n",
       "#T_12abd_row2_col6 {\n",
       "  background-color: #4b64d5;\n",
       "  color: #f1f1f1;\n",
       "}\n",
       "#T_12abd_row3_col0 {\n",
       "  background-color: #6687ed;\n",
       "  color: #f1f1f1;\n",
       "}\n",
       "#T_12abd_row3_col1 {\n",
       "  background-color: #96b7ff;\n",
       "  color: #000000;\n",
       "}\n",
       "#T_12abd_row3_col2 {\n",
       "  background-color: #e9d5cb;\n",
       "  color: #000000;\n",
       "}\n",
       "#T_12abd_row3_col4 {\n",
       "  background-color: #f7bca1;\n",
       "  color: #000000;\n",
       "}\n",
       "#T_12abd_row3_col5 {\n",
       "  background-color: #d6dce4;\n",
       "  color: #000000;\n",
       "}\n",
       "#T_12abd_row3_col6 {\n",
       "  background-color: #445acc;\n",
       "  color: #f1f1f1;\n",
       "}\n",
       "#T_12abd_row4_col0 {\n",
       "  background-color: #536edd;\n",
       "  color: #f1f1f1;\n",
       "}\n",
       "#T_12abd_row4_col2 {\n",
       "  background-color: #b6cefa;\n",
       "  color: #000000;\n",
       "}\n",
       "#T_12abd_row4_col3, #T_12abd_row5_col4 {\n",
       "  background-color: #f6bda2;\n",
       "  color: #000000;\n",
       "}\n",
       "#T_12abd_row4_col5 {\n",
       "  background-color: #f7ba9f;\n",
       "  color: #000000;\n",
       "}\n",
       "#T_12abd_row4_col6 {\n",
       "  background-color: #4055c8;\n",
       "  color: #f1f1f1;\n",
       "}\n",
       "#T_12abd_row5_col0, #T_12abd_row5_col6, #T_12abd_row6_col1, #T_12abd_row6_col2, #T_12abd_row6_col3, #T_12abd_row6_col4, #T_12abd_row6_col5 {\n",
       "  background-color: #3b4cc0;\n",
       "  color: #f1f1f1;\n",
       "}\n",
       "#T_12abd_row5_col1 {\n",
       "  background-color: #5f7fe8;\n",
       "  color: #f1f1f1;\n",
       "}\n",
       "#T_12abd_row5_col2 {\n",
       "  background-color: #9abbff;\n",
       "  color: #000000;\n",
       "}\n",
       "#T_12abd_row5_col3 {\n",
       "  background-color: #d1dae9;\n",
       "  color: #000000;\n",
       "}\n",
       "#T_12abd_row6_col0 {\n",
       "  background-color: #455cce;\n",
       "  color: #f1f1f1;\n",
       "}\n",
       "</style>\n",
       "<table id=\"T_12abd_\">\n",
       "  <thead>\n",
       "    <tr>\n",
       "      <th class=\"blank level0\" >&nbsp;</th>\n",
       "      <th class=\"col_heading level0 col0\" >PAY_1</th>\n",
       "      <th class=\"col_heading level0 col1\" >PAY_2</th>\n",
       "      <th class=\"col_heading level0 col2\" >PAY_3</th>\n",
       "      <th class=\"col_heading level0 col3\" >PAY_4</th>\n",
       "      <th class=\"col_heading level0 col4\" >PAY_5</th>\n",
       "      <th class=\"col_heading level0 col5\" >PAY_6</th>\n",
       "      <th class=\"col_heading level0 col6\" >DEFAULT</th>\n",
       "    </tr>\n",
       "  </thead>\n",
       "  <tbody>\n",
       "    <tr>\n",
       "      <th id=\"T_12abd_level0_row0\" class=\"row_heading level0 row0\" >PAY_1</th>\n",
       "      <td id=\"T_12abd_row0_col0\" class=\"data row0 col0\" >1.000000</td>\n",
       "      <td id=\"T_12abd_row0_col1\" class=\"data row0 col1\" >0.698389</td>\n",
       "      <td id=\"T_12abd_row0_col2\" class=\"data row0 col2\" >0.516970</td>\n",
       "      <td id=\"T_12abd_row0_col3\" class=\"data row0 col3\" >0.460224</td>\n",
       "      <td id=\"T_12abd_row0_col4\" class=\"data row0 col4\" >0.424473</td>\n",
       "      <td id=\"T_12abd_row0_col5\" class=\"data row0 col5\" >0.373805</td>\n",
       "      <td id=\"T_12abd_row0_col6\" class=\"data row0 col6\" >0.396019</td>\n",
       "    </tr>\n",
       "    <tr>\n",
       "      <th id=\"T_12abd_level0_row1\" class=\"row_heading level0 row1\" >PAY_2</th>\n",
       "      <td id=\"T_12abd_row1_col0\" class=\"data row1 col0\" >0.698389</td>\n",
       "      <td id=\"T_12abd_row1_col1\" class=\"data row1 col1\" >1.000000</td>\n",
       "      <td id=\"T_12abd_row1_col2\" class=\"data row1 col2\" >0.663529</td>\n",
       "      <td id=\"T_12abd_row1_col3\" class=\"data row1 col3\" >0.512773</td>\n",
       "      <td id=\"T_12abd_row1_col4\" class=\"data row1 col4\" >0.462717</td>\n",
       "      <td id=\"T_12abd_row1_col5\" class=\"data row1 col5\" >0.407086</td>\n",
       "      <td id=\"T_12abd_row1_col6\" class=\"data row1 col6\" >0.327093</td>\n",
       "    </tr>\n",
       "    <tr>\n",
       "      <th id=\"T_12abd_level0_row2\" class=\"row_heading level0 row2\" >PAY_3</th>\n",
       "      <td id=\"T_12abd_row2_col0\" class=\"data row2 col0\" >0.516970</td>\n",
       "      <td id=\"T_12abd_row2_col1\" class=\"data row2 col1\" >0.663529</td>\n",
       "      <td id=\"T_12abd_row2_col2\" class=\"data row2 col2\" >1.000000</td>\n",
       "      <td id=\"T_12abd_row2_col3\" class=\"data row2 col3\" >0.678931</td>\n",
       "      <td id=\"T_12abd_row2_col4\" class=\"data row2 col4\" >0.551430</td>\n",
       "      <td id=\"T_12abd_row2_col5\" class=\"data row2 col5\" >0.492827</td>\n",
       "      <td id=\"T_12abd_row2_col6\" class=\"data row2 col6\" >0.286999</td>\n",
       "    </tr>\n",
       "    <tr>\n",
       "      <th id=\"T_12abd_level0_row3\" class=\"row_heading level0 row3\" >PAY_4</th>\n",
       "      <td id=\"T_12abd_row3_col0\" class=\"data row3 col0\" >0.460224</td>\n",
       "      <td id=\"T_12abd_row3_col1\" class=\"data row3 col1\" >0.512773</td>\n",
       "      <td id=\"T_12abd_row3_col2\" class=\"data row3 col2\" >0.678931</td>\n",
       "      <td id=\"T_12abd_row3_col3\" class=\"data row3 col3\" >1.000000</td>\n",
       "      <td id=\"T_12abd_row3_col4\" class=\"data row3 col4\" >0.745419</td>\n",
       "      <td id=\"T_12abd_row3_col5\" class=\"data row3 col5\" >0.602875</td>\n",
       "      <td id=\"T_12abd_row3_col6\" class=\"data row3 col6\" >0.269055</td>\n",
       "    </tr>\n",
       "    <tr>\n",
       "      <th id=\"T_12abd_level0_row4\" class=\"row_heading level0 row4\" >PAY_5</th>\n",
       "      <td id=\"T_12abd_row4_col0\" class=\"data row4 col0\" >0.424473</td>\n",
       "      <td id=\"T_12abd_row4_col1\" class=\"data row4 col1\" >0.462717</td>\n",
       "      <td id=\"T_12abd_row4_col2\" class=\"data row4 col2\" >0.551430</td>\n",
       "      <td id=\"T_12abd_row4_col3\" class=\"data row4 col3\" >0.745419</td>\n",
       "      <td id=\"T_12abd_row4_col4\" class=\"data row4 col4\" >1.000000</td>\n",
       "      <td id=\"T_12abd_row4_col5\" class=\"data row4 col5\" >0.740357</td>\n",
       "      <td id=\"T_12abd_row4_col6\" class=\"data row4 col6\" >0.260850</td>\n",
       "    </tr>\n",
       "    <tr>\n",
       "      <th id=\"T_12abd_level0_row5\" class=\"row_heading level0 row5\" >PAY_6</th>\n",
       "      <td id=\"T_12abd_row5_col0\" class=\"data row5 col0\" >0.373805</td>\n",
       "      <td id=\"T_12abd_row5_col1\" class=\"data row5 col1\" >0.407086</td>\n",
       "      <td id=\"T_12abd_row5_col2\" class=\"data row5 col2\" >0.492827</td>\n",
       "      <td id=\"T_12abd_row5_col3\" class=\"data row5 col3\" >0.602875</td>\n",
       "      <td id=\"T_12abd_row5_col4\" class=\"data row5 col4\" >0.740357</td>\n",
       "      <td id=\"T_12abd_row5_col5\" class=\"data row5 col5\" >1.000000</td>\n",
       "      <td id=\"T_12abd_row5_col6\" class=\"data row5 col6\" >0.244437</td>\n",
       "    </tr>\n",
       "    <tr>\n",
       "      <th id=\"T_12abd_level0_row6\" class=\"row_heading level0 row6\" >DEFAULT</th>\n",
       "      <td id=\"T_12abd_row6_col0\" class=\"data row6 col0\" >0.396019</td>\n",
       "      <td id=\"T_12abd_row6_col1\" class=\"data row6 col1\" >0.327093</td>\n",
       "      <td id=\"T_12abd_row6_col2\" class=\"data row6 col2\" >0.286999</td>\n",
       "      <td id=\"T_12abd_row6_col3\" class=\"data row6 col3\" >0.269055</td>\n",
       "      <td id=\"T_12abd_row6_col4\" class=\"data row6 col4\" >0.260850</td>\n",
       "      <td id=\"T_12abd_row6_col5\" class=\"data row6 col5\" >0.244437</td>\n",
       "      <td id=\"T_12abd_row6_col6\" class=\"data row6 col6\" >1.000000</td>\n",
       "    </tr>\n",
       "  </tbody>\n",
       "</table>\n"
      ],
      "text/plain": [
       "<pandas.io.formats.style.Styler at 0x7f79d9bd1100>"
      ]
     },
     "execution_count": 229,
     "metadata": {},
     "output_type": "execute_result"
    }
   ],
   "source": [
    "# correlation matrix for pay variables\n",
    "corr = df[['PAY_1','PAY_2', 'PAY_3', 'PAY_4', 'PAY_5', 'PAY_6', 'DEFAULT']].corr()\n",
    "\n",
    "corr.style.background_gradient(cmap='coolwarm')"
   ]
  },
  {
   "cell_type": "code",
   "execution_count": 230,
   "metadata": {},
   "outputs": [
    {
     "data": {
      "text/html": [
       "<style type=\"text/css\">\n",
       "#T_4a4d7_row0_col0, #T_4a4d7_row1_col1, #T_4a4d7_row2_col2, #T_4a4d7_row3_col3, #T_4a4d7_row4_col4, #T_4a4d7_row5_col5, #T_4a4d7_row6_col6 {\n",
       "  background-color: #b40426;\n",
       "  color: #f1f1f1;\n",
       "}\n",
       "#T_4a4d7_row0_col1 {\n",
       "  background-color: #a7c5fe;\n",
       "  color: #000000;\n",
       "}\n",
       "#T_4a4d7_row0_col2 {\n",
       "  background-color: #9bbcff;\n",
       "  color: #000000;\n",
       "}\n",
       "#T_4a4d7_row0_col3 {\n",
       "  background-color: #8badfd;\n",
       "  color: #000000;\n",
       "}\n",
       "#T_4a4d7_row0_col4 {\n",
       "  background-color: #799cf8;\n",
       "  color: #f1f1f1;\n",
       "}\n",
       "#T_4a4d7_row0_col5 {\n",
       "  background-color: #85a8fc;\n",
       "  color: #f1f1f1;\n",
       "}\n",
       "#T_4a4d7_row0_col6, #T_4a4d7_row6_col0, #T_4a4d7_row6_col1, #T_4a4d7_row6_col2, #T_4a4d7_row6_col3, #T_4a4d7_row6_col4, #T_4a4d7_row6_col5 {\n",
       "  background-color: #3b4cc0;\n",
       "  color: #f1f1f1;\n",
       "}\n",
       "#T_4a4d7_row1_col0 {\n",
       "  background-color: #aac7fd;\n",
       "  color: #000000;\n",
       "}\n",
       "#T_4a4d7_row1_col2 {\n",
       "  background-color: #98b9ff;\n",
       "  color: #000000;\n",
       "}\n",
       "#T_4a4d7_row1_col3, #T_4a4d7_row1_col4, #T_4a4d7_row3_col1, #T_4a4d7_row4_col1 {\n",
       "  background-color: #84a7fc;\n",
       "  color: #f1f1f1;\n",
       "}\n",
       "#T_4a4d7_row1_col5, #T_4a4d7_row3_col5, #T_4a4d7_row5_col3 {\n",
       "  background-color: #7b9ff9;\n",
       "  color: #f1f1f1;\n",
       "}\n",
       "#T_4a4d7_row1_col6, #T_4a4d7_row2_col6, #T_4a4d7_row3_col6 {\n",
       "  background-color: #3e51c5;\n",
       "  color: #f1f1f1;\n",
       "}\n",
       "#T_4a4d7_row2_col0 {\n",
       "  background-color: #9fbfff;\n",
       "  color: #000000;\n",
       "}\n",
       "#T_4a4d7_row2_col1 {\n",
       "  background-color: #9abbff;\n",
       "  color: #000000;\n",
       "}\n",
       "#T_4a4d7_row2_col3, #T_4a4d7_row3_col2 {\n",
       "  background-color: #90b2fe;\n",
       "  color: #000000;\n",
       "}\n",
       "#T_4a4d7_row2_col4, #T_4a4d7_row2_col5, #T_4a4d7_row4_col0, #T_4a4d7_row4_col2, #T_4a4d7_row5_col1 {\n",
       "  background-color: #7da0f9;\n",
       "  color: #f1f1f1;\n",
       "}\n",
       "#T_4a4d7_row3_col0 {\n",
       "  background-color: #8fb1fe;\n",
       "  color: #000000;\n",
       "}\n",
       "#T_4a4d7_row3_col4, #T_4a4d7_row4_col3, #T_4a4d7_row4_col5, #T_4a4d7_row5_col4 {\n",
       "  background-color: #7a9df8;\n",
       "  color: #f1f1f1;\n",
       "}\n",
       "#T_4a4d7_row4_col6, #T_4a4d7_row5_col6 {\n",
       "  background-color: #3f53c6;\n",
       "  color: #f1f1f1;\n",
       "}\n",
       "#T_4a4d7_row5_col0 {\n",
       "  background-color: #89acfd;\n",
       "  color: #000000;\n",
       "}\n",
       "#T_4a4d7_row5_col2 {\n",
       "  background-color: #7ea1fa;\n",
       "  color: #f1f1f1;\n",
       "}\n",
       "</style>\n",
       "<table id=\"T_4a4d7_\">\n",
       "  <thead>\n",
       "    <tr>\n",
       "      <th class=\"blank level0\" >&nbsp;</th>\n",
       "      <th class=\"col_heading level0 col0\" >PAY_AMT1</th>\n",
       "      <th class=\"col_heading level0 col1\" >PAY_AMT2</th>\n",
       "      <th class=\"col_heading level0 col2\" >PAY_AMT3</th>\n",
       "      <th class=\"col_heading level0 col3\" >PAY_AMT4</th>\n",
       "      <th class=\"col_heading level0 col4\" >PAY_AMT5</th>\n",
       "      <th class=\"col_heading level0 col5\" >PAY_AMT6</th>\n",
       "      <th class=\"col_heading level0 col6\" >DEFAULT</th>\n",
       "    </tr>\n",
       "  </thead>\n",
       "  <tbody>\n",
       "    <tr>\n",
       "      <th id=\"T_4a4d7_level0_row0\" class=\"row_heading level0 row0\" >PAY_AMT1</th>\n",
       "      <td id=\"T_4a4d7_row0_col0\" class=\"data row0 col0\" >1.000000</td>\n",
       "      <td id=\"T_4a4d7_row0_col1\" class=\"data row0 col1\" >0.285576</td>\n",
       "      <td id=\"T_4a4d7_row0_col2\" class=\"data row0 col2\" >0.252191</td>\n",
       "      <td id=\"T_4a4d7_row0_col3\" class=\"data row0 col3\" >0.199558</td>\n",
       "      <td id=\"T_4a4d7_row0_col4\" class=\"data row0 col4\" >0.148459</td>\n",
       "      <td id=\"T_4a4d7_row0_col5\" class=\"data row0 col5\" >0.185735</td>\n",
       "      <td id=\"T_4a4d7_row0_col6\" class=\"data row0 col6\" >-0.072929</td>\n",
       "    </tr>\n",
       "    <tr>\n",
       "      <th id=\"T_4a4d7_level0_row1\" class=\"row_heading level0 row1\" >PAY_AMT2</th>\n",
       "      <td id=\"T_4a4d7_row1_col0\" class=\"data row1 col0\" >0.285576</td>\n",
       "      <td id=\"T_4a4d7_row1_col1\" class=\"data row1 col1\" >1.000000</td>\n",
       "      <td id=\"T_4a4d7_row1_col2\" class=\"data row1 col2\" >0.244770</td>\n",
       "      <td id=\"T_4a4d7_row1_col3\" class=\"data row1 col3\" >0.180107</td>\n",
       "      <td id=\"T_4a4d7_row1_col4\" class=\"data row1 col4\" >0.180908</td>\n",
       "      <td id=\"T_4a4d7_row1_col5\" class=\"data row1 col5\" >0.157634</td>\n",
       "      <td id=\"T_4a4d7_row1_col6\" class=\"data row1 col6\" >-0.058579</td>\n",
       "    </tr>\n",
       "    <tr>\n",
       "      <th id=\"T_4a4d7_level0_row2\" class=\"row_heading level0 row2\" >PAY_AMT3</th>\n",
       "      <td id=\"T_4a4d7_row2_col0\" class=\"data row2 col0\" >0.252191</td>\n",
       "      <td id=\"T_4a4d7_row2_col1\" class=\"data row2 col1\" >0.244770</td>\n",
       "      <td id=\"T_4a4d7_row2_col2\" class=\"data row2 col2\" >1.000000</td>\n",
       "      <td id=\"T_4a4d7_row2_col3\" class=\"data row2 col3\" >0.216325</td>\n",
       "      <td id=\"T_4a4d7_row2_col4\" class=\"data row2 col4\" >0.159214</td>\n",
       "      <td id=\"T_4a4d7_row2_col5\" class=\"data row2 col5\" >0.162740</td>\n",
       "      <td id=\"T_4a4d7_row2_col6\" class=\"data row2 col6\" >-0.056250</td>\n",
       "    </tr>\n",
       "    <tr>\n",
       "      <th id=\"T_4a4d7_level0_row3\" class=\"row_heading level0 row3\" >PAY_AMT4</th>\n",
       "      <td id=\"T_4a4d7_row3_col0\" class=\"data row3 col0\" >0.199558</td>\n",
       "      <td id=\"T_4a4d7_row3_col1\" class=\"data row3 col1\" >0.180107</td>\n",
       "      <td id=\"T_4a4d7_row3_col2\" class=\"data row3 col2\" >0.216325</td>\n",
       "      <td id=\"T_4a4d7_row3_col3\" class=\"data row3 col3\" >1.000000</td>\n",
       "      <td id=\"T_4a4d7_row3_col4\" class=\"data row3 col4\" >0.151830</td>\n",
       "      <td id=\"T_4a4d7_row3_col5\" class=\"data row3 col5\" >0.157834</td>\n",
       "      <td id=\"T_4a4d7_row3_col6\" class=\"data row3 col6\" >-0.056827</td>\n",
       "    </tr>\n",
       "    <tr>\n",
       "      <th id=\"T_4a4d7_level0_row4\" class=\"row_heading level0 row4\" >PAY_AMT5</th>\n",
       "      <td id=\"T_4a4d7_row4_col0\" class=\"data row4 col0\" >0.148459</td>\n",
       "      <td id=\"T_4a4d7_row4_col1\" class=\"data row4 col1\" >0.180908</td>\n",
       "      <td id=\"T_4a4d7_row4_col2\" class=\"data row4 col2\" >0.159214</td>\n",
       "      <td id=\"T_4a4d7_row4_col3\" class=\"data row4 col3\" >0.151830</td>\n",
       "      <td id=\"T_4a4d7_row4_col4\" class=\"data row4 col4\" >1.000000</td>\n",
       "      <td id=\"T_4a4d7_row4_col5\" class=\"data row4 col5\" >0.154896</td>\n",
       "      <td id=\"T_4a4d7_row4_col6\" class=\"data row4 col6\" >-0.055124</td>\n",
       "    </tr>\n",
       "    <tr>\n",
       "      <th id=\"T_4a4d7_level0_row5\" class=\"row_heading level0 row5\" >PAY_AMT6</th>\n",
       "      <td id=\"T_4a4d7_row5_col0\" class=\"data row5 col0\" >0.185735</td>\n",
       "      <td id=\"T_4a4d7_row5_col1\" class=\"data row5 col1\" >0.157634</td>\n",
       "      <td id=\"T_4a4d7_row5_col2\" class=\"data row5 col2\" >0.162740</td>\n",
       "      <td id=\"T_4a4d7_row5_col3\" class=\"data row5 col3\" >0.157834</td>\n",
       "      <td id=\"T_4a4d7_row5_col4\" class=\"data row5 col4\" >0.154896</td>\n",
       "      <td id=\"T_4a4d7_row5_col5\" class=\"data row5 col5\" >1.000000</td>\n",
       "      <td id=\"T_4a4d7_row5_col6\" class=\"data row5 col6\" >-0.053183</td>\n",
       "    </tr>\n",
       "    <tr>\n",
       "      <th id=\"T_4a4d7_level0_row6\" class=\"row_heading level0 row6\" >DEFAULT</th>\n",
       "      <td id=\"T_4a4d7_row6_col0\" class=\"data row6 col0\" >-0.072929</td>\n",
       "      <td id=\"T_4a4d7_row6_col1\" class=\"data row6 col1\" >-0.058579</td>\n",
       "      <td id=\"T_4a4d7_row6_col2\" class=\"data row6 col2\" >-0.056250</td>\n",
       "      <td id=\"T_4a4d7_row6_col3\" class=\"data row6 col3\" >-0.056827</td>\n",
       "      <td id=\"T_4a4d7_row6_col4\" class=\"data row6 col4\" >-0.055124</td>\n",
       "      <td id=\"T_4a4d7_row6_col5\" class=\"data row6 col5\" >-0.053183</td>\n",
       "      <td id=\"T_4a4d7_row6_col6\" class=\"data row6 col6\" >1.000000</td>\n",
       "    </tr>\n",
       "  </tbody>\n",
       "</table>\n"
      ],
      "text/plain": [
       "<pandas.io.formats.style.Styler at 0x7f79da57f370>"
      ]
     },
     "execution_count": 230,
     "metadata": {},
     "output_type": "execute_result"
    }
   ],
   "source": [
    "# correlation matrix for pay_amt\n",
    "corr = df[['PAY_AMT1','PAY_AMT2', 'PAY_AMT3', 'PAY_AMT4', 'PAY_AMT5', 'PAY_AMT6', 'DEFAULT']].corr()\n",
    "corr.style.background_gradient(cmap='coolwarm')"
   ]
  },
  {
   "cell_type": "code",
   "execution_count": 231,
   "metadata": {},
   "outputs": [
    {
     "data": {
      "text/html": [
       "<style type=\"text/css\">\n",
       "#T_0d910_row0_col0, #T_0d910_row1_col1, #T_0d910_row2_col2, #T_0d910_row3_col3, #T_0d910_row4_col4, #T_0d910_row5_col5, #T_0d910_row6_col6 {\n",
       "  background-color: #b40426;\n",
       "  color: #f1f1f1;\n",
       "}\n",
       "#T_0d910_row0_col1, #T_0d910_row1_col0 {\n",
       "  background-color: #c53334;\n",
       "  color: #f1f1f1;\n",
       "}\n",
       "#T_0d910_row0_col2, #T_0d910_row1_col3, #T_0d910_row2_col0, #T_0d910_row3_col1 {\n",
       "  background-color: #d85646;\n",
       "  color: #f1f1f1;\n",
       "}\n",
       "#T_0d910_row0_col3, #T_0d910_row1_col4, #T_0d910_row3_col0, #T_0d910_row4_col1 {\n",
       "  background-color: #e16751;\n",
       "  color: #f1f1f1;\n",
       "}\n",
       "#T_0d910_row0_col4 {\n",
       "  background-color: #e8765c;\n",
       "  color: #f1f1f1;\n",
       "}\n",
       "#T_0d910_row0_col5 {\n",
       "  background-color: #ed8366;\n",
       "  color: #f1f1f1;\n",
       "}\n",
       "#T_0d910_row0_col6, #T_0d910_row6_col0, #T_0d910_row6_col1, #T_0d910_row6_col2, #T_0d910_row6_col3, #T_0d910_row6_col4, #T_0d910_row6_col5 {\n",
       "  background-color: #3b4cc0;\n",
       "  color: #f1f1f1;\n",
       "}\n",
       "#T_0d910_row1_col2, #T_0d910_row2_col1 {\n",
       "  background-color: #cd423b;\n",
       "  color: #f1f1f1;\n",
       "}\n",
       "#T_0d910_row1_col5, #T_0d910_row4_col0, #T_0d910_row5_col1 {\n",
       "  background-color: #e7745b;\n",
       "  color: #f1f1f1;\n",
       "}\n",
       "#T_0d910_row1_col6, #T_0d910_row2_col6 {\n",
       "  background-color: #3c4ec2;\n",
       "  color: #f1f1f1;\n",
       "}\n",
       "#T_0d910_row2_col3, #T_0d910_row3_col2 {\n",
       "  background-color: #cf453c;\n",
       "  color: #f1f1f1;\n",
       "}\n",
       "#T_0d910_row2_col4, #T_0d910_row4_col2 {\n",
       "  background-color: #da5a49;\n",
       "  color: #f1f1f1;\n",
       "}\n",
       "#T_0d910_row2_col5, #T_0d910_row5_col2 {\n",
       "  background-color: #e36b54;\n",
       "  color: #f1f1f1;\n",
       "}\n",
       "#T_0d910_row3_col4, #T_0d910_row4_col3 {\n",
       "  background-color: #ca3b37;\n",
       "  color: #f1f1f1;\n",
       "}\n",
       "#T_0d910_row3_col5, #T_0d910_row5_col3 {\n",
       "  background-color: #d65244;\n",
       "  color: #f1f1f1;\n",
       "}\n",
       "#T_0d910_row3_col6 {\n",
       "  background-color: #3d50c3;\n",
       "  color: #f1f1f1;\n",
       "}\n",
       "#T_0d910_row4_col5, #T_0d910_row5_col4 {\n",
       "  background-color: #c73635;\n",
       "  color: #f1f1f1;\n",
       "}\n",
       "#T_0d910_row4_col6, #T_0d910_row5_col6 {\n",
       "  background-color: #3e51c5;\n",
       "  color: #f1f1f1;\n",
       "}\n",
       "#T_0d910_row5_col0 {\n",
       "  background-color: #ec8165;\n",
       "  color: #f1f1f1;\n",
       "}\n",
       "</style>\n",
       "<table id=\"T_0d910_\">\n",
       "  <thead>\n",
       "    <tr>\n",
       "      <th class=\"blank level0\" >&nbsp;</th>\n",
       "      <th class=\"col_heading level0 col0\" >BILL_AMT1</th>\n",
       "      <th class=\"col_heading level0 col1\" >BILL_AMT2</th>\n",
       "      <th class=\"col_heading level0 col2\" >BILL_AMT3</th>\n",
       "      <th class=\"col_heading level0 col3\" >BILL_AMT4</th>\n",
       "      <th class=\"col_heading level0 col4\" >BILL_AMT5</th>\n",
       "      <th class=\"col_heading level0 col5\" >BILL_AMT6</th>\n",
       "      <th class=\"col_heading level0 col6\" >DEFAULT</th>\n",
       "    </tr>\n",
       "  </thead>\n",
       "  <tbody>\n",
       "    <tr>\n",
       "      <th id=\"T_0d910_level0_row0\" class=\"row_heading level0 row0\" >BILL_AMT1</th>\n",
       "      <td id=\"T_0d910_row0_col0\" class=\"data row0 col0\" >1.000000</td>\n",
       "      <td id=\"T_0d910_row0_col1\" class=\"data row0 col1\" >0.951484</td>\n",
       "      <td id=\"T_0d910_row0_col2\" class=\"data row0 col2\" >0.892279</td>\n",
       "      <td id=\"T_0d910_row0_col3\" class=\"data row0 col3\" >0.860272</td>\n",
       "      <td id=\"T_0d910_row0_col4\" class=\"data row0 col4\" >0.829779</td>\n",
       "      <td id=\"T_0d910_row0_col5\" class=\"data row0 col5\" >0.802650</td>\n",
       "      <td id=\"T_0d910_row0_col6\" class=\"data row0 col6\" >-0.019644</td>\n",
       "    </tr>\n",
       "    <tr>\n",
       "      <th id=\"T_0d910_level0_row1\" class=\"row_heading level0 row1\" >BILL_AMT2</th>\n",
       "      <td id=\"T_0d910_row1_col0\" class=\"data row1 col0\" >0.951484</td>\n",
       "      <td id=\"T_0d910_row1_col1\" class=\"data row1 col1\" >1.000000</td>\n",
       "      <td id=\"T_0d910_row1_col2\" class=\"data row1 col2\" >0.928326</td>\n",
       "      <td id=\"T_0d910_row1_col3\" class=\"data row1 col3\" >0.892482</td>\n",
       "      <td id=\"T_0d910_row1_col4\" class=\"data row1 col4\" >0.859778</td>\n",
       "      <td id=\"T_0d910_row1_col5\" class=\"data row1 col5\" >0.831594</td>\n",
       "      <td id=\"T_0d910_row1_col6\" class=\"data row1 col6\" >-0.014193</td>\n",
       "    </tr>\n",
       "    <tr>\n",
       "      <th id=\"T_0d910_level0_row2\" class=\"row_heading level0 row2\" >BILL_AMT3</th>\n",
       "      <td id=\"T_0d910_row2_col0\" class=\"data row2 col0\" >0.892279</td>\n",
       "      <td id=\"T_0d910_row2_col1\" class=\"data row2 col1\" >0.928326</td>\n",
       "      <td id=\"T_0d910_row2_col2\" class=\"data row2 col2\" >1.000000</td>\n",
       "      <td id=\"T_0d910_row2_col3\" class=\"data row2 col3\" >0.923969</td>\n",
       "      <td id=\"T_0d910_row2_col4\" class=\"data row2 col4\" >0.883910</td>\n",
       "      <td id=\"T_0d910_row2_col5\" class=\"data row2 col5\" >0.853320</td>\n",
       "      <td id=\"T_0d910_row2_col6\" class=\"data row2 col6\" >-0.014076</td>\n",
       "    </tr>\n",
       "    <tr>\n",
       "      <th id=\"T_0d910_level0_row3\" class=\"row_heading level0 row3\" >BILL_AMT4</th>\n",
       "      <td id=\"T_0d910_row3_col0\" class=\"data row3 col0\" >0.860272</td>\n",
       "      <td id=\"T_0d910_row3_col1\" class=\"data row3 col1\" >0.892482</td>\n",
       "      <td id=\"T_0d910_row3_col2\" class=\"data row3 col2\" >0.923969</td>\n",
       "      <td id=\"T_0d910_row3_col3\" class=\"data row3 col3\" >1.000000</td>\n",
       "      <td id=\"T_0d910_row3_col4\" class=\"data row3 col4\" >0.940134</td>\n",
       "      <td id=\"T_0d910_row3_col5\" class=\"data row3 col5\" >0.900941</td>\n",
       "      <td id=\"T_0d910_row3_col6\" class=\"data row3 col6\" >-0.010156</td>\n",
       "    </tr>\n",
       "    <tr>\n",
       "      <th id=\"T_0d910_level0_row4\" class=\"row_heading level0 row4\" >BILL_AMT5</th>\n",
       "      <td id=\"T_0d910_row4_col0\" class=\"data row4 col0\" >0.829779</td>\n",
       "      <td id=\"T_0d910_row4_col1\" class=\"data row4 col1\" >0.859778</td>\n",
       "      <td id=\"T_0d910_row4_col2\" class=\"data row4 col2\" >0.883910</td>\n",
       "      <td id=\"T_0d910_row4_col3\" class=\"data row4 col3\" >0.940134</td>\n",
       "      <td id=\"T_0d910_row4_col4\" class=\"data row4 col4\" >1.000000</td>\n",
       "      <td id=\"T_0d910_row4_col5\" class=\"data row4 col5\" >0.946197</td>\n",
       "      <td id=\"T_0d910_row4_col6\" class=\"data row4 col6\" >-0.006760</td>\n",
       "    </tr>\n",
       "    <tr>\n",
       "      <th id=\"T_0d910_level0_row5\" class=\"row_heading level0 row5\" >BILL_AMT6</th>\n",
       "      <td id=\"T_0d910_row5_col0\" class=\"data row5 col0\" >0.802650</td>\n",
       "      <td id=\"T_0d910_row5_col1\" class=\"data row5 col1\" >0.831594</td>\n",
       "      <td id=\"T_0d910_row5_col2\" class=\"data row5 col2\" >0.853320</td>\n",
       "      <td id=\"T_0d910_row5_col3\" class=\"data row5 col3\" >0.900941</td>\n",
       "      <td id=\"T_0d910_row5_col4\" class=\"data row5 col4\" >0.946197</td>\n",
       "      <td id=\"T_0d910_row5_col5\" class=\"data row5 col5\" >1.000000</td>\n",
       "      <td id=\"T_0d910_row5_col6\" class=\"data row5 col6\" >-0.005372</td>\n",
       "    </tr>\n",
       "    <tr>\n",
       "      <th id=\"T_0d910_level0_row6\" class=\"row_heading level0 row6\" >DEFAULT</th>\n",
       "      <td id=\"T_0d910_row6_col0\" class=\"data row6 col0\" >-0.019644</td>\n",
       "      <td id=\"T_0d910_row6_col1\" class=\"data row6 col1\" >-0.014193</td>\n",
       "      <td id=\"T_0d910_row6_col2\" class=\"data row6 col2\" >-0.014076</td>\n",
       "      <td id=\"T_0d910_row6_col3\" class=\"data row6 col3\" >-0.010156</td>\n",
       "      <td id=\"T_0d910_row6_col4\" class=\"data row6 col4\" >-0.006760</td>\n",
       "      <td id=\"T_0d910_row6_col5\" class=\"data row6 col5\" >-0.005372</td>\n",
       "      <td id=\"T_0d910_row6_col6\" class=\"data row6 col6\" >1.000000</td>\n",
       "    </tr>\n",
       "  </tbody>\n",
       "</table>\n"
      ],
      "text/plain": [
       "<pandas.io.formats.style.Styler at 0x7f79d9bd1190>"
      ]
     },
     "execution_count": 231,
     "metadata": {},
     "output_type": "execute_result"
    }
   ],
   "source": [
    "# correlation matrix for bill_amt\n",
    "corr = df[['BILL_AMT1','BILL_AMT2', 'BILL_AMT3', 'BILL_AMT4', 'BILL_AMT5', 'BILL_AMT6', 'DEFAULT']].corr()\n",
    "corr.style.background_gradient(cmap='coolwarm')"
   ]
  },
  {
   "cell_type": "markdown",
   "metadata": {},
   "source": [
    "- From these correlation matrix, we have a few findings. For instance, we know that we may not need to add all BILL_AMT in our model because BILL_AMT1 to BILL_AMT6 are all very strongly correlated to each other.\n",
    "- Furthermore, we can see that the variable PAY has a low positive correlation with default. This is intuitively sound because the longer someone takes to pay their bill, the more likely they are going to default, as it may mean they have no money to pay. Hence, we can maybe use other feature selection techniques to find out which PAY variable to use in the model for best prediction of DEFAULT.\n",
    "- Last but not least, we can see that PAY_AMT alone does not seem to be correlated to default amount. This makes some intuitive sense because how much someone paid for their bills may not tell much about their financial ability. For example, they may be paying a lot for 1 month, but that could be due to them not paying for the previous months and just trying to pay everything they own before bankruptcy for instance. Even so, they may not have enough to pay for their full bills and can still default.\n",
    "- From these findings, we know that we may perhaps need to merge some variables together.\n",
    "- For instance, \n",
    "    - LIMIT_BAL and BILL_AMT could be merged to see how much \n",
    "    - BILL_AMT and PAY_AMT can me merged together to give us a sense of how much they owe and how much was being paid."
   ]
  },
  {
   "cell_type": "code",
   "execution_count": 232,
   "metadata": {},
   "outputs": [
    {
     "data": {
      "text/html": [
       "<style type=\"text/css\">\n",
       "#T_410da_row0_col0, #T_410da_row1_col1, #T_410da_row2_col2, #T_410da_row3_col3, #T_410da_row4_col4, #T_410da_row5_col5, #T_410da_row6_col6 {\n",
       "  background-color: #b40426;\n",
       "  color: #f1f1f1;\n",
       "}\n",
       "#T_410da_row0_col1, #T_410da_row1_col0 {\n",
       "  background-color: #cd423b;\n",
       "  color: #f1f1f1;\n",
       "}\n",
       "#T_410da_row0_col2 {\n",
       "  background-color: #e46e56;\n",
       "  color: #f1f1f1;\n",
       "}\n",
       "#T_410da_row0_col3 {\n",
       "  background-color: #f18f71;\n",
       "  color: #f1f1f1;\n",
       "}\n",
       "#T_410da_row0_col4, #T_410da_row5_col1 {\n",
       "  background-color: #f7aa8c;\n",
       "  color: #000000;\n",
       "}\n",
       "#T_410da_row0_col5 {\n",
       "  background-color: #f7bca1;\n",
       "  color: #000000;\n",
       "}\n",
       "#T_410da_row0_col6, #T_410da_row6_col0, #T_410da_row6_col1, #T_410da_row6_col2, #T_410da_row6_col3, #T_410da_row6_col4, #T_410da_row6_col5 {\n",
       "  background-color: #3b4cc0;\n",
       "  color: #f1f1f1;\n",
       "}\n",
       "#T_410da_row1_col2, #T_410da_row2_col1 {\n",
       "  background-color: #d75445;\n",
       "  color: #f1f1f1;\n",
       "}\n",
       "#T_410da_row1_col3, #T_410da_row3_col5 {\n",
       "  background-color: #e97a5f;\n",
       "  color: #f1f1f1;\n",
       "}\n",
       "#T_410da_row1_col4, #T_410da_row5_col2 {\n",
       "  background-color: #f4987a;\n",
       "  color: #000000;\n",
       "}\n",
       "#T_410da_row1_col5 {\n",
       "  background-color: #f7ad90;\n",
       "  color: #000000;\n",
       "}\n",
       "#T_410da_row1_col6 {\n",
       "  background-color: #3e51c5;\n",
       "  color: #f1f1f1;\n",
       "}\n",
       "#T_410da_row2_col0 {\n",
       "  background-color: #e36c55;\n",
       "  color: #f1f1f1;\n",
       "}\n",
       "#T_410da_row2_col3, #T_410da_row3_col2 {\n",
       "  background-color: #dd5f4b;\n",
       "  color: #f1f1f1;\n",
       "}\n",
       "#T_410da_row2_col4 {\n",
       "  background-color: #ee8468;\n",
       "  color: #f1f1f1;\n",
       "}\n",
       "#T_410da_row2_col5 {\n",
       "  background-color: #f49a7b;\n",
       "  color: #000000;\n",
       "}\n",
       "#T_410da_row2_col6 {\n",
       "  background-color: #3f53c6;\n",
       "  color: #f1f1f1;\n",
       "}\n",
       "#T_410da_row3_col0 {\n",
       "  background-color: #f18d6f;\n",
       "  color: #f1f1f1;\n",
       "}\n",
       "#T_410da_row3_col1, #T_410da_row5_col3 {\n",
       "  background-color: #e9785d;\n",
       "  color: #f1f1f1;\n",
       "}\n",
       "#T_410da_row3_col4, #T_410da_row4_col3 {\n",
       "  background-color: #d85646;\n",
       "  color: #f1f1f1;\n",
       "}\n",
       "#T_410da_row3_col6 {\n",
       "  background-color: #445acc;\n",
       "  color: #f1f1f1;\n",
       "}\n",
       "#T_410da_row4_col0 {\n",
       "  background-color: #f7a688;\n",
       "  color: #000000;\n",
       "}\n",
       "#T_410da_row4_col1 {\n",
       "  background-color: #f39778;\n",
       "  color: #000000;\n",
       "}\n",
       "#T_410da_row4_col2 {\n",
       "  background-color: #ed8366;\n",
       "  color: #f1f1f1;\n",
       "}\n",
       "#T_410da_row4_col5, #T_410da_row5_col4 {\n",
       "  background-color: #d55042;\n",
       "  color: #f1f1f1;\n",
       "}\n",
       "#T_410da_row4_col6 {\n",
       "  background-color: #455cce;\n",
       "  color: #f1f1f1;\n",
       "}\n",
       "#T_410da_row5_col0 {\n",
       "  background-color: #f7b89c;\n",
       "  color: #000000;\n",
       "}\n",
       "#T_410da_row5_col6 {\n",
       "  background-color: #465ecf;\n",
       "  color: #f1f1f1;\n",
       "}\n",
       "</style>\n",
       "<table id=\"T_410da_\">\n",
       "  <thead>\n",
       "    <tr>\n",
       "      <th class=\"blank level0\" >&nbsp;</th>\n",
       "      <th class=\"col_heading level0 col0\" >billpercredit1</th>\n",
       "      <th class=\"col_heading level0 col1\" >billpercredit2</th>\n",
       "      <th class=\"col_heading level0 col2\" >billpercredit3</th>\n",
       "      <th class=\"col_heading level0 col3\" >billpercredit4</th>\n",
       "      <th class=\"col_heading level0 col4\" >billpercredit5</th>\n",
       "      <th class=\"col_heading level0 col5\" >billpercredit6</th>\n",
       "      <th class=\"col_heading level0 col6\" >DEFAULT</th>\n",
       "    </tr>\n",
       "  </thead>\n",
       "  <tbody>\n",
       "    <tr>\n",
       "      <th id=\"T_410da_level0_row0\" class=\"row_heading level0 row0\" >billpercredit1</th>\n",
       "      <td id=\"T_410da_row0_col0\" class=\"data row0 col0\" >1.000000</td>\n",
       "      <td id=\"T_410da_row0_col1\" class=\"data row0 col1\" >0.934032</td>\n",
       "      <td id=\"T_410da_row0_col2\" class=\"data row0 col2\" >0.862141</td>\n",
       "      <td id=\"T_410da_row0_col3\" class=\"data row0 col3\" >0.799921</td>\n",
       "      <td id=\"T_410da_row0_col4\" class=\"data row0 col4\" >0.741718</td>\n",
       "      <td id=\"T_410da_row0_col5\" class=\"data row0 col5\" >0.695778</td>\n",
       "      <td id=\"T_410da_row0_col6\" class=\"data row0 col6\" >0.086168</td>\n",
       "    </tr>\n",
       "    <tr>\n",
       "      <th id=\"T_410da_level0_row1\" class=\"row_heading level0 row1\" >billpercredit2</th>\n",
       "      <td id=\"T_410da_row1_col0\" class=\"data row1 col0\" >0.934032</td>\n",
       "      <td id=\"T_410da_row1_col1\" class=\"data row1 col1\" >1.000000</td>\n",
       "      <td id=\"T_410da_row1_col2\" class=\"data row1 col2\" >0.907715</td>\n",
       "      <td id=\"T_410da_row1_col3\" class=\"data row1 col3\" >0.843031</td>\n",
       "      <td id=\"T_410da_row1_col4\" class=\"data row1 col4\" >0.780456</td>\n",
       "      <td id=\"T_410da_row1_col5\" class=\"data row1 col5\" >0.733054</td>\n",
       "      <td id=\"T_410da_row1_col6\" class=\"data row1 col6\" >0.099039</td>\n",
       "    </tr>\n",
       "    <tr>\n",
       "      <th id=\"T_410da_level0_row2\" class=\"row_heading level0 row2\" >billpercredit3</th>\n",
       "      <td id=\"T_410da_row2_col0\" class=\"data row2 col0\" >0.862141</td>\n",
       "      <td id=\"T_410da_row2_col1\" class=\"data row2 col1\" >0.907715</td>\n",
       "      <td id=\"T_410da_row2_col2\" class=\"data row2 col2\" >1.000000</td>\n",
       "      <td id=\"T_410da_row2_col3\" class=\"data row2 col3\" >0.891452</td>\n",
       "      <td id=\"T_410da_row2_col4\" class=\"data row2 col4\" >0.824188</td>\n",
       "      <td id=\"T_410da_row2_col5\" class=\"data row2 col5\" >0.778303</td>\n",
       "      <td id=\"T_410da_row2_col6\" class=\"data row2 col6\" >0.103902</td>\n",
       "    </tr>\n",
       "    <tr>\n",
       "      <th id=\"T_410da_level0_row3\" class=\"row_heading level0 row3\" >billpercredit4</th>\n",
       "      <td id=\"T_410da_row3_col0\" class=\"data row3 col0\" >0.799921</td>\n",
       "      <td id=\"T_410da_row3_col1\" class=\"data row3 col1\" >0.843031</td>\n",
       "      <td id=\"T_410da_row3_col2\" class=\"data row3 col2\" >0.891452</td>\n",
       "      <td id=\"T_410da_row3_col3\" class=\"data row3 col3\" >1.000000</td>\n",
       "      <td id=\"T_410da_row3_col4\" class=\"data row3 col4\" >0.905570</td>\n",
       "      <td id=\"T_410da_row3_col5\" class=\"data row3 col5\" >0.845750</td>\n",
       "      <td id=\"T_410da_row3_col6\" class=\"data row3 col6\" >0.115925</td>\n",
       "    </tr>\n",
       "    <tr>\n",
       "      <th id=\"T_410da_level0_row4\" class=\"row_heading level0 row4\" >billpercredit5</th>\n",
       "      <td id=\"T_410da_row4_col0\" class=\"data row4 col0\" >0.741718</td>\n",
       "      <td id=\"T_410da_row4_col1\" class=\"data row4 col1\" >0.780456</td>\n",
       "      <td id=\"T_410da_row4_col2\" class=\"data row4 col2\" >0.824188</td>\n",
       "      <td id=\"T_410da_row4_col3\" class=\"data row4 col3\" >0.905570</td>\n",
       "      <td id=\"T_410da_row4_col4\" class=\"data row4 col4\" >1.000000</td>\n",
       "      <td id=\"T_410da_row4_col5\" class=\"data row4 col5\" >0.916978</td>\n",
       "      <td id=\"T_410da_row4_col6\" class=\"data row4 col6\" >0.119156</td>\n",
       "    </tr>\n",
       "    <tr>\n",
       "      <th id=\"T_410da_level0_row5\" class=\"row_heading level0 row5\" >billpercredit6</th>\n",
       "      <td id=\"T_410da_row5_col0\" class=\"data row5 col0\" >0.695778</td>\n",
       "      <td id=\"T_410da_row5_col1\" class=\"data row5 col1\" >0.733054</td>\n",
       "      <td id=\"T_410da_row5_col2\" class=\"data row5 col2\" >0.778303</td>\n",
       "      <td id=\"T_410da_row5_col3\" class=\"data row5 col3\" >0.845750</td>\n",
       "      <td id=\"T_410da_row5_col4\" class=\"data row5 col4\" >0.916978</td>\n",
       "      <td id=\"T_410da_row5_col5\" class=\"data row5 col5\" >1.000000</td>\n",
       "      <td id=\"T_410da_row5_col6\" class=\"data row5 col6\" >0.123373</td>\n",
       "    </tr>\n",
       "    <tr>\n",
       "      <th id=\"T_410da_level0_row6\" class=\"row_heading level0 row6\" >DEFAULT</th>\n",
       "      <td id=\"T_410da_row6_col0\" class=\"data row6 col0\" >0.086168</td>\n",
       "      <td id=\"T_410da_row6_col1\" class=\"data row6 col1\" >0.099039</td>\n",
       "      <td id=\"T_410da_row6_col2\" class=\"data row6 col2\" >0.103902</td>\n",
       "      <td id=\"T_410da_row6_col3\" class=\"data row6 col3\" >0.115925</td>\n",
       "      <td id=\"T_410da_row6_col4\" class=\"data row6 col4\" >0.119156</td>\n",
       "      <td id=\"T_410da_row6_col5\" class=\"data row6 col5\" >0.123373</td>\n",
       "      <td id=\"T_410da_row6_col6\" class=\"data row6 col6\" >1.000000</td>\n",
       "    </tr>\n",
       "  </tbody>\n",
       "</table>\n"
      ],
      "text/plain": [
       "<pandas.io.formats.style.Styler at 0x7f79b0a9a490>"
      ]
     },
     "execution_count": 232,
     "metadata": {},
     "output_type": "execute_result"
    }
   ],
   "source": [
    "df['billpercredit1'] = df['BILL_AMT1']/df['LIMIT_BAL'] \n",
    "df['billpercredit2'] = df['BILL_AMT2']/df['LIMIT_BAL']\n",
    "df['billpercredit3'] = df['BILL_AMT3']/df['LIMIT_BAL']\n",
    "df['billpercredit4'] = df['BILL_AMT4']/df['LIMIT_BAL']\n",
    "df['billpercredit5'] = df['BILL_AMT5']/df['LIMIT_BAL']\n",
    "df['billpercredit6'] = df['BILL_AMT6']/df['LIMIT_BAL']\n",
    "\n",
    "train_df['billpercredit1'] = train_df['BILL_AMT1']/train_df['LIMIT_BAL']\n",
    "train_df['billpercredit2'] = train_df['BILL_AMT2']/train_df['LIMIT_BAL']\n",
    "train_df['billpercredit3'] = train_df['BILL_AMT3']/train_df['LIMIT_BAL']\n",
    "train_df['billpercredit4'] = train_df['BILL_AMT4']/train_df['LIMIT_BAL']\n",
    "train_df['billpercredit5'] = train_df['BILL_AMT5']/train_df['LIMIT_BAL']\n",
    "train_df['billpercredit6'] = train_df['BILL_AMT6']/train_df['LIMIT_BAL']\n",
    "\n",
    "test_df['billpercredit1'] = test_df['BILL_AMT1']/test_df['LIMIT_BAL']\n",
    "test_df['billpercredit2'] = test_df['BILL_AMT2']/test_df['LIMIT_BAL']\n",
    "test_df['billpercredit3'] = test_df['BILL_AMT3']/test_df['LIMIT_BAL']\n",
    "test_df['billpercredit4'] = test_df['BILL_AMT4']/test_df['LIMIT_BAL']\n",
    "test_df['billpercredit5'] = test_df['BILL_AMT5']/test_df['LIMIT_BAL']\n",
    "test_df['billpercredit6'] = test_df['BILL_AMT6']/test_df['LIMIT_BAL']\n",
    "\n",
    "#correlation matric of bill per credit\n",
    "corr = df[['billpercredit1','billpercredit2', 'billpercredit3', 'billpercredit4', 'billpercredit5', 'billpercredit6', 'DEFAULT']].corr()\n",
    "corr.style.background_gradient(cmap='coolwarm')"
   ]
  },
  {
   "cell_type": "markdown",
   "metadata": {},
   "source": [
    "- Using bill per credit may be a more useful input attribute rather than just BILL_AMT\n",
    "- We can test further using other methods like Forward Backward Regression and Embedded Methods like Regularisation."
   ]
  },
  {
   "cell_type": "markdown",
   "metadata": {},
   "source": [
    "### Chi-Square Test for categorical variables\n",
    "- H0: There is no relationship between the categorical variables and DEFAULT\n",
    "- H1: There is a relationship between the categorical variables DEFAULT \n",
    "\n",
    "In this dataset, we have decided to perform a Chi-Square Test on commonly known categorical variables such as SEX, EDUCATION, MARRIAGE, to test whether there is a relationship between these variables and DEFAULT, and decide whether or not these variables may be a useful input attribute in the model to predict default."
   ]
  },
  {
   "cell_type": "code",
   "execution_count": 233,
   "metadata": {},
   "outputs": [
    {
     "data": {
      "text/plain": [
       "(47.70879689062111,\n",
       " 4.944678999412044e-12,\n",
       " 1,\n",
       " array([[ 9258.3744,  2629.6256],\n",
       "        [14105.6256,  4006.3744]]))"
      ]
     },
     "execution_count": 233,
     "metadata": {},
     "output_type": "execute_result"
    }
   ],
   "source": [
    "from scipy.stats import chi2_contingency\n",
    "\n",
    "# Test Chi-Square Independence for gender and default\n",
    "X = df['SEX']\n",
    "y = df['DEFAULT']\n",
    "table = pd.crosstab(X,y)\n",
    "chi2_contingency(observed= table)\n"
   ]
  },
  {
   "cell_type": "markdown",
   "metadata": {},
   "source": [
    "- p-value is 4.9446e-12"
   ]
  },
  {
   "cell_type": "code",
   "execution_count": 234,
   "metadata": {},
   "outputs": [
    {
     "data": {
      "text/plain": [
       "(28.13032464482199,\n",
       " 7.790720364202813e-07,\n",
       " 2,\n",
       " array([[10637.6292,  3021.3708],\n",
       "        [12432.7632,  3531.2368],\n",
       "        [  293.6076,    83.3924]]))"
      ]
     },
     "execution_count": 234,
     "metadata": {},
     "output_type": "execute_result"
    }
   ],
   "source": [
    "# Test Chi-Square Independence for marriage and default\n",
    "X = df['MARRIAGE']\n",
    "y = df['DEFAULT']\n",
    "table = pd.crosstab(X,y)\n",
    "chi2_contingency(observed= table)"
   ]
  },
  {
   "cell_type": "markdown",
   "metadata": {},
   "source": [
    "- p-value is 7.7907e-07"
   ]
  },
  {
   "cell_type": "code",
   "execution_count": 235,
   "metadata": {},
   "outputs": [
    {
     "data": {
      "text/plain": [
       "(160.40995107224546,\n",
       " 1.4950645648106153e-34,\n",
       " 3,\n",
       " array([[ 8243.598 ,  2341.402 ],\n",
       "        [10926.564 ,  3103.436 ],\n",
       "        [ 3829.3596,  1087.6404],\n",
       "        [  364.4784,   103.5216]]))"
      ]
     },
     "execution_count": 235,
     "metadata": {},
     "output_type": "execute_result"
    }
   ],
   "source": [
    "# Test Chi-Square Independence for education and default\n",
    "X = df['EDUCATION']\n",
    "y = df['DEFAULT']\n",
    "table = pd.crosstab(X,y)\n",
    "chi2_contingency(observed= table)"
   ]
  },
  {
   "cell_type": "markdown",
   "metadata": {},
   "source": [
    "- p-value is 1.4950e-34"
   ]
  },
  {
   "cell_type": "code",
   "execution_count": 236,
   "metadata": {},
   "outputs": [
    {
     "data": {
      "text/plain": [
       "(38.755865643851806,\n",
       " 1.9551529244512022e-08,\n",
       " 3,\n",
       " array([[8576.9244, 2436.0756],\n",
       "        [8343.2844, 2369.7156],\n",
       "        [5623.7148, 1597.2852],\n",
       "        [ 820.0764,  232.9236]]))"
      ]
     },
     "execution_count": 236,
     "metadata": {},
     "output_type": "execute_result"
    }
   ],
   "source": [
    "from scipy.stats import chi2_contingency\n",
    "\n",
    "# Test Chi-Square Independence for gender and default\n",
    "X = df['AGE_BIN']\n",
    "y = df['DEFAULT']\n",
    "table = pd.crosstab(X,y)\n",
    "chi2_contingency(observed= table)"
   ]
  },
  {
   "cell_type": "markdown",
   "metadata": {},
   "source": [
    "- p-value is 1.95515e-08"
   ]
  },
  {
   "cell_type": "markdown",
   "metadata": {},
   "source": [
    "- From the Chi-Square Test, at the 5% level of significance, we are able to reject the null hypothesis that there is no relationship between the categorical variables and DEFAULT. Hence, we can add these 4 categorical variables into our next steps of feature selection including Forward Backward regression and Regularisation."
   ]
  },
  {
   "cell_type": "markdown",
   "metadata": {},
   "source": [
    "## Wrapper Method\n",
    "- Wrapper methods evaluate multiple models using procedures that add and/or remove predictors to find the optimal combination that maximizes model performance. Examples include Forward Selection, Backward Elimination, Stepwise selection."
   ]
  },
  {
   "cell_type": "markdown",
   "metadata": {},
   "source": [
    "### Forward Selection"
   ]
  },
  {
   "cell_type": "code",
   "execution_count": 237,
   "metadata": {},
   "outputs": [
    {
     "data": {
      "text/html": [
       "<div>\n",
       "<style scoped>\n",
       "    .dataframe tbody tr th:only-of-type {\n",
       "        vertical-align: middle;\n",
       "    }\n",
       "\n",
       "    .dataframe tbody tr th {\n",
       "        vertical-align: top;\n",
       "    }\n",
       "\n",
       "    .dataframe thead th {\n",
       "        text-align: right;\n",
       "    }\n",
       "</style>\n",
       "<table border=\"1\" class=\"dataframe\">\n",
       "  <thead>\n",
       "    <tr style=\"text-align: right;\">\n",
       "      <th></th>\n",
       "      <th>feature_idx</th>\n",
       "      <th>cv_scores</th>\n",
       "      <th>avg_score</th>\n",
       "      <th>feature_names</th>\n",
       "    </tr>\n",
       "  </thead>\n",
       "  <tbody>\n",
       "    <tr>\n",
       "      <th>1</th>\n",
       "      <td>(5,)</td>\n",
       "      <td>[0.11540273444382354, 0.1269922858904763, 0.18...</td>\n",
       "      <td>0.154612</td>\n",
       "      <td>(PAY_1,)</td>\n",
       "    </tr>\n",
       "    <tr>\n",
       "      <th>2</th>\n",
       "      <td>(5, 10)</td>\n",
       "      <td>[0.12139540557848905, 0.1408423861249124, 0.19...</td>\n",
       "      <td>0.165433</td>\n",
       "      <td>(PAY_1, PAY_6)</td>\n",
       "    </tr>\n",
       "    <tr>\n",
       "      <th>3</th>\n",
       "      <td>(0, 5, 10)</td>\n",
       "      <td>[0.123830783256349, 0.14410363090163247, 0.206...</td>\n",
       "      <td>0.171206</td>\n",
       "      <td>(LIMIT_BAL, PAY_1, PAY_6)</td>\n",
       "    </tr>\n",
       "    <tr>\n",
       "      <th>4</th>\n",
       "      <td>(0, 5, 7, 10)</td>\n",
       "      <td>[0.12680785812408601, 0.1468074689515605, 0.20...</td>\n",
       "      <td>0.174119</td>\n",
       "      <td>(LIMIT_BAL, PAY_1, PAY_3, PAY_6)</td>\n",
       "    </tr>\n",
       "    <tr>\n",
       "      <th>5</th>\n",
       "      <td>(0, 3, 5, 7, 10)</td>\n",
       "      <td>[0.12870963309267314, 0.1479584634615232, 0.20...</td>\n",
       "      <td>0.175167</td>\n",
       "      <td>(LIMIT_BAL, MARRIAGE, PAY_1, PAY_3, PAY_6)</td>\n",
       "    </tr>\n",
       "  </tbody>\n",
       "</table>\n",
       "</div>"
      ],
      "text/plain": [
       "        feature_idx                                          cv_scores  \\\n",
       "1              (5,)  [0.11540273444382354, 0.1269922858904763, 0.18...   \n",
       "2           (5, 10)  [0.12139540557848905, 0.1408423861249124, 0.19...   \n",
       "3        (0, 5, 10)  [0.123830783256349, 0.14410363090163247, 0.206...   \n",
       "4     (0, 5, 7, 10)  [0.12680785812408601, 0.1468074689515605, 0.20...   \n",
       "5  (0, 3, 5, 7, 10)  [0.12870963309267314, 0.1479584634615232, 0.20...   \n",
       "\n",
       "  avg_score                               feature_names  \n",
       "1  0.154612                                    (PAY_1,)  \n",
       "2  0.165433                              (PAY_1, PAY_6)  \n",
       "3  0.171206                   (LIMIT_BAL, PAY_1, PAY_6)  \n",
       "4  0.174119            (LIMIT_BAL, PAY_1, PAY_3, PAY_6)  \n",
       "5  0.175167  (LIMIT_BAL, MARRIAGE, PAY_1, PAY_3, PAY_6)  "
      ]
     },
     "execution_count": 237,
     "metadata": {},
     "output_type": "execute_result"
    }
   ],
   "source": [
    "from mlxtend.feature_selection import SequentialFeatureSelector as SFS\n",
    "from sklearn.linear_model import LinearRegression\n",
    "\n",
    "# Forward Regression\n",
    "target = 'DEFAULT'\n",
    "predictors = ['LIMIT_BAL', 'SEX', 'EDUCATION', 'MARRIAGE', 'AGE_BIN', \n",
    "                'PAY_1', 'PAY_2', 'PAY_3', 'PAY_4', 'PAY_5', 'PAY_6', \n",
    "                'BILL_AMT1','BILL_AMT2', 'BILL_AMT3', 'BILL_AMT4', 'BILL_AMT5', 'BILL_AMT6',\n",
    "                'PAY_AMT1', 'PAY_AMT2', 'PAY_AMT3', 'PAY_AMT4', 'PAY_AMT5', 'PAY_AMT6', 'billpercredit1', 'billpercredit2', 'billpercredit3', 'billpercredit4', 'billpercredit5', 'billpercredit6']\n",
    "x = df[predictors]\n",
    "y = df[target]\n",
    "\n",
    "sfs = SFS(LinearRegression(),\n",
    "           k_features=5,\n",
    "           forward=True,\n",
    "           floating=False,\n",
    "           scoring = 'r2',\n",
    "           cv = 5)\n",
    "#Use SFS to select the top 5 features \n",
    "sfs.fit(x, y)\n",
    "\n",
    "#Create a dataframe for the SFS results \n",
    "df_SFS_results = pd.DataFrame(sfs.subsets_).T\n",
    "df_SFS_results"
   ]
  },
  {
   "cell_type": "markdown",
   "metadata": {},
   "source": [
    "### Backward Elimination"
   ]
  },
  {
   "cell_type": "code",
   "execution_count": 238,
   "metadata": {},
   "outputs": [
    {
     "data": {
      "text/html": [
       "<div>\n",
       "<style scoped>\n",
       "    .dataframe tbody tr th:only-of-type {\n",
       "        vertical-align: middle;\n",
       "    }\n",
       "\n",
       "    .dataframe tbody tr th {\n",
       "        vertical-align: top;\n",
       "    }\n",
       "\n",
       "    .dataframe thead th {\n",
       "        text-align: right;\n",
       "    }\n",
       "</style>\n",
       "<table border=\"1\" class=\"dataframe\">\n",
       "  <thead>\n",
       "    <tr style=\"text-align: right;\">\n",
       "      <th></th>\n",
       "      <th>Feature_names</th>\n",
       "      <th>Selected</th>\n",
       "      <th>RFE_ranking</th>\n",
       "    </tr>\n",
       "    <tr>\n",
       "      <th>Columns</th>\n",
       "      <th></th>\n",
       "      <th></th>\n",
       "      <th></th>\n",
       "    </tr>\n",
       "  </thead>\n",
       "  <tbody>\n",
       "    <tr>\n",
       "      <th>0</th>\n",
       "      <td>LIMIT_BAL</td>\n",
       "      <td>False</td>\n",
       "      <td>16</td>\n",
       "    </tr>\n",
       "    <tr>\n",
       "      <th>1</th>\n",
       "      <td>SEX</td>\n",
       "      <td>False</td>\n",
       "      <td>6</td>\n",
       "    </tr>\n",
       "    <tr>\n",
       "      <th>2</th>\n",
       "      <td>EDUCATION</td>\n",
       "      <td>False</td>\n",
       "      <td>12</td>\n",
       "    </tr>\n",
       "    <tr>\n",
       "      <th>3</th>\n",
       "      <td>MARRIAGE</td>\n",
       "      <td>False</td>\n",
       "      <td>5</td>\n",
       "    </tr>\n",
       "    <tr>\n",
       "      <th>4</th>\n",
       "      <td>AGE_BIN</td>\n",
       "      <td>False</td>\n",
       "      <td>10</td>\n",
       "    </tr>\n",
       "    <tr>\n",
       "      <th>5</th>\n",
       "      <td>PAY_1</td>\n",
       "      <td>True</td>\n",
       "      <td>1</td>\n",
       "    </tr>\n",
       "    <tr>\n",
       "      <th>6</th>\n",
       "      <td>PAY_2</td>\n",
       "      <td>False</td>\n",
       "      <td>8</td>\n",
       "    </tr>\n",
       "    <tr>\n",
       "      <th>7</th>\n",
       "      <td>PAY_3</td>\n",
       "      <td>True</td>\n",
       "      <td>1</td>\n",
       "    </tr>\n",
       "    <tr>\n",
       "      <th>8</th>\n",
       "      <td>PAY_4</td>\n",
       "      <td>False</td>\n",
       "      <td>9</td>\n",
       "    </tr>\n",
       "    <tr>\n",
       "      <th>9</th>\n",
       "      <td>PAY_5</td>\n",
       "      <td>False</td>\n",
       "      <td>3</td>\n",
       "    </tr>\n",
       "    <tr>\n",
       "      <th>10</th>\n",
       "      <td>PAY_6</td>\n",
       "      <td>True</td>\n",
       "      <td>1</td>\n",
       "    </tr>\n",
       "    <tr>\n",
       "      <th>11</th>\n",
       "      <td>BILL_AMT1</td>\n",
       "      <td>False</td>\n",
       "      <td>19</td>\n",
       "    </tr>\n",
       "    <tr>\n",
       "      <th>12</th>\n",
       "      <td>BILL_AMT2</td>\n",
       "      <td>False</td>\n",
       "      <td>24</td>\n",
       "    </tr>\n",
       "    <tr>\n",
       "      <th>13</th>\n",
       "      <td>BILL_AMT3</td>\n",
       "      <td>False</td>\n",
       "      <td>23</td>\n",
       "    </tr>\n",
       "    <tr>\n",
       "      <th>14</th>\n",
       "      <td>BILL_AMT4</td>\n",
       "      <td>False</td>\n",
       "      <td>20</td>\n",
       "    </tr>\n",
       "    <tr>\n",
       "      <th>15</th>\n",
       "      <td>BILL_AMT5</td>\n",
       "      <td>False</td>\n",
       "      <td>21</td>\n",
       "    </tr>\n",
       "    <tr>\n",
       "      <th>16</th>\n",
       "      <td>BILL_AMT6</td>\n",
       "      <td>False</td>\n",
       "      <td>22</td>\n",
       "    </tr>\n",
       "    <tr>\n",
       "      <th>17</th>\n",
       "      <td>PAY_AMT1</td>\n",
       "      <td>False</td>\n",
       "      <td>13</td>\n",
       "    </tr>\n",
       "    <tr>\n",
       "      <th>18</th>\n",
       "      <td>PAY_AMT2</td>\n",
       "      <td>False</td>\n",
       "      <td>15</td>\n",
       "    </tr>\n",
       "    <tr>\n",
       "      <th>19</th>\n",
       "      <td>PAY_AMT3</td>\n",
       "      <td>False</td>\n",
       "      <td>25</td>\n",
       "    </tr>\n",
       "    <tr>\n",
       "      <th>20</th>\n",
       "      <td>PAY_AMT4</td>\n",
       "      <td>False</td>\n",
       "      <td>18</td>\n",
       "    </tr>\n",
       "    <tr>\n",
       "      <th>21</th>\n",
       "      <td>PAY_AMT5</td>\n",
       "      <td>False</td>\n",
       "      <td>14</td>\n",
       "    </tr>\n",
       "    <tr>\n",
       "      <th>22</th>\n",
       "      <td>PAY_AMT6</td>\n",
       "      <td>False</td>\n",
       "      <td>17</td>\n",
       "    </tr>\n",
       "    <tr>\n",
       "      <th>23</th>\n",
       "      <td>billpercredit1</td>\n",
       "      <td>False</td>\n",
       "      <td>7</td>\n",
       "    </tr>\n",
       "    <tr>\n",
       "      <th>24</th>\n",
       "      <td>billpercredit2</td>\n",
       "      <td>True</td>\n",
       "      <td>1</td>\n",
       "    </tr>\n",
       "    <tr>\n",
       "      <th>25</th>\n",
       "      <td>billpercredit3</td>\n",
       "      <td>False</td>\n",
       "      <td>11</td>\n",
       "    </tr>\n",
       "    <tr>\n",
       "      <th>26</th>\n",
       "      <td>billpercredit4</td>\n",
       "      <td>False</td>\n",
       "      <td>4</td>\n",
       "    </tr>\n",
       "    <tr>\n",
       "      <th>27</th>\n",
       "      <td>billpercredit5</td>\n",
       "      <td>False</td>\n",
       "      <td>2</td>\n",
       "    </tr>\n",
       "    <tr>\n",
       "      <th>28</th>\n",
       "      <td>billpercredit6</td>\n",
       "      <td>True</td>\n",
       "      <td>1</td>\n",
       "    </tr>\n",
       "  </tbody>\n",
       "</table>\n",
       "</div>"
      ],
      "text/plain": [
       "          Feature_names  Selected  RFE_ranking\n",
       "Columns                                       \n",
       "0             LIMIT_BAL     False           16\n",
       "1                   SEX     False            6\n",
       "2             EDUCATION     False           12\n",
       "3              MARRIAGE     False            5\n",
       "4               AGE_BIN     False           10\n",
       "5                 PAY_1      True            1\n",
       "6                 PAY_2     False            8\n",
       "7                 PAY_3      True            1\n",
       "8                 PAY_4     False            9\n",
       "9                 PAY_5     False            3\n",
       "10                PAY_6      True            1\n",
       "11            BILL_AMT1     False           19\n",
       "12            BILL_AMT2     False           24\n",
       "13            BILL_AMT3     False           23\n",
       "14            BILL_AMT4     False           20\n",
       "15            BILL_AMT5     False           21\n",
       "16            BILL_AMT6     False           22\n",
       "17             PAY_AMT1     False           13\n",
       "18             PAY_AMT2     False           15\n",
       "19             PAY_AMT3     False           25\n",
       "20             PAY_AMT4     False           18\n",
       "21             PAY_AMT5     False           14\n",
       "22             PAY_AMT6     False           17\n",
       "23       billpercredit1     False            7\n",
       "24       billpercredit2      True            1\n",
       "25       billpercredit3     False           11\n",
       "26       billpercredit4     False            4\n",
       "27       billpercredit5     False            2\n",
       "28       billpercredit6      True            1"
      ]
     },
     "execution_count": 238,
     "metadata": {},
     "output_type": "execute_result"
    }
   ],
   "source": [
    "### Backward Elimination\n",
    "from sklearn.feature_selection import RFE\n",
    "\n",
    "model = LinearRegression()\n",
    "#Define RFE \n",
    "rfe = RFE(model, n_features_to_select = 5)\n",
    "#Use RFE to select the top 5 features \n",
    "fit = rfe.fit(x,y)\n",
    "\n",
    "#Create a dataframe for the results \n",
    "df_RFE_results = []\n",
    "for i in range(x.shape[1]):\n",
    "    df_RFE_results.append(\n",
    "        {      \n",
    "            'Feature_names': predictors[i],\n",
    "            'Selected':  rfe.support_[i],\n",
    "            'RFE_ranking':  rfe.ranking_[i],\n",
    "        }\n",
    "    )\n",
    "\n",
    "df_RFE_results = pd.DataFrame(df_RFE_results)\n",
    "df_RFE_results.index.name='Columns'\n",
    "df_RFE_results"
   ]
  },
  {
   "cell_type": "markdown",
   "metadata": {},
   "source": [
    "## Embedded Method"
   ]
  },
  {
   "cell_type": "markdown",
   "metadata": {},
   "source": [
    "### Lasso Regularisation (L1)"
   ]
  },
  {
   "cell_type": "markdown",
   "metadata": {},
   "source": [
    "- We decided to use L1 Regularisation instead of L2 Regularisation because we know that L1 Regularisation has the property that is able to shrink some of the coefficients to zero. Therefore, that feature can be removed from the model. We used L1 since we know that there are some features that will be useless in our model. "
   ]
  },
  {
   "cell_type": "code",
   "execution_count": 239,
   "metadata": {},
   "outputs": [
    {
     "data": {
      "text/plain": [
       "array([False,  True,  True,  True,  True,  True,  True,  True,  True,\n",
       "        True,  True, False, False, False, False, False, False,  True,\n",
       "       False, False, False, False, False,  True,  True,  True,  True,\n",
       "        True,  True])"
      ]
     },
     "execution_count": 239,
     "metadata": {},
     "output_type": "execute_result"
    }
   ],
   "source": [
    "from sklearn.feature_selection import SelectFromModel\n",
    "sel_ = SelectFromModel(LogisticRegression(C=1, penalty='l1', solver = 'liblinear'))\n",
    "sel_.fit(x, y)\n",
    "sel_.get_support()"
   ]
  },
  {
   "cell_type": "code",
   "execution_count": 240,
   "metadata": {},
   "outputs": [
    {
     "data": {
      "text/plain": [
       "Index(['SEX', 'EDUCATION', 'MARRIAGE', 'AGE_BIN', 'PAY_1', 'PAY_2', 'PAY_3',\n",
       "       'PAY_4', 'PAY_5', 'PAY_6', 'PAY_AMT1', 'billpercredit1',\n",
       "       'billpercredit2', 'billpercredit3', 'billpercredit4', 'billpercredit5',\n",
       "       'billpercredit6'],\n",
       "      dtype='object')"
      ]
     },
     "execution_count": 240,
     "metadata": {},
     "output_type": "execute_result"
    }
   ],
   "source": [
    "# print the names of features that are selected\n",
    "selected_feat= x.columns[(sel_.get_support())]\n",
    "selected_feat\n"
   ]
  },
  {
   "cell_type": "markdown",
   "metadata": {},
   "source": [
    "- From the Forward Regression, the top 5 features to select are LIMIT_BAL, MARRIAGE, PAY_1, PAY_3, PAY_6.\n",
    "- From the Backward Elimination (Recursive Feature Elimination), the top 5 features are PAY_1, PAY_3, PAY_6, billpercredit2, billpercredit6.\n",
    "- From the Lasso Regularisation, we know that the important features are SEX, EDUCATION, MARRIAGE, AGE_BIN, PAY_1 TO PAY_6, and billpercredit1 to billpercredit6.\n",
    "- From these feature selection techniques, we know that the potential features we are adding into the model will be LIMIT_BAL, MARRIAGE, PAY_1, PAY_3, PAY_6, billpercredit2, billpercredit6, and the categorical variables of EDUCATION that generated a very low p-value in the Chi-Square Test."
   ]
  },
  {
   "cell_type": "markdown",
   "metadata": {},
   "source": [
    "# Model After Feature Selection and before taking into account the imbalance of the data"
   ]
  },
  {
   "cell_type": "markdown",
   "metadata": {},
   "source": [
    "After we selected the features, we will run all the models again and check the evaluation scores again. \n",
    "\n",
    "This help to give us a rough understanding if we need to further manipulate the training dataset to better predict on the test dataset\n"
   ]
  },
  {
   "cell_type": "code",
   "execution_count": 241,
   "metadata": {},
   "outputs": [],
   "source": [
    "predictor_to_use = ['LIMIT_BAL', 'MARRIAGE', 'EDUCATION', 'PAY_1',  'PAY_3', 'PAY_6', 'billpercredit2', 'billpercredit6']\n",
    "y = df[target]\n",
    "\n",
    "x_train = train_df[predictor_to_use]\n",
    "y_train = train_df[target]\n",
    "x_test = test_df[predictor_to_use]\n",
    "y_test = test_df[target]\n",
    "\n",
    "xtrain_scaler = MinMaxScaler().fit_transform(x_train)\n",
    "xtest_scaler = MinMaxScaler().fit_transform(x_test)"
   ]
  },
  {
   "cell_type": "code",
   "execution_count": 242,
   "metadata": {},
   "outputs": [
    {
     "name": "stdout",
     "output_type": "stream",
     "text": [
      "Confusion Matrix: \n",
      " [[5578  254]\n",
      " [1147  521]]\n",
      "              precision    recall  f1-score   support\n",
      "\n",
      "           0       0.83      0.96      0.89      5832\n",
      "           1       0.67      0.31      0.43      1668\n",
      "\n",
      "    accuracy                           0.81      7500\n",
      "   macro avg       0.75      0.63      0.66      7500\n",
      "weighted avg       0.79      0.81      0.79      7500\n",
      "\n",
      "Accuracy: 0.8132\n",
      "Average Class Accuracy: 0.6343986539163731\n",
      "Recall/Sensitivity/True Positive Rate: 0.31235011990407674\n",
      "Precision: 0.672258064516129\n",
      "F1 Score: 0.4265247646336472\n"
     ]
    }
   ],
   "source": [
    "# svm\n",
    "# use 'rbf' as kernel\n",
    "svc = SVC(kernel='rbf', C=1)\n",
    "best_model = svc.fit(xtrain_scaler, y_train)                       # Fitting model with xtrain_scaler and y_train\n",
    "svc_pred_mms = best_model.predict(xtest_scaler)    # Predicting the results\n",
    "\n",
    "conf_metr = confusion_matrix(y_test, svc_pred_mms)\n",
    "print(\"Confusion Matrix: \\n {}\".format(conf_metr))\n",
    "print(metrics.classification_report(y_test,svc_pred_mms))\n",
    "print(\"Accuracy:\",metrics.accuracy_score(y_test, svc_pred_mms))\n",
    "print(\"Average Class Accuracy:\",metrics.balanced_accuracy_score(y_test, svc_pred_mms))\n",
    "print(\"Recall/Sensitivity/True Positive Rate:\",metrics.recall_score(y_test, svc_pred_mms))\n",
    "print(\"Precision:\",metrics.precision_score(y_test, svc_pred_mms))\n",
    "print(\"F1 Score:\",metrics.f1_score(y_test, svc_pred_mms))"
   ]
  },
  {
   "cell_type": "code",
   "execution_count": 243,
   "metadata": {},
   "outputs": [
    {
     "name": "stdout",
     "output_type": "stream",
     "text": [
      "Confusion Matrix: \n",
      " [[5550  282]\n",
      " [1139  529]]\n",
      "              precision    recall  f1-score   support\n",
      "\n",
      "           0       0.83      0.95      0.89      5832\n",
      "           1       0.65      0.32      0.43      1668\n",
      "\n",
      "    accuracy                           0.81      7500\n",
      "   macro avg       0.74      0.63      0.66      7500\n",
      "weighted avg       0.79      0.81      0.78      7500\n",
      "\n",
      "Accuracy: 0.8105333333333333\n",
      "Average Class Accuracy: 0.6343961867543002\n",
      "Recall/Sensitivity/True Positive Rate: 0.31714628297362113\n",
      "Precision: 0.6522811344019729\n",
      "F1 Score: 0.4267849939491731\n"
     ]
    }
   ],
   "source": [
    "# neural network\n",
    "model = MLPClassifier(activation='relu', solver='adam', random_state=0, hidden_layer_sizes=(16,12,10), batch_size=200)\n",
    "params={'alpha':[0.2, 0.205, 0.21, 0.215,0.22], 'max_iter':[220, 225, 230]}\n",
    "\n",
    "gsv = GridSearchCV(model, params , cv=5, n_jobs=-1, scoring='balanced_accuracy')\n",
    "best_model = gsv.fit(xtrain_scaler, y_train)\n",
    "nn_pred_mms = best_model.best_estimator_.predict(xtest_scaler)\n",
    "\n",
    "conf_metr = confusion_matrix(y_test, nn_pred_mms)\n",
    "print(\"Confusion Matrix: \\n {}\".format(conf_metr))\n",
    "print(metrics.classification_report(y_test,nn_pred_mms))\n",
    "print(\"Accuracy:\",metrics.accuracy_score(y_test, nn_pred_mms))\n",
    "print(\"Average Class Accuracy:\",metrics.balanced_accuracy_score(y_test, nn_pred_mms))\n",
    "print(\"Recall/Sensitivity/True Positive Rate:\",metrics.recall_score(y_test, nn_pred_mms))\n",
    "print(\"Precision:\",metrics.precision_score(y_test, nn_pred_mms))\n",
    "print(\"F1 Score:\",metrics.f1_score(y_test, nn_pred_mms))\n"
   ]
  },
  {
   "cell_type": "code",
   "execution_count": 244,
   "metadata": {},
   "outputs": [
    {
     "name": "stdout",
     "output_type": "stream",
     "text": [
      "Best HyperParameter:  {'n_neighbors': 15}\n",
      "Confusion Matrix: \n",
      " [[5486  346]\n",
      " [1083  585]]\n",
      "              precision    recall  f1-score   support\n",
      "\n",
      "           0       0.84      0.94      0.88      5832\n",
      "           1       0.63      0.35      0.45      1668\n",
      "\n",
      "    accuracy                           0.81      7500\n",
      "   macro avg       0.73      0.65      0.67      7500\n",
      "weighted avg       0.79      0.81      0.79      7500\n",
      "\n",
      "Accuracy: 0.8094666666666667\n",
      "Average Class Accuracy: 0.6456957890477741\n",
      "Recall/Sensitivity/True Positive Rate: 0.35071942446043164\n",
      "Precision: 0.6283566058002148\n",
      "F1 Score: 0.45017314351673715\n"
     ]
    }
   ],
   "source": [
    "# KNN\n",
    "model = KNeighborsClassifier()\n",
    "n_neighbors = range(1, 21, 2)\n",
    "\n",
    "grid = dict(n_neighbors=n_neighbors)\n",
    "gsv = GridSearchCV(estimator=model, param_grid=grid, n_jobs=-1, cv=5, scoring='balanced_accuracy',error_score=0)\n",
    "best_model = gsv.fit(xtrain_scaler, y_train)\n",
    "knn_pred = best_model.predict(xtest_scaler)\n",
    "\n",
    "print(\"Best HyperParameter: \",gsv.best_params_)\n",
    "conf_metr = metrics.confusion_matrix(y_test, knn_pred)\n",
    "print(\"Confusion Matrix: \\n {}\".format(conf_metr))\n",
    "print(metrics.classification_report(y_test,knn_pred))\n",
    "print(\"Accuracy:\",metrics.accuracy_score(y_test, knn_pred))\n",
    "print(\"Average Class Accuracy:\",metrics.balanced_accuracy_score(y_test, knn_pred))\n",
    "print(\"Recall/Sensitivity/True Positive Rate:\",metrics.recall_score(y_test, knn_pred))\n",
    "print(\"Precision:\",metrics.precision_score(y_test, knn_pred))\n",
    "print(\"F1 Score:\",metrics.f1_score(y_test, knn_pred))\n"
   ]
  },
  {
   "cell_type": "code",
   "execution_count": 245,
   "metadata": {},
   "outputs": [
    {
     "name": "stdout",
     "output_type": "stream",
     "text": [
      "Fitting 5 folds for each of 5 candidates, totalling 25 fits\n",
      "Confusion Matrix: \n",
      " [[5584  248]\n",
      " [1180  488]]\n",
      "              precision    recall  f1-score   support\n",
      "\n",
      "           0       0.83      0.96      0.89      5832\n",
      "           1       0.66      0.29      0.41      1668\n",
      "\n",
      "    accuracy                           0.81      7500\n",
      "   macro avg       0.74      0.63      0.65      7500\n",
      "weighted avg       0.79      0.81      0.78      7500\n",
      "\n",
      "Accuracy: 0.8096\n",
      "Average Class Accuracy: 0.6250209708776189\n",
      "Recall/Sensitivity/True Positive Rate: 0.29256594724220625\n",
      "Precision: 0.6630434782608695\n",
      "F1 Score: 0.4059900166389351\n"
     ]
    }
   ],
   "source": [
    "# Logistic Regression\n",
    "c_val = [0.1,0.5,1.0,2.0,3.0]\n",
    "\n",
    "logreg = LogisticRegression(solver = 'liblinear')\n",
    "hyperParam = [{'C':c_val}]\n",
    "\n",
    "gsv = GridSearchCV(logreg,hyperParam,cv=5,verbose=1, scoring='balanced_accuracy')\n",
    "best_model = gsv.fit(xtrain_scaler, y_train)                       # Fitting model with xtrain_scaler and y_train\n",
    "logreg_pred_mms = best_model.best_estimator_.predict(xtest_scaler) # Predicting the results\n",
    "\n",
    "\n",
    "conf_metr = confusion_matrix(y_test, logreg_pred_mms)\n",
    "print(\"Confusion Matrix: \\n {}\".format(conf_metr))\n",
    "print(metrics.classification_report(y_test,logreg_pred_mms))\n",
    "print(\"Accuracy:\",metrics.accuracy_score(y_test, logreg_pred_mms))\n",
    "print(\"Average Class Accuracy:\",metrics.balanced_accuracy_score(y_test, logreg_pred_mms))\n",
    "print(\"Recall/Sensitivity/True Positive Rate:\",metrics.recall_score(y_test, logreg_pred_mms))\n",
    "print(\"Precision:\",metrics.precision_score(y_test, logreg_pred_mms))\n",
    "print(\"F1 Score:\",metrics.f1_score(y_test, logreg_pred_mms))\n",
    "\n"
   ]
  },
  {
   "cell_type": "code",
   "execution_count": 246,
   "metadata": {},
   "outputs": [
    {
     "name": "stdout",
     "output_type": "stream",
     "text": [
      "Fitting 5 folds for each of 8 candidates, totalling 40 fits\n"
     ]
    }
   ],
   "source": [
    "# Random Forest\n",
    "estimators = [10,50,80,100,150,200,250,300]\n",
    "\n",
    "rf = RandomForestClassifier(max_depth=3,random_state=5)\n",
    "hyperParam = [{'n_estimators':estimators}]\n",
    "\n",
    "gsv = GridSearchCV(rf,hyperParam,cv=5,verbose=1, scoring='balanced_accuracy')\n",
    "best_model = gsv.fit(xtrain_scaler, y_train)                       # Fitting model with xtrain_scaler and y_train\n",
    "rf_pred_mms = best_model.best_estimator_.predict(xtest_scaler)\n"
   ]
  },
  {
   "cell_type": "code",
   "execution_count": 247,
   "metadata": {},
   "outputs": [
    {
     "name": "stdout",
     "output_type": "stream",
     "text": [
      "Confusion Matrix: \n",
      " [[5588  244]\n",
      " [1156  512]]\n",
      "              precision    recall  f1-score   support\n",
      "\n",
      "           0       0.83      0.96      0.89      5832\n",
      "           1       0.68      0.31      0.42      1668\n",
      "\n",
      "    accuracy                           0.81      7500\n",
      "   macro avg       0.75      0.63      0.66      7500\n",
      "weighted avg       0.79      0.81      0.78      7500\n",
      "\n",
      "Accuracy: 0.8133333333333334\n",
      "Average Class Accuracy: 0.6325581510100562\n",
      "Recall/Sensitivity/True Positive Rate: 0.3069544364508393\n",
      "Precision: 0.6772486772486772\n",
      "F1 Score: 0.4224422442244224\n"
     ]
    }
   ],
   "source": [
    "\n",
    "conf_metr = confusion_matrix(y_test, rf_pred_mms)\n",
    "print(\"Confusion Matrix: \\n {}\".format(conf_metr))\n",
    "print(metrics.classification_report(y_test,rf_pred_mms))\n",
    "print(\"Accuracy:\",metrics.accuracy_score(y_test, rf_pred_mms))\n",
    "print(\"Average Class Accuracy:\",metrics.balanced_accuracy_score(y_test, rf_pred_mms))\n",
    "print(\"Recall/Sensitivity/True Positive Rate:\",metrics.recall_score(y_test, rf_pred_mms))\n",
    "print(\"Precision:\",metrics.precision_score(y_test, rf_pred_mms))\n",
    "print(\"F1 Score:\",metrics.f1_score(y_test, rf_pred_mms))"
   ]
  },
  {
   "cell_type": "code",
   "execution_count": 248,
   "metadata": {},
   "outputs": [
    {
     "name": "stdout",
     "output_type": "stream",
     "text": [
      "Fitting 5 folds for each of 8 candidates, totalling 40 fits\n",
      "Confusion Matrix: \n",
      " [[5496  336]\n",
      " [1133  535]]\n",
      "              precision    recall  f1-score   support\n",
      "\n",
      "           0       0.83      0.94      0.88      5832\n",
      "           1       0.61      0.32      0.42      1668\n",
      "\n",
      "    accuracy                           0.80      7500\n",
      "   macro avg       0.72      0.63      0.65      7500\n",
      "weighted avg       0.78      0.80      0.78      7500\n",
      "\n",
      "Accuracy: 0.8041333333333334\n",
      "Average Class Accuracy: 0.6315651182757498\n",
      "Recall/Sensitivity/True Positive Rate: 0.3207434052757794\n",
      "Precision: 0.6142365097588978\n",
      "F1 Score: 0.4214257581725088\n"
     ]
    }
   ],
   "source": [
    "#xgboost\n",
    "xgb = XGBClassifier()\n",
    "estimators = [10,50,80,100,150,200,250,300]\n",
    "hyperParam = [{'n_estimators':estimators}]\n",
    "gsv = GridSearchCV(xgb,hyperParam,cv=5,verbose=1)\n",
    "best_model = gsv.fit(xtrain_scaler, y_train)                      \n",
    "xgb_pred_mms = best_model.best_estimator_.predict(xtest_scaler)  \n",
    "\n",
    "conf_metr = confusion_matrix(y_test, xgb_pred_mms)\n",
    "print(\"Confusion Matrix: \\n {}\".format(conf_metr))\n",
    "print(metrics.classification_report(y_test,xgb_pred_mms))\n",
    "print(\"Accuracy:\",metrics.accuracy_score(y_test, xgb_pred_mms))\n",
    "print(\"Average Class Accuracy:\",metrics.balanced_accuracy_score(y_test, xgb_pred_mms))\n",
    "print(\"Recall/Sensitivity/True Positive Rate:\",metrics.recall_score(y_test, xgb_pred_mms))\n",
    "print(\"Precision:\",metrics.precision_score(y_test, xgb_pred_mms))\n",
    "print(\"F1 Score:\",metrics.f1_score(y_test, xgb_pred_mms))"
   ]
  },
  {
   "cell_type": "markdown",
   "metadata": {},
   "source": [
    "Before we do feature selection we observe some insights from the models \n",
    "  \n",
    "- We can see that all the evaluation statistics have improved after feature selection. This means that the features we choose from the model indeed is able to improve our model\n",
    "- However, we still have yet to solve the problem of an imbalanced dataset. Having an accuracy more than 80% may not be a reliable indicator of the matrix. If a model predicts all 0, then they are able to have 80% accuracy as well.\n",
    "- Even though all the evaluation statistics have improved, we notice that the recall and average class accuracy is still relatively low, thus we will look to improve these after balancing the data.\n",
    "  \n",
    "To obtain a more reliable evaluation, we will balance the data and run the models again \n"
   ]
  },
  {
   "cell_type": "markdown",
   "metadata": {},
   "source": [
    "# Data Pre-processing part 2"
   ]
  },
  {
   "cell_type": "code",
   "execution_count": 249,
   "metadata": {},
   "outputs": [],
   "source": [
    "predictor_to_use = ['LIMIT_BAL', 'MARRIAGE', 'EDUCATION', 'PAY_1',  'PAY_3', 'PAY_6', 'billpercredit2', 'billpercredit6']\n",
    "y = df[target]\n",
    "\n",
    "x_train = train_df[predictor_to_use]\n",
    "y_train = train_df[target]\n",
    "x_test = test_df[predictor_to_use]\n",
    "y_test = test_df[target]\n"
   ]
  },
  {
   "cell_type": "markdown",
   "metadata": {},
   "source": [
    "## Using SMOTE to deal with unbalanced target data"
   ]
  },
  {
   "cell_type": "markdown",
   "metadata": {},
   "source": [
    "From the previous section, we found that there is an imbalance of data, the default and non-default roughly have an 8:2 ratio, which will cause misleading accuracy scores by our model. A model is able to predict up to 80% accuracy even if it predicts all “0”, thus SMOTE is used to balance the training dataset given."
   ]
  },
  {
   "cell_type": "code",
   "execution_count": 250,
   "metadata": {},
   "outputs": [
    {
     "name": "stdout",
     "output_type": "stream",
     "text": [
      "Before OverSampling, counts of label '1': 4968\n",
      "Before OverSampling, counts of label '0': 17532 \n",
      "\n",
      "After OverSampling, the shape of train_X: (35064, 8)\n",
      "After OverSampling, the shape of train_y: (35064,) \n",
      "\n",
      "After OverSampling, counts of label '1': 17532\n",
      "After OverSampling, counts of label '0': 17532\n"
     ]
    }
   ],
   "source": [
    "print(\"Before OverSampling, counts of label '1': {}\".format(sum(y_train == 1)))\n",
    "print(\"Before OverSampling, counts of label '0': {} \\n\".format(sum(y_train == 0)))\n",
    "  \n",
    "\n",
    "from imblearn.over_sampling import SMOTE\n",
    "\n",
    "\n",
    "sm = SMOTE(random_state = 2)\n",
    "x_train = np.array(x_train)\n",
    "x_train_res, y_train_res = sm.fit_resample(x_train, y_train.ravel())\n",
    "  \n",
    "print('After OverSampling, the shape of train_X: {}'.format(x_train_res.shape))\n",
    "print('After OverSampling, the shape of train_y: {} \\n'.format(y_train_res.shape))\n",
    "  \n",
    "print(\"After OverSampling, counts of label '1': {}\".format(sum(y_train_res == 1)))\n",
    "print(\"After OverSampling, counts of label '0': {}\".format(sum(y_train_res == 0)))"
   ]
  },
  {
   "cell_type": "markdown",
   "metadata": {},
   "source": [
    "Plot the distribution of the target variable before and after SMOTE"
   ]
  },
  {
   "cell_type": "code",
   "execution_count": 251,
   "metadata": {},
   "outputs": [
    {
     "data": {
      "text/plain": [
       "<AxesSubplot:ylabel='count'>"
      ]
     },
     "execution_count": 251,
     "metadata": {},
     "output_type": "execute_result"
    },
    {
     "data": {
      "image/png": "[encoded data removed]",
      "text/plain": [
       "<Figure size 432x288 with 1 Axes>"
      ]
     },
     "metadata": {
      "needs_background": "light"
     },
     "output_type": "display_data"
    }
   ],
   "source": [
    "sns.countplot(y_train_res)"
   ]
  },
  {
   "cell_type": "markdown",
   "metadata": {},
   "source": []
  },
  {
   "cell_type": "code",
   "execution_count": 252,
   "metadata": {},
   "outputs": [],
   "source": [
    "xtrain_scaler = MinMaxScaler().fit_transform(x_train_res)\n",
    "y_train = y_train_res\n",
    "xtest_scaler = MinMaxScaler().fit_transform(x_test)"
   ]
  },
  {
   "cell_type": "markdown",
   "metadata": {},
   "source": [
    "## SVM (Support Vector Machine)"
   ]
  },
  {
   "cell_type": "markdown",
   "metadata": {},
   "source": [
    "Tuned Model with transformed data:"
   ]
  },
  {
   "cell_type": "code",
   "execution_count": 253,
   "metadata": {},
   "outputs": [
    {
     "name": "stdout",
     "output_type": "stream",
     "text": [
      "Fitting 5 folds for each of 4 candidates, totalling 20 fits\n",
      "Best HyperParameter:  {'kernel': 'rbf'}\n",
      "Best Average Accuracy : 0.6846966870947686\n"
     ]
    }
   ],
   "source": [
    "kernels = ['rbf','linear','poly','sigmoid']\n",
    "\n",
    "svc = SVC()\n",
    "hyperParam = [{'kernel':kernels}]\n",
    "\n",
    "gsv = GridSearchCV(svc,hyperParam,cv=5,verbose=1, scoring='balanced_accuracy')\n",
    "best_model = gsv.fit(xtrain_scaler, y_train)                       # Fitting model with xtrain_scaler and y_train\n",
    "svc_pred_mms = best_model.best_estimator_.predict(xtest_scaler)    # Predicting the results\n",
    "\n",
    "print(\"Best HyperParameter: \",gsv.best_params_)\n",
    "print(\"Best Average Accuracy :\",best_model.score(xtest_scaler, y_test))"
   ]
  },
  {
   "cell_type": "markdown",
   "metadata": {},
   "source": [
    "The candidate HyperParameters selected are ‘rbf’, ‘linear’, ‘poly’ and ‘sigmoid’. Using GridSearchCV, the best HyperParameter found is ‘rbf’ (Gaussian Kernel Radial Basis Function). \n",
    "\n",
    "This makes sense in theory as rbf, or Radial Kernel is able to deal with overlapping data. It can find Support Vector Classifiers with infinite dimensions.\n"
   ]
  },
  {
   "cell_type": "markdown",
   "metadata": {},
   "source": [
    "Confusion Matrix Tuned Model with transformed data:"
   ]
  },
  {
   "cell_type": "code",
   "execution_count": 254,
   "metadata": {},
   "outputs": [
    {
     "name": "stdout",
     "output_type": "stream",
     "text": [
      "Confusion Matrix: \n",
      " [[4878  954]\n",
      " [ 779  889]]\n",
      "              precision    recall  f1-score   support\n",
      "\n",
      "           0       0.86      0.84      0.85      5832\n",
      "           1       0.48      0.53      0.51      1668\n",
      "\n",
      "    accuracy                           0.77      7500\n",
      "   macro avg       0.67      0.68      0.68      7500\n",
      "weighted avg       0.78      0.77      0.77      7500\n",
      "\n",
      "Accuracy: 0.7689333333333334\n",
      "Average Class Accuracy: 0.6846966870947686\n",
      "Recall/Sensitivity/True Positive Rate: 0.5329736211031175\n",
      "Precision: 0.48236570808464463\n",
      "F1 Score: 0.5064084306465395\n"
     ]
    },
    {
     "data": {
      "image/png": "[encoded data removed]",
      "text/plain": [
       "<Figure size 432x288 with 2 Axes>"
      ]
     },
     "metadata": {
      "needs_background": "light"
     },
     "output_type": "display_data"
    }
   ],
   "source": [
    "\n",
    "ConfusionMatrixDisplay.from_estimator(gsv, xtest_scaler, y_test)\n",
    "conf_metr = confusion_matrix(y_test, svc_pred_mms)\n",
    "\n",
    "print(\"Confusion Matrix: \\n {}\".format(conf_metr))\n",
    "print(metrics.classification_report(y_test,svc_pred_mms))\n",
    "print(\"Accuracy:\",metrics.accuracy_score(y_test, svc_pred_mms))\n",
    "print(\"Average Class Accuracy:\",metrics.balanced_accuracy_score(y_test, svc_pred_mms))\n",
    "print(\"Recall/Sensitivity/True Positive Rate:\",metrics.recall_score(y_test, svc_pred_mms))\n",
    "print(\"Precision:\",metrics.precision_score(y_test, svc_pred_mms))\n",
    "print(\"F1 Score:\",metrics.f1_score(y_test, svc_pred_mms))"
   ]
  },
  {
   "cell_type": "code",
   "execution_count": 255,
   "metadata": {},
   "outputs": [
    {
     "data": {
      "text/plain": [
       "<sklearn.metrics._plot.roc_curve.RocCurveDisplay at 0x7f79a9417280>"
      ]
     },
     "execution_count": 255,
     "metadata": {},
     "output_type": "execute_result"
    },
    {
     "data": {
      "image/png": "[encoded data removed]",
      "text/plain": [
       "<Figure size 432x288 with 1 Axes>"
      ]
     },
     "metadata": {
      "needs_background": "light"
     },
     "output_type": "display_data"
    }
   ],
   "source": [
    "# ROC Curve:\n",
    "RocCurveDisplay.from_estimator(gsv, xtest_scaler, y_test)"
   ]
  },
  {
   "cell_type": "markdown",
   "metadata": {},
   "source": [
    "## MLP Classifier (Neural Network)"
   ]
  },
  {
   "cell_type": "markdown",
   "metadata": {},
   "source": [
    "Tuning the model with transformed data:"
   ]
  },
  {
   "cell_type": "code",
   "execution_count": 256,
   "metadata": {},
   "outputs": [
    {
     "name": "stdout",
     "output_type": "stream",
     "text": [
      "Best HyperParameter:  {'alpha': 0.2, 'max_iter': 220}\n",
      "Best Average Accuracy : 0.6900966880816335\n"
     ]
    }
   ],
   "source": [
    "#Fitting the model while tuning the best hyperparameters\n",
    "\n",
    "model = MLPClassifier(activation='relu', solver='adam', random_state=0, hidden_layer_sizes=(16,12,10), batch_size=200)\n",
    "\n",
    "params={'alpha':[0.2, 0.205, 0.21, 0.215,0.22], 'max_iter':[220, 225, 230]}\n",
    "\n",
    "gsv = GridSearchCV(model, params , cv=5, n_jobs=-1, scoring='balanced_accuracy')\n",
    "best_model = gsv.fit(xtrain_scaler, y_train)\n",
    "nn_pred_mms = best_model.best_estimator_.predict(xtest_scaler)\n",
    "\n",
    "print(\"Best HyperParameter: \", gsv.best_params_)\n",
    "print(\"Best Average Accuracy :\", gsv.score(xtest_scaler, y_test))"
   ]
  },
  {
   "cell_type": "markdown",
   "metadata": {},
   "source": [
    "The candidate parameters for penalty term alpha are 0.2, 0.205, 0.21, 0.215 and 0.22. Using GridSearchCV, the best penalty strength selected is 0.2. A relatively high alpha as compared to default 0.001 may solve the problem of high variance by encouraging smaller weights, so as the probability of overfitting is reduced.\n",
    "\n",
    "The candidate maximum iterations is between 220, 225 and 230. Using GridSearchCV, the best maximum iterations is 220. This means that the solver will only iterate up to 220 times until convergence."
   ]
  },
  {
   "cell_type": "markdown",
   "metadata": {},
   "source": [
    "Confusion Matrix Tuned Model with transformed data:"
   ]
  },
  {
   "cell_type": "code",
   "execution_count": 257,
   "metadata": {},
   "outputs": [
    {
     "name": "stdout",
     "output_type": "stream",
     "text": [
      "Confusion Matrix: \n",
      " [[4927  905]\n",
      " [ 775  893]]\n",
      "              precision    recall  f1-score   support\n",
      "\n",
      "           0       0.86      0.84      0.85      5832\n",
      "           1       0.50      0.54      0.52      1668\n",
      "\n",
      "    accuracy                           0.78      7500\n",
      "   macro avg       0.68      0.69      0.68      7500\n",
      "weighted avg       0.78      0.78      0.78      7500\n",
      "\n",
      "Accuracy: 0.776\n",
      "Average Class Accuracy: 0.6900966880816335\n",
      "Recall/Sensitivity/True Positive Rate: 0.5353717026378897\n",
      "Precision: 0.4966629588431591\n",
      "F1 Score: 0.5152914021927294\n"
     ]
    },
    {
     "data": {
      "image/png": "[encoded data removed]",
      "text/plain": [
       "<Figure size 432x288 with 2 Axes>"
      ]
     },
     "metadata": {
      "needs_background": "light"
     },
     "output_type": "display_data"
    }
   ],
   "source": [
    "# Flip the confusion matrix so that TP is in the top left and TN is in the bottom right\n",
    "ConfusionMatrixDisplay.from_estimator(gsv, xtest_scaler, y_test)\n",
    "conf_metr = confusion_matrix(y_test, nn_pred_mms)\n",
    "\n",
    "print(\"Confusion Matrix: \\n {}\".format(conf_metr))\n",
    "print(metrics.classification_report(y_test,nn_pred_mms))\n",
    "print(\"Accuracy:\",metrics.accuracy_score(y_test, nn_pred_mms))\n",
    "print(\"Average Class Accuracy:\",metrics.balanced_accuracy_score(y_test, nn_pred_mms))\n",
    "print(\"Recall/Sensitivity/True Positive Rate:\",metrics.recall_score(y_test, nn_pred_mms))\n",
    "print(\"Precision:\",metrics.precision_score(y_test, nn_pred_mms))\n",
    "print(\"F1 Score:\",metrics.f1_score(y_test, nn_pred_mms))\n"
   ]
  },
  {
   "cell_type": "code",
   "execution_count": 258,
   "metadata": {},
   "outputs": [
    {
     "data": {
      "text/plain": [
       "<sklearn.metrics._plot.roc_curve.RocCurveDisplay at 0x7f79da5845b0>"
      ]
     },
     "execution_count": 258,
     "metadata": {},
     "output_type": "execute_result"
    },
    {
     "data": {
      "image/png": "[encoded data removed]",
      "text/plain": [
       "<Figure size 432x288 with 1 Axes>"
      ]
     },
     "metadata": {
      "needs_background": "light"
     },
     "output_type": "display_data"
    }
   ],
   "source": [
    "# ROC Curve:\n",
    "RocCurveDisplay.from_estimator(gsv, xtest_scaler, y_test)"
   ]
  },
  {
   "cell_type": "markdown",
   "metadata": {},
   "source": [
    "## KNN"
   ]
  },
  {
   "cell_type": "markdown",
   "metadata": {},
   "source": [
    "Check for which K, model is generating more accuracy, using transformed train and test data"
   ]
  },
  {
   "cell_type": "code",
   "execution_count": 259,
   "metadata": {},
   "outputs": [
    {
     "name": "stdout",
     "output_type": "stream",
     "text": [
      "Best HyperParameter:  {'metric': 'manhattan', 'n_neighbors': 7, 'weights': 'distance'}\n",
      "Best Average Accuracy : 0.6538318727733863\n"
     ]
    }
   ],
   "source": [
    "model = KNeighborsClassifier()\n",
    "n_neighbors = range(1, 21, 2)\n",
    "weights = ['uniform', 'distance']\n",
    "metric = ['euclidean', 'manhattan', 'minkowski']\n",
    "\n",
    "grid = dict(n_neighbors=n_neighbors,weights=weights,metric=metric)\n",
    "cv = RepeatedStratifiedKFold(n_splits=10, n_repeats=3, random_state=1)\n",
    "gsv = GridSearchCV(estimator=model, param_grid=grid, n_jobs=-1, cv=cv, scoring='balanced_accuracy',error_score=0)\n",
    "best_model = gsv.fit(xtrain_scaler, y_train)\n",
    "knn_pred = best_model.predict(xtest_scaler)\n",
    "\n",
    "print(\"Best HyperParameter: \",gsv.best_params_)\n",
    "print(\"Best Average Accuracy :\",best_model.score(xtest_scaler, y_test))"
   ]
  },
  {
   "cell_type": "markdown",
   "metadata": {},
   "source": [
    "The candidate closest number of neighbours is ranged from 1 to 21. Using GridSearchCV, the best estimator number of neighbours selected is 7, which will produce the highest accuracy among all options.\n",
    "\n",
    "The candidate distance metrics of finding the distance between neighbours are Euclidean Distance, Manhattan Distance, and Minkowski Distance. Using GridSearchCV, the best distance metrics is Manhattan Distance, which has a formula of |x_i - y_i| .\n"
   ]
  },
  {
   "cell_type": "markdown",
   "metadata": {},
   "source": [
    "### Confusion Matrix of model with transformed data"
   ]
  },
  {
   "cell_type": "code",
   "execution_count": 260,
   "metadata": {},
   "outputs": [
    {
     "name": "stdout",
     "output_type": "stream",
     "text": [
      "Confusion Matrix: \n",
      " [[4997  835]\n",
      " [ 916  752]]\n",
      "              precision    recall  f1-score   support\n",
      "\n",
      "           0       0.85      0.86      0.85      5832\n",
      "           1       0.47      0.45      0.46      1668\n",
      "\n",
      "    accuracy                           0.77      7500\n",
      "   macro avg       0.66      0.65      0.66      7500\n",
      "weighted avg       0.76      0.77      0.76      7500\n",
      "\n",
      "Accuracy: 0.7665333333333333\n",
      "Average Class Accuracy: 0.6538318727733863\n",
      "Recall/Sensitivity/True Positive Rate: 0.45083932853717024\n",
      "Precision: 0.47385003150598615\n",
      "F1 Score: 0.46205837173579106\n"
     ]
    },
    {
     "data": {
      "image/png": "[encoded data removed]",
      "text/plain": [
       "<Figure size 432x288 with 2 Axes>"
      ]
     },
     "metadata": {
      "needs_background": "light"
     },
     "output_type": "display_data"
    }
   ],
   "source": [
    "ConfusionMatrixDisplay.from_estimator(gsv, xtest_scaler, y_test)\n",
    "conf_metr = metrics.confusion_matrix(y_test, knn_pred)\n",
    "print(\"Confusion Matrix: \\n {}\".format(conf_metr))\n",
    "print(metrics.classification_report(y_test,knn_pred))\n",
    "print(\"Accuracy:\",metrics.accuracy_score(y_test, knn_pred))\n",
    "print(\"Average Class Accuracy:\",metrics.balanced_accuracy_score(y_test, knn_pred))\n",
    "print(\"Recall/Sensitivity/True Positive Rate:\",metrics.recall_score(y_test, knn_pred))\n",
    "print(\"Precision:\",metrics.precision_score(y_test, knn_pred))\n",
    "print(\"F1 Score:\",metrics.f1_score(y_test, knn_pred))"
   ]
  },
  {
   "cell_type": "code",
   "execution_count": 261,
   "metadata": {},
   "outputs": [
    {
     "data": {
      "text/plain": [
       "<sklearn.metrics._plot.roc_curve.RocCurveDisplay at 0x7f79d9c87760>"
      ]
     },
     "execution_count": 261,
     "metadata": {},
     "output_type": "execute_result"
    },
    {
     "data": {
      "image/png": "[encoded data removed]",
      "text/plain": [
       "<Figure size 432x288 with 1 Axes>"
      ]
     },
     "metadata": {
      "needs_background": "light"
     },
     "output_type": "display_data"
    }
   ],
   "source": [
    "# ROC Curve:\n",
    "RocCurveDisplay.from_estimator(gsv, xtest_scaler, y_test)"
   ]
  },
  {
   "cell_type": "markdown",
   "metadata": {},
   "source": [
    "## Logistic Regression"
   ]
  },
  {
   "cell_type": "markdown",
   "metadata": {},
   "source": [
    "HyperParamter Tuned model with transformed training and testing data"
   ]
  },
  {
   "cell_type": "code",
   "execution_count": 262,
   "metadata": {},
   "outputs": [
    {
     "name": "stdout",
     "output_type": "stream",
     "text": [
      "Fitting 5 folds for each of 5 candidates, totalling 25 fits\n",
      "Best HyperParameter:  {'C': 0.1}\n",
      "Best Average Accuracy : 0.6886410624586751\n"
     ]
    }
   ],
   "source": [
    "c_val = [0.1,0.5,1.0,2.0,3.0]\n",
    "\n",
    "logreg = LogisticRegression(solver = 'liblinear')\n",
    "hyperParam = [{'C':c_val}]\n",
    "\n",
    "gsv = GridSearchCV(logreg,hyperParam,cv=5,verbose=1, scoring='balanced_accuracy')\n",
    "best_model = gsv.fit(xtrain_scaler, y_train)                       # Fitting model with xtrain_scaler and y_train\n",
    "logreg_pred_mms = best_model.best_estimator_.predict(xtest_scaler) # Predicting the results\n",
    "\n",
    "print(\"Best HyperParameter: \",gsv.best_params_)\n",
    "print(\"Best Average Accuracy :\",best_model.score(xtest_scaler, y_test))"
   ]
  },
  {
   "cell_type": "markdown",
   "metadata": {},
   "source": [
    "The candidate C value – penalty strength selected are 0.1,0.5,1.0,2.0, and 3.0. Using GridSearchCV, the best penalty strength selected is 0.1. A low value of C tells the model to give lower weight to the training data, in order to prevent overfitting.\n"
   ]
  },
  {
   "cell_type": "markdown",
   "metadata": {},
   "source": [
    "Confusion Matrix of model with transformed data"
   ]
  },
  {
   "cell_type": "code",
   "execution_count": 263,
   "metadata": {},
   "outputs": [
    {
     "name": "stdout",
     "output_type": "stream",
     "text": [
      "Confusion Matrix: \n",
      " [[4931  901]\n",
      " [ 781  887]]\n",
      "              precision    recall  f1-score   support\n",
      "\n",
      "           0       0.86      0.85      0.85      5832\n",
      "           1       0.50      0.53      0.51      1668\n",
      "\n",
      "    accuracy                           0.78      7500\n",
      "   macro avg       0.68      0.69      0.68      7500\n",
      "weighted avg       0.78      0.78      0.78      7500\n",
      "\n",
      "Accuracy: 0.7757333333333334\n",
      "Average Class Accuracy: 0.6886410624586751\n",
      "Recall/Sensitivity/True Positive Rate: 0.5317745803357314\n",
      "Precision: 0.4960850111856823\n",
      "F1 Score: 0.5133101851851852\n"
     ]
    },
    {
     "data": {
      "image/png": "[encoded data removed]",
      "text/plain": [
       "<Figure size 432x288 with 2 Axes>"
      ]
     },
     "metadata": {
      "needs_background": "light"
     },
     "output_type": "display_data"
    }
   ],
   "source": [
    "\n",
    "ConfusionMatrixDisplay.from_estimator(gsv,xtest_scaler, y_test)\n",
    "conf_metr = confusion_matrix(y_test, logreg_pred_mms)\n",
    "\n",
    "print(\"Confusion Matrix: \\n {}\".format(conf_metr))\n",
    "print(metrics.classification_report(y_test,logreg_pred_mms))\n",
    "print(\"Accuracy:\",metrics.accuracy_score(y_test, logreg_pred_mms))\n",
    "print(\"Average Class Accuracy:\",metrics.balanced_accuracy_score(y_test, logreg_pred_mms))\n",
    "print(\"Recall/Sensitivity/True Positive Rate:\",metrics.recall_score(y_test, logreg_pred_mms))\n",
    "print(\"Precision:\",metrics.precision_score(y_test, logreg_pred_mms))\n",
    "print(\"F1 Score:\",metrics.f1_score(y_test, logreg_pred_mms))"
   ]
  },
  {
   "cell_type": "code",
   "execution_count": 264,
   "metadata": {},
   "outputs": [
    {
     "data": {
      "text/plain": [
       "<sklearn.metrics._plot.roc_curve.RocCurveDisplay at 0x7f79b055bd60>"
      ]
     },
     "execution_count": 264,
     "metadata": {},
     "output_type": "execute_result"
    },
    {
     "data": {
      "image/png": "[encoded data removed]",
      "text/plain": [
       "<Figure size 432x288 with 1 Axes>"
      ]
     },
     "metadata": {
      "needs_background": "light"
     },
     "output_type": "display_data"
    }
   ],
   "source": [
    "# ROC Curve:\n",
    "RocCurveDisplay.from_estimator(gsv, xtest_scaler, y_test)"
   ]
  },
  {
   "cell_type": "markdown",
   "metadata": {},
   "source": [
    "## Random Forest:"
   ]
  },
  {
   "cell_type": "markdown",
   "metadata": {},
   "source": [
    "Hyperparameter Tuned Random Forest with transformed data:"
   ]
  },
  {
   "cell_type": "code",
   "execution_count": 265,
   "metadata": {},
   "outputs": [
    {
     "name": "stdout",
     "output_type": "stream",
     "text": [
      "Fitting 5 folds for each of 8 candidates, totalling 40 fits\n"
     ]
    }
   ],
   "source": [
    "estimators = [10,50,80,100,150,200,250,300]\n",
    "\n",
    "rf = RandomForestClassifier(max_depth=3,random_state=5)\n",
    "hyperParam = [{'n_estimators':estimators}]\n",
    "\n",
    "gsv = GridSearchCV(rf,hyperParam,cv=5,verbose=1, scoring='balanced_accuracy')\n",
    "best_model = gsv.fit(xtrain_scaler, y_train)                       # Fitting model with xtrain_scaler and y_train\n",
    "rf_pred_mms = best_model.best_estimator_.predict(xtest_scaler)     # Predicting the results\n"
   ]
  },
  {
   "cell_type": "code",
   "execution_count": 266,
   "metadata": {},
   "outputs": [
    {
     "name": "stdout",
     "output_type": "stream",
     "text": [
      "Best HyperParameter:  {'n_estimators': 50}\n",
      "Best Average Accuracy : 0.6904248206373174\n"
     ]
    }
   ],
   "source": [
    "print(\"Best HyperParameter: \",gsv.best_params_)\n",
    "print(\"Best Average Accuracy :\",best_model.score(xtest_scaler, y_test))"
   ]
  },
  {
   "cell_type": "markdown",
   "metadata": {},
   "source": [
    "The candidate estimator sizes selected are 10,50,80,100,150,200,250, and 300. Using GridSearchCV, the best estimator size (number of trees in the random forest) selected is 50. \n",
    "\n",
    "Performance of Random Forest drastically increases when tree sizes increase from 10 to 50, and remains almost the same when tree sizes continue to increase. Hence, to prevent overfitting, we choose 50 as the estimator size.\n"
   ]
  },
  {
   "cell_type": "markdown",
   "metadata": {},
   "source": [
    "Confusion Matrix of Hyperparameter Tuned Random Forest model with transformed data:"
   ]
  },
  {
   "cell_type": "code",
   "execution_count": 267,
   "metadata": {},
   "outputs": [
    {
     "name": "stdout",
     "output_type": "stream",
     "text": [
      "Confusion Matrix: \n",
      " [[4763 1069]\n",
      " [ 727  941]]\n",
      "              precision    recall  f1-score   support\n",
      "\n",
      "           0       0.87      0.82      0.84      5832\n",
      "           1       0.47      0.56      0.51      1668\n",
      "\n",
      "    accuracy                           0.76      7500\n",
      "   macro avg       0.67      0.69      0.68      7500\n",
      "weighted avg       0.78      0.76      0.77      7500\n",
      "\n",
      "Accuracy: 0.7605333333333333\n",
      "Average Class Accuracy: 0.6904248206373174\n",
      "Recall/Sensitivity/True Positive Rate: 0.5641486810551559\n",
      "Precision: 0.4681592039800995\n",
      "F1 Score: 0.5116911364872214\n"
     ]
    },
    {
     "data": {
      "image/png": "[encoded data removed]",
      "text/plain": [
       "<Figure size 432x288 with 2 Axes>"
      ]
     },
     "metadata": {
      "needs_background": "light"
     },
     "output_type": "display_data"
    }
   ],
   "source": [
    "ConfusionMatrixDisplay.from_estimator(gsv, xtest_scaler, y_test)\n",
    "conf_metr = confusion_matrix(y_test, rf_pred_mms)\n",
    "\n",
    "print(\"Confusion Matrix: \\n {}\".format(conf_metr))\n",
    "print(metrics.classification_report(y_test,rf_pred_mms))\n",
    "print(\"Accuracy:\",metrics.accuracy_score(y_test, rf_pred_mms))\n",
    "print(\"Average Class Accuracy:\",metrics.balanced_accuracy_score(y_test, rf_pred_mms))\n",
    "print(\"Recall/Sensitivity/True Positive Rate:\",metrics.recall_score(y_test, rf_pred_mms))\n",
    "print(\"Precision:\",metrics.precision_score(y_test, rf_pred_mms))\n",
    "print(\"F1 Score:\",metrics.f1_score(y_test, rf_pred_mms))"
   ]
  },
  {
   "cell_type": "code",
   "execution_count": 268,
   "metadata": {},
   "outputs": [
    {
     "data": {
      "text/plain": [
       "<sklearn.metrics._plot.roc_curve.RocCurveDisplay at 0x7f79d9c801c0>"
      ]
     },
     "execution_count": 268,
     "metadata": {},
     "output_type": "execute_result"
    },
    {
     "data": {
      "image/png": "[encoded data removed]",
      "text/plain": [
       "<Figure size 432x288 with 1 Axes>"
      ]
     },
     "metadata": {
      "needs_background": "light"
     },
     "output_type": "display_data"
    }
   ],
   "source": [
    "# ROC Curve:\n",
    "RocCurveDisplay.from_estimator(gsv, xtest_scaler, y_test)"
   ]
  },
  {
   "cell_type": "markdown",
   "metadata": {},
   "source": [
    "## XGBoost"
   ]
  },
  {
   "cell_type": "markdown",
   "metadata": {},
   "source": [
    "Extra model that we tried is XGBoost, but due to the page limit, we will not be able to include the results here. However, we will include the code for XGBoost below."
   ]
  },
  {
   "cell_type": "code",
   "execution_count": 269,
   "metadata": {},
   "outputs": [
    {
     "name": "stdout",
     "output_type": "stream",
     "text": [
      "Fitting 5 folds for each of 8 candidates, totalling 40 fits\n",
      "Best HyperParameter:  {'n_estimators': 100}\n",
      "Best Average Accuracy : 0.7752\n"
     ]
    }
   ],
   "source": [
    "from xgboost import XGBClassifier\n",
    "\n",
    "xgb = XGBClassifier()\n",
    "estimators = [10,50,80,100,150,200,250,300]\n",
    "hyperParam = [{'n_estimators':estimators}]\n",
    "gsv = GridSearchCV(xgb,hyperParam,cv=5,verbose=1)\n",
    "best_model = gsv.fit(xtrain_scaler, y_train)                      \n",
    "xgb_pred_mms = best_model.best_estimator_.predict(xtest_scaler)  \n",
    "\n",
    "print(\"Best HyperParameter: \",gsv.best_params_)\n",
    "print(\"Best Average Accuracy :\",best_model.score(xtest_scaler, y_test))\n"
   ]
  },
  {
   "cell_type": "code",
   "execution_count": 270,
   "metadata": {},
   "outputs": [
    {
     "name": "stdout",
     "output_type": "stream",
     "text": [
      "Confusion Matrix: \n",
      " [[5228  604]\n",
      " [1082  586]]\n",
      "              precision    recall  f1-score   support\n",
      "\n",
      "           0       0.83      0.90      0.86      5832\n",
      "           1       0.49      0.35      0.41      1668\n",
      "\n",
      "    accuracy                           0.78      7500\n",
      "   macro avg       0.66      0.62      0.64      7500\n",
      "weighted avg       0.75      0.78      0.76      7500\n",
      "\n",
      "Accuracy: 0.7752\n",
      "Average Class Accuracy: 0.6238762076758346\n",
      "Recall/Sensitivity/True Positive Rate: 0.3513189448441247\n",
      "Precision: 0.492436974789916\n",
      "F1 Score: 0.4100769769069279\n"
     ]
    },
    {
     "data": {
      "image/png": "[encoded data removed]",
      "text/plain": [
       "<Figure size 432x288 with 2 Axes>"
      ]
     },
     "metadata": {
      "needs_background": "light"
     },
     "output_type": "display_data"
    }
   ],
   "source": [
    "# Confusion Matrix\n",
    "ConfusionMatrixDisplay.from_estimator(gsv, xtest_scaler, y_test)\n",
    "conf_metr = confusion_matrix(y_test, xgb_pred_mms)\n",
    "\n",
    "print(\"Confusion Matrix: \\n {}\".format(conf_metr))\n",
    "print(metrics.classification_report(y_test,xgb_pred_mms))\n",
    "print(\"Accuracy:\",metrics.accuracy_score(y_test, xgb_pred_mms))\n",
    "print(\"Average Class Accuracy:\",metrics.balanced_accuracy_score(y_test, xgb_pred_mms))\n",
    "print(\"Recall/Sensitivity/True Positive Rate:\",metrics.recall_score(y_test, xgb_pred_mms))\n",
    "print(\"Precision:\",metrics.precision_score(y_test, xgb_pred_mms))\n",
    "print(\"F1 Score:\",metrics.f1_score(y_test, xgb_pred_mms))"
   ]
  },
  {
   "cell_type": "code",
   "execution_count": 271,
   "metadata": {},
   "outputs": [
    {
     "data": {
      "text/plain": [
       "<sklearn.metrics._plot.roc_curve.RocCurveDisplay at 0x7f79b0555850>"
      ]
     },
     "execution_count": 271,
     "metadata": {},
     "output_type": "execute_result"
    },
    {
     "data": {
      "image/png": "[encoded data removed]",
      "text/plain": [
       "<Figure size 432x288 with 1 Axes>"
      ]
     },
     "metadata": {
      "needs_background": "light"
     },
     "output_type": "display_data"
    }
   ],
   "source": [
    "# ROC Curve:\n",
    "RocCurveDisplay.from_estimator(gsv, xtest_scaler, y_test)\n"
   ]
  },
  {
   "cell_type": "markdown",
   "metadata": {},
   "source": [
    "# Model Evaluation"
   ]
  },
  {
   "cell_type": "markdown",
   "metadata": {},
   "source": [
    "Model Comparison\n",
    "Best Models: MLP Classifier and Random Forest  \n",
    "  \n",
    "- These are the best models to predict for default and non default in terms of average class accuracy and F1 score. \n",
    "- These are the models that we want to consider using for default and non default payment\n",
    "- MLP Classifier: It has the highest accuracy, F1 score and recall. It also have the second highest average class accuracy\n",
    "- Random Forest: It has the highest average class accuracy. Even though it perform poorly for other metrics, since we are trying to find the model that have the best average class accuracy, we will consider random forest as one of the better models\n",
    "- Potential Reason:\n",
    "    - Both model are able to work with large datasets well\n",
    "  \n",
    "Worst Model: K – Nearest – Neighbour  \n",
    "  \n",
    "- This is the worst model to predict for default and non default  in terms of average class accuracy and F1 score. \n",
    "- This model perform the worse in terms of average class accuracy, F1 score and ROC. \n",
    "- Thus, we will not want to use this moel to predict for default and non default payments\n",
    "- Potential Reasons:\n",
    "    - Does not work well with the dataset as it is too huge\n",
    "    - There are noise in the data or outlier which KNN is very sensitive to.\n",
    "  "
   ]
  }
 ],
 "metadata": {
  "kernelspec": {
   "display_name": "Python 3.9.6 64-bit",
   "language": "python",
   "name": "python3"
  },
  "language_info": {
   "codemirror_mode": {
    "name": "ipython",
    "version": 3
   },
   "file_extension": ".py",
   "mimetype": "text/x-python",
   "name": "python",
   "nbconvert_exporter": "python",
   "pygments_lexer": "ipython3",
   "version": "3.9.6"
  },
  "orig_nbformat": 4,
  "vscode": {
   "interpreter": {
    "hash": "aee8b7b246df8f9039afb4144a1f6fd8d2ca17a180786b69acc140d282b71a49"
   }
  }
 },
 "nbformat": 4,
 "nbformat_minor": 2
}
